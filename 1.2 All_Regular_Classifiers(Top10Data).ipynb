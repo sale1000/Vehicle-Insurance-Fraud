{
 "cells": [
  {
   "cell_type": "code",
   "execution_count": 1,
   "id": "611db72b",
   "metadata": {
    "id": "611db72b"
   },
   "outputs": [],
   "source": [
    "import pandas as pd\n",
    "import numpy as np\n",
    "import seaborn as sns\n",
    "import matplotlib.pyplot as plt\n",
    "from sklearn import preprocessing\n",
    "from sklearn.preprocessing import StandardScaler,MinMaxScaler\n",
    "from sklearn.model_selection import train_test_split\n",
    "from sklearn.linear_model import LogisticRegression, LogisticRegressionCV\n",
    "from sklearn import metrics\n",
    "from dmba import classificationSummary,regressionSummary\n",
    "from sklearn.pipeline import make_pipeline, Pipeline\n",
    "from imblearn.under_sampling import RandomUnderSampler\n",
    "from imblearn.over_sampling import SMOTE, BorderlineSMOTE, SVMSMOTE\n",
    "from imblearn.pipeline import Pipeline as SamplingPipeline\n",
    "from sklearn.tree import DecisionTreeClassifier, BaseDecisionTree\n",
    "\n",
    "from sklearn.ensemble import BaggingClassifier, AdaBoostClassifier\n",
    "from sklearn.neighbors import KNeighborsClassifier, KNeighborsRegressor\n",
    "from sklearn import svm\n",
    "from collections import Counter\n",
    "\n",
    "from sklearn.preprocessing import LabelEncoder, OrdinalEncoder\n",
    "from sklearn.feature_selection import SelectKBest, chi2\n",
    "\n",
    "from dmba import backward_elimination, forward_selection, stepwise_selection\n",
    "from dmba import adjusted_r2_score, AIC_score, BIC_score"
   ]
  },
  {
   "cell_type": "code",
   "execution_count": 2,
   "id": "1afcff22",
   "metadata": {
    "id": "1afcff22",
    "outputId": "f7a8edae-fcdf-42e7-d0ce-74725e0e9b59"
   },
   "outputs": [
    {
     "name": "stdout",
     "output_type": "stream",
     "text": [
      "(15420, 33)\n"
     ]
    }
   ],
   "source": [
    "# Reading in the data.\n",
    "data = pd.read_csv(\"./fraud_oracle.csv\")\n",
    "print(data.shape)\n",
    "\n",
    "RunSVM = True"
   ]
  },
  {
   "cell_type": "code",
   "execution_count": 3,
   "id": "f41428c8",
   "metadata": {
    "id": "f41428c8",
    "outputId": "45014fb2-289b-4a57-f41d-298801d05fd4"
   },
   "outputs": [
    {
     "name": "stdout",
     "output_type": "stream",
     "text": [
      "0.05985732814526589\n"
     ]
    }
   ],
   "source": [
    "#Analyzing the propensity of being a fraud\n",
    "count = data.loc[data['FraudFound_P'] == 1].shape[0]\n",
    "print(count/data.shape[0])"
   ]
  },
  {
   "cell_type": "code",
   "execution_count": 4,
   "id": "5676bba6",
   "metadata": {
    "id": "5676bba6"
   },
   "outputs": [],
   "source": [
    "#Subsetting the dataset: Fraud and NonFraud\n",
    "Fraud = data[data[\"FraudFound_P\"] == 1]\n",
    "Nonfraud = data[data[\"FraudFound_P\"] == 0]"
   ]
  },
  {
   "cell_type": "markdown",
   "id": "263bfc01",
   "metadata": {
    "id": "263bfc01"
   },
   "source": [
    "The propensity of fraud is 5% in the data. This is a low and we may need to consider sampling of data when dividing data as test and training data."
   ]
  },
  {
   "cell_type": "markdown",
   "id": "fed3e55d",
   "metadata": {
    "id": "fed3e55d"
   },
   "source": [
    "**Feature Selection**"
   ]
  },
  {
   "cell_type": "code",
   "execution_count": 5,
   "id": "cd474857",
   "metadata": {
    "id": "cd474857",
    "outputId": "49d5366a-4dd6-4622-ea9f-656a59c37e6f"
   },
   "outputs": [
    {
     "data": {
      "text/plain": [
       "Index(['Month', 'WeekOfMonth', 'DayOfWeek', 'Make', 'AccidentArea',\n",
       "       'DayOfWeekClaimed', 'MonthClaimed', 'WeekOfMonthClaimed', 'Sex',\n",
       "       'MaritalStatus', 'Age', 'Fault', 'PolicyType', 'VehicleCategory',\n",
       "       'VehiclePrice', 'FraudFound_P', 'PolicyNumber', 'RepNumber',\n",
       "       'Deductible', 'DriverRating', 'Days_Policy_Accident',\n",
       "       'Days_Policy_Claim', 'PastNumberOfClaims', 'AgeOfVehicle',\n",
       "       'AgeOfPolicyHolder', 'PoliceReportFiled', 'WitnessPresent', 'AgentType',\n",
       "       'NumberOfSuppliments', 'AddressChange_Claim', 'NumberOfCars', 'Year',\n",
       "       'BasePolicy'],\n",
       "      dtype='object')"
      ]
     },
     "execution_count": 5,
     "metadata": {},
     "output_type": "execute_result"
    }
   ],
   "source": [
    "data.columns"
   ]
  },
  {
   "cell_type": "code",
   "execution_count": 6,
   "id": "a4aa6d4a",
   "metadata": {
    "id": "a4aa6d4a",
    "outputId": "8bff796c-2808-4b06-e6f9-88c8adbfaa57"
   },
   "outputs": [
    {
     "name": "stdout",
     "output_type": "stream",
     "text": [
      "(15420, 25)\n"
     ]
    }
   ],
   "source": [
    "#Filtering out 8 features applying manual selection\n",
    "data = data.drop(['PolicyNumber', 'DayOfWeek', 'Month','WeekOfMonth',\n",
    "                  'AgeOfPolicyHolder', 'Year', 'NumberOfSuppliments', \n",
    "                  'AddressChange_Claim'], axis=1)\n",
    "print(data.shape)"
   ]
  },
  {
   "cell_type": "code",
   "execution_count": 7,
   "id": "0b808583",
   "metadata": {
    "id": "0b808583",
    "outputId": "a7f40225-0a10-45ad-c407-64124e1c0a35"
   },
   "outputs": [
    {
     "data": {
      "text/plain": [
       "(array([ 320.,    0.,  497., 3572., 3895., 3012., 2224., 1111.,  485.,\n",
       "         304.]),\n",
       " array([ 0.,  8., 16., 24., 32., 40., 48., 56., 64., 72., 80.]),\n",
       " <BarContainer object of 10 artists>)"
      ]
     },
     "execution_count": 7,
     "metadata": {},
     "output_type": "execute_result"
    },
    {
     "data": {
      "image/png": "[encoded data removed]",
      "text/plain": [
       "<Figure size 640x480 with 1 Axes>"
      ]
     },
     "metadata": {},
     "output_type": "display_data"
    }
   ],
   "source": [
    "#Covert Age to category after dropping age under under 18\n",
    "plt.hist(data['Age'])"
   ]
  },
  {
   "cell_type": "code",
   "execution_count": 8,
   "id": "a0301787",
   "metadata": {
    "id": "a0301787",
    "outputId": "181326e2-a6d5-4b3b-c545-e7ee421dae89"
   },
   "outputs": [
    {
     "data": {
      "text/plain": [
       "0     320\n",
       "16      9\n",
       "17      6\n",
       "Name: Age, dtype: int64"
      ]
     },
     "execution_count": 8,
     "metadata": {},
     "output_type": "execute_result"
    }
   ],
   "source": [
    "data.loc[data['Age'] < 18]['Age'].value_counts()"
   ]
  },
  {
   "cell_type": "markdown",
   "id": "9ada63e5",
   "metadata": {
    "id": "9ada63e5"
   },
   "source": [
    "We need to drop rows with indicies of values 0 as they are incorrect. There are records with age values zero. Its best to drop these and convert age to a range."
   ]
  },
  {
   "cell_type": "code",
   "execution_count": 9,
   "id": "eeeb7a0a",
   "metadata": {
    "id": "eeeb7a0a"
   },
   "outputs": [],
   "source": [
    "indicies = data.loc[data['Age'] == 0].index\n",
    "#print(indicies)\n",
    "#print(indicies.shape)"
   ]
  },
  {
   "cell_type": "code",
   "execution_count": 10,
   "id": "dbaaa56a",
   "metadata": {
    "id": "dbaaa56a",
    "outputId": "91221d45-fece-421d-e8e0-599033cd0b10"
   },
   "outputs": [
    {
     "name": "stdout",
     "output_type": "stream",
     "text": [
      "(15100, 25)\n"
     ]
    }
   ],
   "source": [
    "data = data.drop(labels=indicies)\n",
    "print(data.shape)\n",
    "#data.head()"
   ]
  },
  {
   "cell_type": "code",
   "execution_count": 11,
   "id": "43f18481",
   "metadata": {
    "id": "43f18481"
   },
   "outputs": [],
   "source": [
    "AgeLabels = ['16-17','18-20','21-25','26-30','31-35','36-40','41-50','51-65','65-100']\n",
    "\n",
    "#print(len(AgeLabels))\n",
    "\n",
    "AgeBins =  [16,18,21,26,31,36,41,51,65,100]\n",
    "\n",
    "#print(len(AgeBins))\n",
    "\n",
    "AgeCategories = pd.cut(data['Age'], bins = AgeBins,labels=AgeLabels)"
   ]
  },
  {
   "cell_type": "code",
   "execution_count": 12,
   "id": "4d968489",
   "metadata": {
    "id": "4d968489",
    "outputId": "7bb6962b-3ae0-46fd-c7b5-1720c3b3b456"
   },
   "outputs": [
    {
     "data": {
      "text/plain": [
       "Index(['Make', 'AccidentArea', 'DayOfWeekClaimed', 'MonthClaimed',\n",
       "       'WeekOfMonthClaimed', 'Sex', 'MaritalStatus', 'Fault', 'PolicyType',\n",
       "       'VehicleCategory', 'VehiclePrice', 'FraudFound_P', 'RepNumber',\n",
       "       'Deductible', 'DriverRating', 'Days_Policy_Accident',\n",
       "       'Days_Policy_Claim', 'PastNumberOfClaims', 'AgeOfVehicle',\n",
       "       'PoliceReportFiled', 'WitnessPresent', 'AgentType', 'NumberOfCars',\n",
       "       'BasePolicy', 'AgeCategories'],\n",
       "      dtype='object')"
      ]
     },
     "execution_count": 12,
     "metadata": {},
     "output_type": "execute_result"
    }
   ],
   "source": [
    "data['AgeCategories'] = AgeCategories\n",
    "data.drop(columns=['Age'],axis=1,inplace=True)\n",
    "\n",
    "data.columns"
   ]
  },
  {
   "cell_type": "code",
   "execution_count": 13,
   "id": "7666b6c9",
   "metadata": {
    "id": "7666b6c9"
   },
   "outputs": [],
   "source": [
    "#Assign input and output data \n",
    "y = data['FraudFound_P']\n",
    "input_var = [x for x in data.columns if x!='FraudFound_P']\n",
    "X = data[input_var].astype(str)"
   ]
  },
  {
   "cell_type": "code",
   "execution_count": 14,
   "id": "68608a67",
   "metadata": {
    "id": "68608a67",
    "outputId": "0c41a00e-af5e-4d7d-eee0-5798afe651eb"
   },
   "outputs": [
    {
     "name": "stdout",
     "output_type": "stream",
     "text": [
      "Train (9060, 24) (9060,)\n",
      "Test (6040, 24) (6040,)\n"
     ]
    }
   ],
   "source": [
    "#Split data into training and validation datasets\n",
    "X_train, X_test, y_train, y_test = train_test_split(X, y, test_size=0.4,\n",
    "                                                    random_state=1)\n",
    "# summarize\n",
    "print('Train', X_train.shape, y_train.shape)\n",
    "print('Test', X_test.shape, y_test.shape)"
   ]
  },
  {
   "cell_type": "code",
   "execution_count": 15,
   "id": "7d7ebb73",
   "metadata": {
    "id": "7d7ebb73"
   },
   "outputs": [],
   "source": [
    "# prepare input data\n",
    "def prepare_inputs(X_train, X_test):\n",
    "\toe = OrdinalEncoder()\n",
    "\toe.fit(X_train)\n",
    "\tX_train_enc = oe.transform(X_train)\n",
    "\tX_test_enc = oe.transform(X_test)\n",
    "\treturn X_train_enc, X_test_enc"
   ]
  },
  {
   "cell_type": "code",
   "execution_count": 16,
   "id": "0040284d",
   "metadata": {
    "id": "0040284d"
   },
   "outputs": [],
   "source": [
    "# prepare target\n",
    "def prepare_targets(y_train, y_test):\n",
    "\tle = LabelEncoder()\n",
    "\tle.fit(y_train)\n",
    "\ty_train_enc = le.transform(y_train)\n",
    "\ty_test_enc = le.transform(y_test)\n",
    "\treturn y_train_enc, y_test_enc"
   ]
  },
  {
   "cell_type": "code",
   "execution_count": 17,
   "id": "34105853",
   "metadata": {
    "id": "34105853"
   },
   "outputs": [],
   "source": [
    "# feature selection\n",
    "def select_features(X_train, y_train, X_test):\n",
    "\tfs = SelectKBest(score_func=chi2, k='all')\n",
    "\tfs.fit(X_train, y_train)\n",
    "\tX_train_fs = fs.transform(X_train)\n",
    "\tX_test_fs = fs.transform(X_test)\n",
    "\treturn X_train_fs, X_test_fs, fs"
   ]
  },
  {
   "cell_type": "code",
   "execution_count": 18,
   "id": "eac8ff17",
   "metadata": {
    "id": "eac8ff17"
   },
   "outputs": [],
   "source": [
    "# prepare input data\n",
    "X_train_enc, X_test_enc = prepare_inputs(X_train, X_test)\n",
    "# prepare output data\n",
    "y_train_enc, y_test_enc = prepare_targets(y_train, y_test)\n",
    "# feature selection\n",
    "X_train_fs, X_test_fs, fs = select_features(X_train_enc, y_train_enc, X_test_enc)"
   ]
  },
  {
   "cell_type": "code",
   "execution_count": 19,
   "id": "b30320b9",
   "metadata": {
    "id": "b30320b9",
    "outputId": "9779a045-1874-4951-aa2d-1307c8d534b4"
   },
   "outputs": [
    {
     "name": "stdout",
     "output_type": "stream",
     "text": [
      "Feature 0: 5.977216\n",
      "Feature 1: 1.246565\n",
      "Feature 2: 1.023801\n",
      "Feature 3: 1.615413\n",
      "Feature 4: 0.799405\n",
      "Feature 5: 1.657577\n",
      "Feature 6: 0.099326\n",
      "Feature 7: 112.947257\n",
      "Feature 8: 40.237777\n",
      "Feature 9: 71.740590\n",
      "Feature 10: 93.132556\n",
      "Feature 11: 0.075305\n",
      "Feature 12: 0.594966\n",
      "Feature 13: 1.471831\n",
      "Feature 14: 0.012558\n",
      "Feature 15: 0.019329\n",
      "Feature 16: 1.179073\n",
      "Feature 17: 2.295835\n",
      "Feature 18: 2.520005\n",
      "Feature 19: 0.139524\n",
      "Feature 20: 6.286047\n",
      "Feature 21: 1.927466\n",
      "Feature 22: 130.515945\n",
      "Feature 23: 4.847505\n"
     ]
    },
    {
     "data": {
      "image/png": "[encoded data removed]",
      "text/plain": [
       "<Figure size 640x480 with 1 Axes>"
      ]
     },
     "metadata": {},
     "output_type": "display_data"
    }
   ],
   "source": [
    "# what are scores for the features\n",
    "for i in range(len(fs.scores_)):\n",
    "\tprint('Feature %d: %f' % (i, fs.scores_[i]))\n",
    " \n",
    "# plot the scores\n",
    "plt.bar([i for i in range(len(fs.scores_))], fs.scores_)\n",
    "plt.show()"
   ]
  },
  {
   "cell_type": "code",
   "execution_count": 20,
   "id": "6aba136d",
   "metadata": {
    "id": "6aba136d",
    "outputId": "c3606841-f803-4e7e-ba02-c85f503ab85d"
   },
   "outputs": [
    {
     "name": "stdout",
     "output_type": "stream",
     "text": [
      "<class 'pandas.core.frame.DataFrame'>\n",
      "Int64Index: 15100 entries, 0 to 15419\n",
      "Data columns (total 25 columns):\n",
      " #   Column                Non-Null Count  Dtype   \n",
      "---  ------                --------------  -----   \n",
      " 0   Make                  15100 non-null  object  \n",
      " 1   AccidentArea          15100 non-null  object  \n",
      " 2   DayOfWeekClaimed      15100 non-null  object  \n",
      " 3   MonthClaimed          15100 non-null  object  \n",
      " 4   WeekOfMonthClaimed    15100 non-null  int64   \n",
      " 5   Sex                   15100 non-null  object  \n",
      " 6   MaritalStatus         15100 non-null  object  \n",
      " 7   Fault                 15100 non-null  object  \n",
      " 8   PolicyType            15100 non-null  object  \n",
      " 9   VehicleCategory       15100 non-null  object  \n",
      " 10  VehiclePrice          15100 non-null  object  \n",
      " 11  FraudFound_P          15100 non-null  int64   \n",
      " 12  RepNumber             15100 non-null  int64   \n",
      " 13  Deductible            15100 non-null  int64   \n",
      " 14  DriverRating          15100 non-null  int64   \n",
      " 15  Days_Policy_Accident  15100 non-null  object  \n",
      " 16  Days_Policy_Claim     15100 non-null  object  \n",
      " 17  PastNumberOfClaims    15100 non-null  object  \n",
      " 18  AgeOfVehicle          15100 non-null  object  \n",
      " 19  PoliceReportFiled     15100 non-null  object  \n",
      " 20  WitnessPresent        15100 non-null  object  \n",
      " 21  AgentType             15100 non-null  object  \n",
      " 22  NumberOfCars          15100 non-null  object  \n",
      " 23  BasePolicy            15100 non-null  object  \n",
      " 24  AgeCategories         15091 non-null  category\n",
      "dtypes: category(1), int64(5), object(19)\n",
      "memory usage: 2.9+ MB\n",
      "None\n"
     ]
    }
   ],
   "source": [
    "print(data.info())"
   ]
  },
  {
   "cell_type": "markdown",
   "id": "d02be30c",
   "metadata": {
    "id": "d02be30c"
   },
   "source": [
    "Best features 5 features : 22: NumberOfCars, 7: Fault, 10: VehiclePrice, 9: VehicleCategory, 8: PolicyType\n",
    "\n",
    "Addional top 5 features: 20: WitnessPresent, 0: Make, 23: BasePolicy , 18:AgeOfVehicle , 17: PastNumberOfClaims"
   ]
  },
  {
   "cell_type": "code",
   "execution_count": 21,
   "id": "d29af5e3",
   "metadata": {
    "id": "d29af5e3"
   },
   "outputs": [],
   "source": [
    " #train model on top 5 and top 10 to learn accuracy\n",
    "data_top5 = data[['NumberOfCars', 'Fault', 'VehiclePrice', 'VehicleCategory', \n",
    "             'PolicyType']] \n",
    "\n",
    "data_top10 = data[['NumberOfCars', 'Fault', 'VehiclePrice', 'VehicleCategory', 'PolicyType',\n",
    "              'WitnessPresent', 'Make', 'BasePolicy' , 'AgeOfVehicle', 'PastNumberOfClaims']]"
   ]
  },
  {
   "cell_type": "code",
   "execution_count": 22,
   "id": "c5d16304",
   "metadata": {
    "id": "c5d16304",
    "outputId": "e78a2db3-2275-4738-f83a-2a5c1cc3350a"
   },
   "outputs": [
    {
     "name": "stdout",
     "output_type": "stream",
     "text": [
      "NumberOfCars_2 vehicles\n",
      "NumberOfCars_3 to 4\n",
      "NumberOfCars_5 to 8\n",
      "NumberOfCars_more than 8\n",
      "Fault_Third Party\n",
      "VehiclePrice_30000 to 39000\n",
      "VehiclePrice_40000 to 59000\n",
      "VehiclePrice_60000 to 69000\n",
      "VehiclePrice_less than 20000\n",
      "VehiclePrice_more than 69000\n",
      "VehicleCategory_Sport\n",
      "VehicleCategory_Utility\n",
      "PolicyType_Sedan - Collision\n",
      "PolicyType_Sedan - Liability\n",
      "PolicyType_Sport - All Perils\n",
      "PolicyType_Sport - Collision\n",
      "PolicyType_Sport - Liability\n",
      "PolicyType_Utility - All Perils\n",
      "PolicyType_Utility - Collision\n",
      "PolicyType_Utility - Liability\n"
     ]
    }
   ],
   "source": [
    "#create dummies \n",
    "data_top5 = pd.get_dummies(data_top5, drop_first=True)\n",
    "for feature in data_top5.columns:\n",
    "    print(feature)"
   ]
  },
  {
   "cell_type": "code",
   "execution_count": 23,
   "id": "95188891",
   "metadata": {
    "id": "95188891",
    "outputId": "11e86c77-1cba-4ef9-e014-76404bfce1b5"
   },
   "outputs": [
    {
     "data": {
      "text/plain": [
       "(15100, 20)"
      ]
     },
     "execution_count": 23,
     "metadata": {},
     "output_type": "execute_result"
    }
   ],
   "source": [
    "data_top5.shape"
   ]
  },
  {
   "cell_type": "markdown",
   "id": "baca9963",
   "metadata": {
    "id": "baca9963"
   },
   "source": [
    "Lets rename our features with white spaces to carry underscores. Example - NumberOfCars_3 to 4 to NumberOfCars_3_to_4."
   ]
  },
  {
   "cell_type": "code",
   "execution_count": 24,
   "id": "4efff508",
   "metadata": {
    "id": "4efff508",
    "outputId": "ebc30c5b-8716-487f-b0cf-0c76b03f1682"
   },
   "outputs": [
    {
     "name": "stdout",
     "output_type": "stream",
     "text": [
      "NumberOfCars_2_vehicles\n",
      "NumberOfCars_3_to_4\n",
      "NumberOfCars_5_to_8\n",
      "NumberOfCars_more_than_8\n",
      "Fault_Third_Party\n",
      "VehiclePrice_30000_to_39000\n",
      "VehiclePrice_40000_to_59000\n",
      "VehiclePrice_60000_to_69000\n",
      "VehiclePrice_less_than_20000\n",
      "VehiclePrice_more_than_69000\n",
      "VehicleCategory_Sport\n",
      "VehicleCategory_Utility\n",
      "PolicyType_Sedan_-_Collision\n",
      "PolicyType_Sedan_-_Liability\n",
      "PolicyType_Sport_-_All_Perils\n",
      "PolicyType_Sport_-_Collision\n",
      "PolicyType_Sport_-_Liability\n",
      "PolicyType_Utility_-_All_Perils\n",
      "PolicyType_Utility_-_Collision\n",
      "PolicyType_Utility_-_Liability\n"
     ]
    }
   ],
   "source": [
    "data_top5.columns = data_top5.columns.str.replace(' ', '_')\n",
    "\n",
    "for feature in data_top5.columns:\n",
    "    print(feature)"
   ]
  },
  {
   "cell_type": "markdown",
   "id": "1b022d91",
   "metadata": {
    "id": "1b022d91"
   },
   "source": [
    "# Training a basic logistic classifier"
   ]
  },
  {
   "cell_type": "code",
   "execution_count": 25,
   "id": "27847ad4",
   "metadata": {
    "id": "27847ad4"
   },
   "outputs": [],
   "source": [
    "X = data_top5\n",
    "y = data['FraudFound_P']"
   ]
  },
  {
   "cell_type": "code",
   "execution_count": 26,
   "id": "d9c7b928",
   "metadata": {
    "id": "d9c7b928",
    "outputId": "7fba050b-5806-4e2d-fc1e-d22224446a90"
   },
   "outputs": [
    {
     "data": {
      "text/plain": [
       "Pipeline(steps=[('scaler', StandardScaler()),\n",
       "                ('LogitRegressor', LogisticRegression())])"
      ]
     },
     "execution_count": 26,
     "metadata": {},
     "output_type": "execute_result"
    }
   ],
   "source": [
    "X_train,X_valid,y_train,y_valid = train_test_split(X,y, train_size=0.6, random_state=15)\n",
    "BasicLogitReg = Pipeline([('scaler',StandardScaler()), ('LogitRegressor',LogisticRegression())])\n",
    "BasicLogitReg.fit(X_train,y_train)"
   ]
  },
  {
   "cell_type": "code",
   "execution_count": 27,
   "id": "4a95e0fe",
   "metadata": {},
   "outputs": [
    {
     "name": "stdout",
     "output_type": "stream",
     "text": [
      "Confusion Matrix (Accuracy 0.9440)\n",
      "\n",
      "       Prediction\n",
      "Actual    0    1\n",
      "     0 8553    0\n",
      "     1  507    0\n",
      "              precision    recall  f1-score   support\n",
      "\n",
      "           0       0.94      1.00      0.97      8553\n",
      "           1       0.00      0.00      0.00       507\n",
      "\n",
      "    accuracy                           0.94      9060\n",
      "   macro avg       0.47      0.50      0.49      9060\n",
      "weighted avg       0.89      0.94      0.92      9060\n",
      "\n",
      "Area under curve is -  0.7973311093538815\n"
     ]
    },
    {
     "name": "stderr",
     "output_type": "stream",
     "text": [
      "C:\\Users\\athimmas\\Anaconda3\\lib\\site-packages\\sklearn\\metrics\\_classification.py:1318: UndefinedMetricWarning: Precision and F-score are ill-defined and being set to 0.0 in labels with no predicted samples. Use `zero_division` parameter to control this behavior.\n",
      "  _warn_prf(average, modifier, msg_start, len(result))\n",
      "C:\\Users\\athimmas\\Anaconda3\\lib\\site-packages\\sklearn\\metrics\\_classification.py:1318: UndefinedMetricWarning: Precision and F-score are ill-defined and being set to 0.0 in labels with no predicted samples. Use `zero_division` parameter to control this behavior.\n",
      "  _warn_prf(average, modifier, msg_start, len(result))\n",
      "C:\\Users\\athimmas\\Anaconda3\\lib\\site-packages\\sklearn\\metrics\\_classification.py:1318: UndefinedMetricWarning: Precision and F-score are ill-defined and being set to 0.0 in labels with no predicted samples. Use `zero_division` parameter to control this behavior.\n",
      "  _warn_prf(average, modifier, msg_start, len(result))\n"
     ]
    }
   ],
   "source": [
    "y_pred = BasicLogitReg.predict(X_train)\n",
    "classificationSummary(y_train,y_pred)\n",
    "\n",
    "y_pred_proba = BasicLogitReg.predict_proba(X_train)[::,1]\n",
    "print(metrics.classification_report(y_train,y_pred))\n",
    "auc = metrics.roc_auc_score(y_train, y_pred_proba)\n",
    "\n",
    "print(\"Area under curve is - \", auc)"
   ]
  },
  {
   "cell_type": "code",
   "execution_count": 28,
   "id": "78d83040",
   "metadata": {
    "id": "78d83040",
    "outputId": "a65cc7e3-991c-4f9f-c345-ad4dc59fbe8a"
   },
   "outputs": [
    {
     "name": "stdout",
     "output_type": "stream",
     "text": [
      "Confusion Matrix (Accuracy 0.9363)\n",
      "\n",
      "       Prediction\n",
      "Actual    0    1\n",
      "     0 5655  385\n",
      "     1    0    0\n",
      "              precision    recall  f1-score   support\n",
      "\n",
      "           0       0.94      1.00      0.97      5655\n",
      "           1       0.00      0.00      0.00       385\n",
      "\n",
      "    accuracy                           0.94      6040\n",
      "   macro avg       0.47      0.50      0.48      6040\n",
      "weighted avg       0.88      0.94      0.91      6040\n",
      "\n",
      "Area under curve is -  0.7708124059848197\n"
     ]
    },
    {
     "name": "stderr",
     "output_type": "stream",
     "text": [
      "C:\\Users\\athimmas\\Anaconda3\\lib\\site-packages\\sklearn\\metrics\\_classification.py:1318: UndefinedMetricWarning: Precision and F-score are ill-defined and being set to 0.0 in labels with no predicted samples. Use `zero_division` parameter to control this behavior.\n",
      "  _warn_prf(average, modifier, msg_start, len(result))\n",
      "C:\\Users\\athimmas\\Anaconda3\\lib\\site-packages\\sklearn\\metrics\\_classification.py:1318: UndefinedMetricWarning: Precision and F-score are ill-defined and being set to 0.0 in labels with no predicted samples. Use `zero_division` parameter to control this behavior.\n",
      "  _warn_prf(average, modifier, msg_start, len(result))\n",
      "C:\\Users\\athimmas\\Anaconda3\\lib\\site-packages\\sklearn\\metrics\\_classification.py:1318: UndefinedMetricWarning: Precision and F-score are ill-defined and being set to 0.0 in labels with no predicted samples. Use `zero_division` parameter to control this behavior.\n",
      "  _warn_prf(average, modifier, msg_start, len(result))\n"
     ]
    }
   ],
   "source": [
    "y_pred = BasicLogitReg.predict(X_valid)\n",
    "classificationSummary(y_pred,y_valid)\n",
    "\n",
    "y_pred_proba = BasicLogitReg.predict_proba(X_valid)[::,1]\n",
    "print(metrics.classification_report(y_valid,y_pred))\n",
    "auc = metrics.roc_auc_score(y_valid, y_pred_proba)\n",
    "\n",
    "print(\"Area under curve is - \", auc)"
   ]
  },
  {
   "cell_type": "code",
   "execution_count": 29,
   "id": "b3883ddf",
   "metadata": {
    "id": "b3883ddf"
   },
   "outputs": [],
   "source": [
    "data_top10 = pd.get_dummies(data_top10, drop_first=True)\n",
    "X = data_top10\n",
    "y = data['FraudFound_P']"
   ]
  },
  {
   "cell_type": "code",
   "execution_count": 30,
   "id": "d552f788",
   "metadata": {
    "id": "d552f788",
    "outputId": "8ef326c6-f947-4e0d-f3fc-3a308e156326"
   },
   "outputs": [
    {
     "data": {
      "text/plain": [
       "Pipeline(steps=[('scaler', StandardScaler()),\n",
       "                ('LogitRegressor', LogisticRegression())])"
      ]
     },
     "execution_count": 30,
     "metadata": {},
     "output_type": "execute_result"
    }
   ],
   "source": [
    "X_train,X_valid,y_train,y_valid = train_test_split(X,y, train_size=0.6, random_state=15)\n",
    "BasicLogitReg2 = Pipeline([('scaler',StandardScaler()), ('LogitRegressor',LogisticRegression())])\n",
    "BasicLogitReg2.fit(X_train,y_train)"
   ]
  },
  {
   "cell_type": "code",
   "execution_count": 31,
   "id": "99119419",
   "metadata": {
    "id": "99119419",
    "outputId": "37d98562-ed26-416b-9adc-24554dac1ab8"
   },
   "outputs": [
    {
     "name": "stdout",
     "output_type": "stream",
     "text": [
      "Confusion Matrix (Accuracy 0.9363)\n",
      "\n",
      "       Prediction\n",
      "Actual    0    1\n",
      "     0 5655  385\n",
      "     1    0    0\n",
      "              precision    recall  f1-score   support\n",
      "\n",
      "           0       0.94      1.00      0.97      5655\n",
      "           1       0.00      0.00      0.00       385\n",
      "\n",
      "    accuracy                           0.94      6040\n",
      "   macro avg       0.47      0.50      0.48      6040\n",
      "weighted avg       0.88      0.94      0.91      6040\n",
      "\n",
      "Area under curve is -  0.7727433486054176\n"
     ]
    },
    {
     "name": "stderr",
     "output_type": "stream",
     "text": [
      "C:\\Users\\athimmas\\Anaconda3\\lib\\site-packages\\sklearn\\metrics\\_classification.py:1318: UndefinedMetricWarning: Precision and F-score are ill-defined and being set to 0.0 in labels with no predicted samples. Use `zero_division` parameter to control this behavior.\n",
      "  _warn_prf(average, modifier, msg_start, len(result))\n",
      "C:\\Users\\athimmas\\Anaconda3\\lib\\site-packages\\sklearn\\metrics\\_classification.py:1318: UndefinedMetricWarning: Precision and F-score are ill-defined and being set to 0.0 in labels with no predicted samples. Use `zero_division` parameter to control this behavior.\n",
      "  _warn_prf(average, modifier, msg_start, len(result))\n",
      "C:\\Users\\athimmas\\Anaconda3\\lib\\site-packages\\sklearn\\metrics\\_classification.py:1318: UndefinedMetricWarning: Precision and F-score are ill-defined and being set to 0.0 in labels with no predicted samples. Use `zero_division` parameter to control this behavior.\n",
      "  _warn_prf(average, modifier, msg_start, len(result))\n"
     ]
    }
   ],
   "source": [
    "y_pred2 = BasicLogitReg2.predict(X_valid)\n",
    "classificationSummary(y_pred2,y_valid)\n",
    "\n",
    "y_pred_proba2 = BasicLogitReg2.predict_proba(X_valid)[::,1]\n",
    "print(metrics.classification_report(y_valid,y_pred2))\n",
    "auc2 = metrics.roc_auc_score(y_valid, y_pred_proba2)\n",
    "\n",
    "print(\"Area under curve is - \", auc2)"
   ]
  },
  {
   "cell_type": "markdown",
   "id": "b996db28",
   "metadata": {},
   "source": [
    "# Our prediction are affected wildy by low sample count. While the samples are very few and the results cannot be trusted. Let try the following sampling methods and various other algorithms -\n",
    "\n",
    "1. Random under sampling\n",
    "2. SMOTE - all varieties\n",
    "3. ADSYN - all varieties"
   ]
  },
  {
   "cell_type": "markdown",
   "id": "9d43c3ff",
   "metadata": {},
   "source": [
    "# Random UnderSampler"
   ]
  },
  {
   "cell_type": "code",
   "execution_count": 32,
   "id": "7e60f69a",
   "metadata": {},
   "outputs": [
    {
     "name": "stdout",
     "output_type": "stream",
     "text": [
      "Counter({0: 14208, 1: 892})\n",
      "Counter({0: 892, 1: 892})\n",
      "Counter({1: 540, 0: 530})\n",
      "Counter({0: 362, 1: 352})\n",
      "Confusion Matrix (Accuracy 0.6961)\n",
      "\n",
      "       Prediction\n",
      "Actual   0   1\n",
      "     0 202 160\n",
      "     1  57 295\n",
      "              precision    recall  f1-score   support\n",
      "\n",
      "           0       0.78      0.56      0.65       362\n",
      "           1       0.65      0.84      0.73       352\n",
      "\n",
      "    accuracy                           0.70       714\n",
      "   macro avg       0.71      0.70      0.69       714\n",
      "weighted avg       0.72      0.70      0.69       714\n",
      "\n"
     ]
    },
    {
     "data": {
      "text/plain": [
       "{'whiskers': [<matplotlib.lines.Line2D at 0x1db4cf8a730>,\n",
       "  <matplotlib.lines.Line2D at 0x1db4cf8aa00>],\n",
       " 'caps': [<matplotlib.lines.Line2D at 0x1db4cf8acd0>,\n",
       "  <matplotlib.lines.Line2D at 0x1db4cf8afa0>],\n",
       " 'boxes': [<matplotlib.lines.Line2D at 0x1db4cf8a460>],\n",
       " 'medians': [<matplotlib.lines.Line2D at 0x1db4cf972b0>],\n",
       " 'fliers': [<matplotlib.lines.Line2D at 0x1db4cf97580>],\n",
       " 'means': []}"
      ]
     },
     "execution_count": 32,
     "metadata": {},
     "output_type": "execute_result"
    },
    {
     "data": {
      "image/png": "[encoded data removed]",
      "text/plain": [
       "<Figure size 640x480 with 1 Axes>"
      ]
     },
     "metadata": {},
     "output_type": "display_data"
    },
    {
     "data": {
      "image/png": "[encoded data removed]",
      "text/plain": [
       "<Figure size 640x480 with 1 Axes>"
      ]
     },
     "metadata": {},
     "output_type": "display_data"
    },
    {
     "data": {
      "image/png": "[encoded data removed]",
      "text/plain": [
       "<Figure size 640x480 with 1 Axes>"
      ]
     },
     "metadata": {},
     "output_type": "display_data"
    }
   ],
   "source": [
    "X = data_top10\n",
    "y = data['FraudFound_P']\n",
    "\n",
    "counter = Counter(y)\n",
    "print(counter)\n",
    "\n",
    "aucTrain_UnderSamplerLogisticRegression = list()\n",
    "aucValid_UnderSamplerLogisticRegression = list()\n",
    "aucFullSet_UnderSamplerLogisticRegression = list()\n",
    "\n",
    "for i in range(1,21):\n",
    "    UnderSampler = RandomUnderSampler(random_state = i)\n",
    "    X_resampled, y_resampled = UnderSampler.fit_resample(X, y)\n",
    "\n",
    "    X_train,X_valid,y_train,y_valid = train_test_split(X_resampled,y_resampled, train_size=0.6, random_state=1)\n",
    "\n",
    "\n",
    "    UnderSample_LogitReg = Pipeline([('scaler',StandardScaler()), ('LogitRegressor',LogisticRegression())])\n",
    "    UnderSample_LogitReg.fit(X_train,y_train)\n",
    "\n",
    "    y_pred = UnderSample_LogitReg.predict(X_train)\n",
    "    \n",
    "    if i == 1:\n",
    "        counter = Counter(y_resampled)\n",
    "        print(counter)\n",
    "        counter = Counter(y_train)\n",
    "        print(counter)\n",
    "        counter = Counter(y_valid)\n",
    "        print(counter)\n",
    "        \n",
    "        #classificationSummary(y_train,y_pred)\n",
    "        #print(metrics.classification_report(y_train,y_pred))\n",
    "\n",
    "        y_pred = UnderSample_LogitReg.predict(X_valid)\n",
    "        classificationSummary(y_valid,y_pred)\n",
    "        print(metrics.classification_report(y_valid,y_pred))\n",
    "    \n",
    "    y_pred_proba = UnderSample_LogitReg.predict_proba(X_train)[::,1]\n",
    "    aucTrain_UnderSamplerLogisticRegression.append(metrics.roc_auc_score(y_train, y_pred_proba))\n",
    "    \n",
    "    y_pred_proba = UnderSample_LogitReg.predict_proba(X_valid)[::,1]\n",
    "    aucValid_UnderSamplerLogisticRegression.append(metrics.roc_auc_score(y_valid, y_pred_proba))\n",
    "    \n",
    "    y_pred_proba = UnderSample_LogitReg.predict_proba(X)[::,1]\n",
    "    aucFullSet_UnderSamplerLogisticRegression.append(metrics.roc_auc_score(y, y_pred_proba))\n",
    "\n",
    "#print(\"Area under curve is - \", aucTrain)\n",
    "#print(\"Area under curve is - \", aucValid)\n",
    "#print(\"Area under curve is - \", aucFullSet)\n",
    "\n",
    "plt.figure()\n",
    "plt.boxplot(aucTrain_UnderSamplerLogisticRegression)\n",
    "plt.figure()\n",
    "plt.boxplot(aucValid_UnderSamplerLogisticRegression)\n",
    "plt.figure()\n",
    "plt.boxplot(aucFullSet_UnderSamplerLogisticRegression)"
   ]
  },
  {
   "cell_type": "code",
   "execution_count": 120,
   "id": "c102d75d",
   "metadata": {},
   "outputs": [],
   "source": [
    "np.mean(aucValid_UnderSamplerLogisticRegression)\n",
    "fp= open(r'./aucValid_UnderSamplerLogisticRegression.txt', 'w')\n",
    "fp.write(str(aucValid_UnderSamplerLogisticRegression))\n",
    "fp.close()"
   ]
  },
  {
   "cell_type": "code",
   "execution_count": 33,
   "id": "0de7994d",
   "metadata": {},
   "outputs": [
    {
     "name": "stdout",
     "output_type": "stream",
     "text": [
      "              precision    recall  f1-score   support\n",
      "\n",
      "           0       0.88      0.59      0.70       530\n",
      "           1       0.69      0.92      0.79       540\n",
      "\n",
      "    accuracy                           0.76      1070\n",
      "   macro avg       0.79      0.75      0.75      1070\n",
      "weighted avg       0.79      0.76      0.75      1070\n",
      "\n",
      "Confusion Matrix (Accuracy 0.7551)\n",
      "\n",
      "       Prediction\n",
      "Actual   0   1\n",
      "     0 311 219\n",
      "     1  43 497\n",
      "Area under curve is -  0.8208927323549965\n"
     ]
    }
   ],
   "source": [
    "y_pred = UnderSample_LogitReg.predict(X_train)\n",
    "print(metrics.classification_report(y_train,y_pred))\n",
    "ClassificationSummary = classificationSummary(y_train,y_pred)\n",
    "ClassificationSummary\n",
    "\n",
    "y_pred_proba = UnderSample_LogitReg.predict_proba(X_train)[::,1]\n",
    "auc = metrics.roc_auc_score(y_train, y_pred_proba)\n",
    "\n",
    "print(\"Area under curve is - \", auc)"
   ]
  },
  {
   "cell_type": "code",
   "execution_count": 34,
   "id": "ac3eae15",
   "metadata": {},
   "outputs": [
    {
     "name": "stdout",
     "output_type": "stream",
     "text": [
      "              precision    recall  f1-score   support\n",
      "\n",
      "           0       0.82      0.60      0.70       362\n",
      "           1       0.68      0.87      0.76       352\n",
      "\n",
      "    accuracy                           0.73       714\n",
      "   macro avg       0.75      0.74      0.73       714\n",
      "weighted avg       0.75      0.73      0.73       714\n",
      "\n",
      "Confusion Matrix (Accuracy 0.7339)\n",
      "\n",
      "       Prediction\n",
      "Actual   0   1\n",
      "     0 219 143\n",
      "     1  47 305\n",
      "Area under curve is -  0.7567373493219488\n"
     ]
    }
   ],
   "source": [
    "y_pred = UnderSample_LogitReg.predict(X_valid)\n",
    "print(metrics.classification_report(y_valid,y_pred))\n",
    "ClassificationSummary = classificationSummary(y_valid,y_pred)\n",
    "ClassificationSummary\n",
    "\n",
    "y_pred_proba = UnderSample_LogitReg.predict_proba(X_valid)[::,1]\n",
    "auc = metrics.roc_auc_score(y_valid, y_pred_proba)\n",
    "\n",
    "print(\"Area under curve is - \", auc)"
   ]
  },
  {
   "cell_type": "code",
   "execution_count": 35,
   "id": "3536f313",
   "metadata": {},
   "outputs": [
    {
     "name": "stdout",
     "output_type": "stream",
     "text": [
      "              precision    recall  f1-score   support\n",
      "\n",
      "           0       0.99      0.60      0.75     14208\n",
      "           1       0.12      0.90      0.22       892\n",
      "\n",
      "    accuracy                           0.62     15100\n",
      "   macro avg       0.56      0.75      0.48     15100\n",
      "weighted avg       0.94      0.62      0.71     15100\n",
      "\n",
      "Confusion Matrix (Accuracy 0.6159)\n",
      "\n",
      "       Prediction\n",
      "Actual    0    1\n",
      "     0 8498 5710\n",
      "     1   90  802\n",
      "Area under curve is -  0.7868756990945542\n"
     ]
    }
   ],
   "source": [
    "y_pred = UnderSample_LogitReg.predict(X)\n",
    "\n",
    "print(metrics.classification_report(y,y_pred))\n",
    "classificationSummary(y,y_pred)\n",
    "\n",
    "y_pred_proba = UnderSample_LogitReg.predict_proba(X)[::,1]\n",
    "auclog_undersample = metrics.roc_auc_score(y, y_pred_proba)\n",
    "\n",
    "print(\"Area under curve is - \", auclog_undersample)"
   ]
  },
  {
   "cell_type": "markdown",
   "id": "f6ae7506",
   "metadata": {},
   "source": [
    "### Trying decision tree classifier - RandomUnderSampler"
   ]
  },
  {
   "cell_type": "code",
   "execution_count": 36,
   "id": "83f3d709",
   "metadata": {},
   "outputs": [
    {
     "name": "stdout",
     "output_type": "stream",
     "text": [
      "Counter({0: 14208, 1: 892})\n",
      "Counter({0: 892, 1: 892})\n",
      "Counter({1: 540, 0: 530})\n",
      "Counter({0: 362, 1: 352})\n",
      "Confusion Matrix (Accuracy 0.8935)\n",
      "\n",
      "       Prediction\n",
      "Actual   0   1\n",
      "     0 486  44\n",
      "     1  70 470\n",
      "              precision    recall  f1-score   support\n",
      "\n",
      "           0       0.87      0.92      0.90       530\n",
      "           1       0.91      0.87      0.89       540\n",
      "\n",
      "    accuracy                           0.89      1070\n",
      "   macro avg       0.89      0.89      0.89      1070\n",
      "weighted avg       0.89      0.89      0.89      1070\n",
      "\n",
      "Area under curve is -  0.9729577218728162\n",
      "Confusion Matrix (Accuracy 0.6779)\n",
      "\n",
      "       Prediction\n",
      "Actual   0   1\n",
      "     0 261 101\n",
      "     1 129 223\n",
      "              precision    recall  f1-score   support\n",
      "\n",
      "           0       0.67      0.72      0.69       362\n",
      "           1       0.69      0.63      0.66       352\n",
      "\n",
      "    accuracy                           0.68       714\n",
      "   macro avg       0.68      0.68      0.68       714\n",
      "weighted avg       0.68      0.68      0.68       714\n",
      "\n",
      "Area under curve is -  0.7002644713711704\n",
      "Confusion Matrix (Accuracy 0.6917)\n",
      "\n",
      "       Prediction\n",
      "Actual    0    1\n",
      "     0 9752 4456\n",
      "     1  199  693\n",
      "              precision    recall  f1-score   support\n",
      "\n",
      "           0       0.98      0.69      0.81     14208\n",
      "           1       0.13      0.78      0.23       892\n",
      "\n",
      "    accuracy                           0.69     15100\n",
      "   macro avg       0.56      0.73      0.52     15100\n",
      "weighted avg       0.93      0.69      0.77     15100\n",
      "\n",
      "Area under curve is -  0.7680762890482973\n"
     ]
    }
   ],
   "source": [
    "X = data_top10\n",
    "y = data['FraudFound_P']\n",
    "\n",
    "counter = Counter(y)\n",
    "print(counter)\n",
    "\n",
    "UnderSampler = RandomUnderSampler()\n",
    "X_resampled, y_resampled = UnderSampler.fit_resample(X, y)\n",
    "\n",
    "counter = Counter(y_resampled)\n",
    "print(counter)\n",
    "\n",
    "X_train,X_valid,y_train,y_valid = train_test_split(X_resampled,y_resampled, train_size=0.6, random_state=1)\n",
    "\n",
    "counter = Counter(y_train)\n",
    "print(counter)\n",
    "counter = Counter(y_valid)\n",
    "print(counter)\n",
    "\n",
    "# single tree\n",
    "defaultTree = DecisionTreeClassifier(random_state=1)\n",
    "defaultTree.fit(X_train, y_train)\n",
    "classes = defaultTree.classes_\n",
    "\n",
    "y_pred = defaultTree.predict(X_train)\n",
    "classificationSummary(y_train, y_pred, class_names=classes)\n",
    "print(metrics.classification_report(y_train,y_pred))\n",
    "y_pred_proba= defaultTree.predict_proba(X_train)[::,1]\n",
    "auc = metrics.roc_auc_score(y_train,y_pred_proba)\n",
    "print(\"Area under curve is - \", auc)\n",
    "\n",
    "y_pred = defaultTree.predict(X_valid)\n",
    "classificationSummary(y_valid, y_pred, class_names=classes)\n",
    "print(metrics.classification_report(y_valid,y_pred))\n",
    "y_pred_proba= defaultTree.predict_proba(X_valid)[::,1]\n",
    "auc = metrics.roc_auc_score(y_valid,y_pred_proba)\n",
    "print(\"Area under curve is - \", auc)\n",
    "\n",
    "y_pred = defaultTree.predict(X)\n",
    "classificationSummary(y, y_pred, class_names=classes)\n",
    "print(metrics.classification_report(y,y_pred))\n",
    "y_pred_proba= defaultTree.predict_proba(X)[::,1]\n",
    "aucTree_undersample = metrics.roc_auc_score(y,y_pred_proba)\n",
    "print(\"Area under curve is - \", aucTree_undersample)"
   ]
  },
  {
   "cell_type": "code",
   "execution_count": 37,
   "id": "4ac5df0d",
   "metadata": {},
   "outputs": [
    {
     "name": "stdout",
     "output_type": "stream",
     "text": [
      "Counter({0: 14208, 1: 892})\n",
      "Counter({0: 892, 1: 892})\n",
      "Counter({1: 540, 0: 530})\n",
      "Counter({0: 362, 1: 352})\n",
      "Confusion Matrix (Accuracy 0.6569)\n",
      "\n",
      "       Prediction\n",
      "Actual   0   1\n",
      "     0 236 126\n",
      "     1 119 233\n",
      "              precision    recall  f1-score   support\n",
      "\n",
      "           0       0.66      0.65      0.66       362\n",
      "           1       0.65      0.66      0.66       352\n",
      "\n",
      "    accuracy                           0.66       714\n",
      "   macro avg       0.66      0.66      0.66       714\n",
      "weighted avg       0.66      0.66      0.66       714\n",
      "\n",
      "Area under curve is -  0.6951908588648918\n"
     ]
    },
    {
     "data": {
      "text/plain": [
       "{'whiskers': [<matplotlib.lines.Line2D at 0x1db4dbc6be0>,\n",
       "  <matplotlib.lines.Line2D at 0x1db4d8f1e80>],\n",
       " 'caps': [<matplotlib.lines.Line2D at 0x1db4d8f1790>,\n",
       "  <matplotlib.lines.Line2D at 0x1db4d8f12e0>],\n",
       " 'boxes': [<matplotlib.lines.Line2D at 0x1db4d8f1f10>],\n",
       " 'medians': [<matplotlib.lines.Line2D at 0x1db4d9170d0>],\n",
       " 'fliers': [<matplotlib.lines.Line2D at 0x1db4d9173a0>],\n",
       " 'means': []}"
      ]
     },
     "execution_count": 37,
     "metadata": {},
     "output_type": "execute_result"
    },
    {
     "data": {
      "image/png": "[encoded data removed]",
      "text/plain": [
       "<Figure size 640x480 with 1 Axes>"
      ]
     },
     "metadata": {},
     "output_type": "display_data"
    }
   ],
   "source": [
    "X = data_top10\n",
    "y = data['FraudFound_P']\n",
    "\n",
    "counter = Counter(y)\n",
    "print(counter)\n",
    "\n",
    "\n",
    "aucValid_UnderSamplerDefaultTree = list()\n",
    "\n",
    "for i in range(0,21):\n",
    "    UnderSampler = RandomUnderSampler(random_state=i)\n",
    "    X_resampled, y_resampled = UnderSampler.fit_resample(X, y)\n",
    "\n",
    "    if i == 1:\n",
    "        counter = Counter(y_resampled)\n",
    "        print(counter)\n",
    "\n",
    "    X_train,X_valid,y_train,y_valid = train_test_split(X_resampled,y_resampled, train_size=0.6, random_state=1)\n",
    "\n",
    "    if i == 1:\n",
    "        counter = Counter(y_train)\n",
    "        print(counter)\n",
    "        counter = Counter(y_valid)\n",
    "        print(counter)\n",
    "\n",
    "    # single tree\n",
    "    defaultTree = DecisionTreeClassifier(random_state=1)\n",
    "    defaultTree.fit(X_train, y_train)\n",
    "    classes = defaultTree.classes_\n",
    "\n",
    "\n",
    "    y_pred = defaultTree.predict(X_valid)\n",
    "    \n",
    "    if i == 1:\n",
    "        classificationSummary(y_valid, y_pred, class_names=classes)\n",
    "        print(metrics.classification_report(y_valid,y_pred))\n",
    "        \n",
    "    y_pred_proba= defaultTree.predict_proba(X_valid)[::,1]\n",
    "    auc = metrics.roc_auc_score(y_valid,y_pred_proba)\n",
    "    aucValid_UnderSamplerDefaultTree.append(auc)\n",
    "\n",
    "print(\"Area under curve is - \", auc)\n",
    "\n",
    "plt.figure()\n",
    "plt.boxplot(aucValid_UnderSamplerDefaultTree)    "
   ]
  },
  {
   "cell_type": "code",
   "execution_count": 121,
   "id": "4a4695f7",
   "metadata": {},
   "outputs": [],
   "source": [
    "np.mean(aucValid_UnderSamplerDefaultTree)\n",
    "\n",
    "fp= open(r'./aucValid_UnderSamplerDefaultTree.txt', 'w')\n",
    "fp.write(str(aucValid_UnderSamplerDefaultTree))\n",
    "fp.close()"
   ]
  },
  {
   "cell_type": "code",
   "execution_count": 38,
   "id": "8b52305a",
   "metadata": {},
   "outputs": [
    {
     "name": "stdout",
     "output_type": "stream",
     "text": [
      "Counter({0: 14208, 1: 892})\n",
      "Counter({0: 892, 1: 892})\n",
      "Counter({1: 540, 0: 530})\n",
      "Counter({0: 362, 1: 352})\n",
      "Confusion Matrix (Accuracy 0.8972)\n",
      "\n",
      "       Prediction\n",
      "Actual   0   1\n",
      "     0 445  85\n",
      "     1  25 515\n",
      "              precision    recall  f1-score   support\n",
      "\n",
      "           0       0.95      0.84      0.89       530\n",
      "           1       0.86      0.95      0.90       540\n",
      "\n",
      "    accuracy                           0.90      1070\n",
      "   macro avg       0.90      0.90      0.90      1070\n",
      "weighted avg       0.90      0.90      0.90      1070\n",
      "\n",
      "Area under curve is -  0.9702900069881202\n",
      "Confusion Matrix (Accuracy 0.6681)\n",
      "\n",
      "       Prediction\n",
      "Actual   0   1\n",
      "     0 222 140\n",
      "     1  97 255\n",
      "              precision    recall  f1-score   support\n",
      "\n",
      "           0       0.70      0.61      0.65       362\n",
      "           1       0.65      0.72      0.68       352\n",
      "\n",
      "    accuracy                           0.67       714\n",
      "   macro avg       0.67      0.67      0.67       714\n",
      "weighted avg       0.67      0.67      0.67       714\n",
      "\n",
      "Area under curve is -  0.712130367905575\n",
      "Confusion Matrix (Accuracy 0.6534)\n",
      "\n",
      "       Prediction\n",
      "Actual    0    1\n",
      "     0 9097 5111\n",
      "     1  122  770\n",
      "              precision    recall  f1-score   support\n",
      "\n",
      "           0       0.99      0.64      0.78     14208\n",
      "           1       0.13      0.86      0.23       892\n",
      "\n",
      "    accuracy                           0.65     15100\n",
      "   macro avg       0.56      0.75      0.50     15100\n",
      "weighted avg       0.94      0.65      0.74     15100\n",
      "\n",
      "Area under curve is -  0.8112566216721205\n"
     ]
    }
   ],
   "source": [
    "X = data_top10\n",
    "y = data['FraudFound_P']\n",
    "\n",
    "counter = Counter(y)\n",
    "print(counter)\n",
    "\n",
    "UnderSampler = RandomUnderSampler()\n",
    "X_resampled, y_resampled = UnderSampler.fit_resample(X, y)\n",
    "\n",
    "counter = Counter(y_resampled)\n",
    "print(counter)\n",
    "\n",
    "X_train,X_valid,y_train,y_valid = train_test_split(X_resampled,y_resampled, train_size=0.6, random_state=1)\n",
    "\n",
    "counter = Counter(y_train)\n",
    "print(counter)\n",
    "counter = Counter(y_valid)\n",
    "print(counter)\n",
    "\n",
    "# bagging\n",
    "bagging = BaggingClassifier(DecisionTreeClassifier(random_state=1),n_estimators=100, random_state=1)\n",
    "bagging.fit(X_train, y_train)\n",
    "classes = bagging.classes_\n",
    "\n",
    "y_pred = bagging.predict(X_train)\n",
    "classificationSummary(y_train, y_pred, class_names=classes)\n",
    "print(metrics.classification_report(y_train,y_pred))\n",
    "y_pred_proba= bagging.predict_proba(X_train)[::,1]\n",
    "auc = metrics.roc_auc_score(y_train,y_pred_proba)\n",
    "print(\"Area under curve is - \", auc)\n",
    "\n",
    "y_pred = bagging.predict(X_valid)\n",
    "classificationSummary(y_valid, y_pred, class_names=classes)\n",
    "print(metrics.classification_report(y_valid,y_pred))\n",
    "y_pred_proba= bagging.predict_proba(X_valid)[::,1]\n",
    "auc = metrics.roc_auc_score(y_valid,y_pred_proba)\n",
    "print(\"Area under curve is - \", auc)\n",
    "\n",
    "y_pred = bagging.predict(X)\n",
    "classificationSummary(y, y_pred, class_names=classes)\n",
    "print(metrics.classification_report(y,y_pred))\n",
    "y_pred_proba= bagging.predict_proba(X)[::,1]\n",
    "aucBag_undersample = metrics.roc_auc_score(y,y_pred_proba)\n",
    "print(\"Area under curve is - \", aucBag_undersample)"
   ]
  },
  {
   "cell_type": "code",
   "execution_count": 39,
   "id": "5596ce7e",
   "metadata": {},
   "outputs": [
    {
     "name": "stdout",
     "output_type": "stream",
     "text": [
      "Counter({0: 14208, 1: 892})\n",
      "Counter({0: 892, 1: 892})\n",
      "Counter({1: 540, 0: 530})\n",
      "Counter({0: 362, 1: 352})\n",
      "Confusion Matrix (Accuracy 0.6891)\n",
      "\n",
      "       Prediction\n",
      "Actual   0   1\n",
      "     0 232 130\n",
      "     1  92 260\n",
      "              precision    recall  f1-score   support\n",
      "\n",
      "           0       0.72      0.64      0.68       362\n",
      "           1       0.67      0.74      0.70       352\n",
      "\n",
      "    accuracy                           0.69       714\n",
      "   macro avg       0.69      0.69      0.69       714\n",
      "weighted avg       0.69      0.69      0.69       714\n",
      "\n",
      "Area under curve is -  0.7311730914113511\n"
     ]
    },
    {
     "data": {
      "text/plain": [
       "{'whiskers': [<matplotlib.lines.Line2D at 0x1db4d0aeca0>,\n",
       "  <matplotlib.lines.Line2D at 0x1db4d0a11c0>],\n",
       " 'caps': [<matplotlib.lines.Line2D at 0x1db4d0a1d30>,\n",
       "  <matplotlib.lines.Line2D at 0x1db4d0a12b0>],\n",
       " 'boxes': [<matplotlib.lines.Line2D at 0x1db4d0ae400>],\n",
       " 'medians': [<matplotlib.lines.Line2D at 0x1db4d0a1d00>],\n",
       " 'fliers': [<matplotlib.lines.Line2D at 0x1db4d0a30d0>],\n",
       " 'means': []}"
      ]
     },
     "execution_count": 39,
     "metadata": {},
     "output_type": "execute_result"
    },
    {
     "data": {
      "image/png": "[encoded data removed]",
      "text/plain": [
       "<Figure size 640x480 with 1 Axes>"
      ]
     },
     "metadata": {},
     "output_type": "display_data"
    }
   ],
   "source": [
    "X = data_top10\n",
    "y = data['FraudFound_P']\n",
    "\n",
    "counter = Counter(y)\n",
    "print(counter)\n",
    "\n",
    "\n",
    "aucValid_UnderSamplerBagging = list()\n",
    "\n",
    "for i in range(0,21):\n",
    "    UnderSampler = RandomUnderSampler(random_state=i)\n",
    "    X_resampled, y_resampled = UnderSampler.fit_resample(X, y)\n",
    "\n",
    "    if i == 1:\n",
    "        counter = Counter(y_resampled)\n",
    "        print(counter)\n",
    "\n",
    "    X_train,X_valid,y_train,y_valid = train_test_split(X_resampled,y_resampled, train_size=0.6, random_state=1)\n",
    "\n",
    "    if i == 1:\n",
    "        counter = Counter(y_train)\n",
    "        print(counter)\n",
    "        counter = Counter(y_valid)\n",
    "        print(counter)\n",
    "\n",
    "    # single tree\n",
    "    bagging = BaggingClassifier(DecisionTreeClassifier(random_state=1),n_estimators=100, random_state=1)\n",
    "    bagging.fit(X_train, y_train)\n",
    "    classes = bagging.classes_\n",
    "\n",
    "\n",
    "    y_pred = bagging.predict(X_valid)\n",
    "    \n",
    "    if i == 1:\n",
    "        classificationSummary(y_valid, y_pred, class_names=classes)\n",
    "        print(metrics.classification_report(y_valid,y_pred))\n",
    "        \n",
    "    y_pred_proba= bagging.predict_proba(X_valid)[::,1]\n",
    "    auc = metrics.roc_auc_score(y_valid,y_pred_proba)\n",
    "    aucValid_UnderSamplerBagging.append(auc)\n",
    "\n",
    "print(\"Area under curve is - \", auc)\n",
    "\n",
    "plt.figure()\n",
    "plt.boxplot(aucValid_UnderSamplerBagging)    "
   ]
  },
  {
   "cell_type": "code",
   "execution_count": 122,
   "id": "e94d802c",
   "metadata": {},
   "outputs": [],
   "source": [
    "np.mean(aucValid_UnderSamplerBagging)\n",
    "\n",
    "fp= open(r'./aucValid_UnderSamplerBagging.txt', 'w')\n",
    "fp.write(str(aucValid_UnderSamplerBagging))\n",
    "fp.close()"
   ]
  },
  {
   "cell_type": "code",
   "execution_count": 40,
   "id": "b3f99545",
   "metadata": {},
   "outputs": [
    {
     "name": "stdout",
     "output_type": "stream",
     "text": [
      "Counter({0: 14208, 1: 892})\n",
      "Counter({0: 892, 1: 892})\n",
      "Counter({1: 540, 0: 530})\n",
      "Counter({0: 362, 1: 352})\n",
      "Confusion Matrix (Accuracy 0.8925)\n",
      "\n",
      "       Prediction\n",
      "Actual   0   1\n",
      "     0 447  83\n",
      "     1  32 508\n",
      "              precision    recall  f1-score   support\n",
      "\n",
      "           0       0.93      0.84      0.89       530\n",
      "           1       0.86      0.94      0.90       540\n",
      "\n",
      "    accuracy                           0.89      1070\n",
      "   macro avg       0.90      0.89      0.89      1070\n",
      "weighted avg       0.90      0.89      0.89      1070\n",
      "\n",
      "Area under curve is -  0.9738836477987421\n",
      "Confusion Matrix (Accuracy 0.6485)\n",
      "\n",
      "       Prediction\n",
      "Actual   0   1\n",
      "     0 229 133\n",
      "     1 118 234\n",
      "              precision    recall  f1-score   support\n",
      "\n",
      "           0       0.66      0.63      0.65       362\n",
      "           1       0.64      0.66      0.65       352\n",
      "\n",
      "    accuracy                           0.65       714\n",
      "   macro avg       0.65      0.65      0.65       714\n",
      "weighted avg       0.65      0.65      0.65       714\n",
      "\n",
      "Area under curve is -  0.6763207872928177\n",
      "Confusion Matrix (Accuracy 0.6685)\n",
      "\n",
      "       Prediction\n",
      "Actual    0    1\n",
      "     0 9352 4856\n",
      "     1  150  742\n",
      "              precision    recall  f1-score   support\n",
      "\n",
      "           0       0.98      0.66      0.79     14208\n",
      "           1       0.13      0.83      0.23       892\n",
      "\n",
      "    accuracy                           0.67     15100\n",
      "   macro avg       0.56      0.75      0.51     15100\n",
      "weighted avg       0.93      0.67      0.76     15100\n",
      "\n",
      "Area under curve is -  0.7851740429821639\n"
     ]
    }
   ],
   "source": [
    "X = data_top10\n",
    "y = data['FraudFound_P']\n",
    "\n",
    "counter = Counter(y)\n",
    "print(counter)\n",
    "\n",
    "UnderSampler = RandomUnderSampler()\n",
    "X_resampled, y_resampled = UnderSampler.fit_resample(X, y)\n",
    "\n",
    "counter = Counter(y_resampled)\n",
    "print(counter)\n",
    "\n",
    "X_train,X_valid,y_train,y_valid = train_test_split(X_resampled,y_resampled, train_size=0.6, random_state=1)\n",
    "\n",
    "counter = Counter(y_train)\n",
    "print(counter)\n",
    "counter = Counter(y_valid)\n",
    "print(counter)\n",
    "\n",
    "# boosting\n",
    "boost = AdaBoostClassifier(DecisionTreeClassifier(random_state=1),n_estimators=100, random_state=1)\n",
    "boost.fit(X_train, y_train)\n",
    "classes = defaultTree.classes_\n",
    "                      \n",
    "y_pred = boost.predict(X_train)\n",
    "classificationSummary(y_train, y_pred, class_names=classes)\n",
    "print(metrics.classification_report(y_train,y_pred))\n",
    "y_pred_proba= boost.predict_proba(X_train)[::,1]\n",
    "auc = metrics.roc_auc_score(y_train,y_pred_proba)\n",
    "print(\"Area under curve is - \", auc)\n",
    "\n",
    "y_pred = boost.predict(X_valid)\n",
    "classificationSummary(y_valid, y_pred, class_names=classes)\n",
    "print(metrics.classification_report(y_valid,y_pred))\n",
    "y_pred_proba= boost.predict_proba(X_valid)[::,1]\n",
    "auc = metrics.roc_auc_score(y_valid,y_pred_proba)\n",
    "print(\"Area under curve is - \", auc)\n",
    "\n",
    "y_pred = boost.predict(X)\n",
    "classificationSummary(y, y_pred, class_names=classes)\n",
    "print(metrics.classification_report(y,y_pred))\n",
    "y_pred_proba= boost.predict_proba(X)[::,1]\n",
    "aucBoost_undersample = metrics.roc_auc_score(y,y_pred_proba)\n",
    "print(\"Area under curve is - \", aucBoost_undersample)"
   ]
  },
  {
   "cell_type": "code",
   "execution_count": 41,
   "id": "889ca5bd",
   "metadata": {},
   "outputs": [
    {
     "name": "stdout",
     "output_type": "stream",
     "text": [
      "Counter({0: 14208, 1: 892})\n",
      "Counter({0: 892, 1: 892})\n",
      "Counter({1: 540, 0: 530})\n",
      "Counter({0: 362, 1: 352})\n",
      "Confusion Matrix (Accuracy 0.6639)\n",
      "\n",
      "       Prediction\n",
      "Actual   0   1\n",
      "     0 211 151\n",
      "     1  89 263\n",
      "              precision    recall  f1-score   support\n",
      "\n",
      "           0       0.70      0.58      0.64       362\n",
      "           1       0.64      0.75      0.69       352\n",
      "\n",
      "    accuracy                           0.66       714\n",
      "   macro avg       0.67      0.67      0.66       714\n",
      "weighted avg       0.67      0.66      0.66       714\n",
      "\n",
      "Area under curve is -  0.7253970994475138\n"
     ]
    },
    {
     "data": {
      "text/plain": [
       "{'whiskers': [<matplotlib.lines.Line2D at 0x1db4d342eb0>,\n",
       "  <matplotlib.lines.Line2D at 0x1db4d3863a0>],\n",
       " 'caps': [<matplotlib.lines.Line2D at 0x1db4d386a00>,\n",
       "  <matplotlib.lines.Line2D at 0x1db4d3860a0>],\n",
       " 'boxes': [<matplotlib.lines.Line2D at 0x1db4d342430>],\n",
       " 'medians': [<matplotlib.lines.Line2D at 0x1db4d386bb0>],\n",
       " 'fliers': [<matplotlib.lines.Line2D at 0x1db4dd1c670>],\n",
       " 'means': []}"
      ]
     },
     "execution_count": 41,
     "metadata": {},
     "output_type": "execute_result"
    },
    {
     "data": {
      "image/png": "[encoded data removed]",
      "text/plain": [
       "<Figure size 640x480 with 1 Axes>"
      ]
     },
     "metadata": {},
     "output_type": "display_data"
    }
   ],
   "source": [
    "X = data_top10\n",
    "y = data['FraudFound_P']\n",
    "\n",
    "counter = Counter(y)\n",
    "print(counter)\n",
    "\n",
    "\n",
    "aucValid_UnderSamplerBoost = list()\n",
    "\n",
    "for i in range(0,21):\n",
    "    UnderSampler = RandomUnderSampler(random_state=i)\n",
    "    X_resampled, y_resampled = UnderSampler.fit_resample(X, y)\n",
    "\n",
    "    if i == 1:\n",
    "        counter = Counter(y_resampled)\n",
    "        print(counter)\n",
    "\n",
    "    X_train,X_valid,y_train,y_valid = train_test_split(X_resampled,y_resampled, train_size=0.6, random_state=1)\n",
    "\n",
    "    if i == 1:\n",
    "        counter = Counter(y_train)\n",
    "        print(counter)\n",
    "        counter = Counter(y_valid)\n",
    "        print(counter)\n",
    "\n",
    "    # single tree\n",
    "    boost = AdaBoostClassifier(DecisionTreeClassifier(random_state=1),n_estimators=100, random_state=1)\n",
    "    boost.fit(X_train, y_train)\n",
    "    classes = boost.classes_\n",
    "\n",
    "\n",
    "    y_pred = boost.predict(X_valid)\n",
    "    \n",
    "    if i == 1:\n",
    "        classificationSummary(y_valid, y_pred, class_names=classes)\n",
    "        print(metrics.classification_report(y_valid,y_pred))\n",
    "        \n",
    "    y_pred_proba= boost.predict_proba(X_valid)[::,1]\n",
    "    auc = metrics.roc_auc_score(y_valid,y_pred_proba)\n",
    "    aucValid_UnderSamplerBoost.append(auc)\n",
    "\n",
    "print(\"Area under curve is - \", auc)\n",
    "\n",
    "plt.figure()\n",
    "plt.boxplot(aucValid_UnderSamplerBoost)    "
   ]
  },
  {
   "cell_type": "code",
   "execution_count": 123,
   "id": "6bbf5587",
   "metadata": {},
   "outputs": [],
   "source": [
    "np.mean(aucValid_UnderSamplerBoost)\n",
    "\n",
    "fp= open(r'./aucValid_UnderSamplerBoost.txt', 'w')\n",
    "fp.write(str(aucValid_UnderSamplerBoost))\n",
    "fp.close()"
   ]
  },
  {
   "cell_type": "markdown",
   "id": "0ec0f575",
   "metadata": {},
   "source": [
    "### KNN with random UnderSampler"
   ]
  },
  {
   "cell_type": "code",
   "execution_count": 42,
   "id": "b6aa8b38",
   "metadata": {},
   "outputs": [
    {
     "name": "stdout",
     "output_type": "stream",
     "text": [
      "Counter({0: 14208, 1: 892})\n",
      "Counter({0: 892, 1: 892})\n",
      "Counter({1: 540, 0: 530})\n",
      "Counter({0: 362, 1: 352})\n",
      "Value of K is -  5\n",
      "Confusion Matrix (Accuracy 0.6737)\n",
      "\n",
      "       Prediction\n",
      "Actual   0   1\n",
      "     0 216 146\n",
      "     1  87 265\n",
      "              precision    recall  f1-score   support\n",
      "\n",
      "           0       0.71      0.60      0.65       362\n",
      "           1       0.64      0.75      0.69       352\n",
      "\n",
      "    accuracy                           0.67       714\n",
      "   macro avg       0.68      0.67      0.67       714\n",
      "weighted avg       0.68      0.67      0.67       714\n",
      "\n",
      "Area under curve is -  0.7078650803616273\n"
     ]
    },
    {
     "name": "stderr",
     "output_type": "stream",
     "text": [
      "C:\\Users\\athimmas\\Anaconda3\\lib\\site-packages\\sklearn\\neighbors\\_classification.py:228: FutureWarning: Unlike other reduction functions (e.g. `skew`, `kurtosis`), the default behavior of `mode` typically preserves the axis it acts along. In SciPy 1.11.0, this behavior will change: the default value of `keepdims` will become False, the `axis` over which the statistic is taken will be eliminated, and the value None will no longer be accepted. Set `keepdims` to True or False to avoid this warning.\n",
      "  mode, _ = stats.mode(_y[neigh_ind, k], axis=1)\n",
      "C:\\Users\\athimmas\\Anaconda3\\lib\\site-packages\\sklearn\\neighbors\\_classification.py:228: FutureWarning: Unlike other reduction functions (e.g. `skew`, `kurtosis`), the default behavior of `mode` typically preserves the axis it acts along. In SciPy 1.11.0, this behavior will change: the default value of `keepdims` will become False, the `axis` over which the statistic is taken will be eliminated, and the value None will no longer be accepted. Set `keepdims` to True or False to avoid this warning.\n",
      "  mode, _ = stats.mode(_y[neigh_ind, k], axis=1)\n"
     ]
    },
    {
     "name": "stdout",
     "output_type": "stream",
     "text": [
      "Confusion Matrix (Accuracy 0.6001)\n",
      "\n",
      "       Prediction\n",
      "Actual    0    1\n",
      "     0 8324 5884\n",
      "     1  155  737\n",
      "              precision    recall  f1-score   support\n",
      "\n",
      "           0       0.98      0.59      0.73     14208\n",
      "           1       0.11      0.83      0.20       892\n",
      "\n",
      "    accuracy                           0.60     15100\n",
      "   macro avg       0.55      0.71      0.47     15100\n",
      "weighted avg       0.93      0.60      0.70     15100\n",
      "\n",
      "Area under curve is -  0.7580975427852179\n"
     ]
    }
   ],
   "source": [
    "X = data_top10\n",
    "y = data['FraudFound_P']\n",
    "\n",
    "counter = Counter(y)\n",
    "print(counter)\n",
    "\n",
    "UnderSampler = RandomUnderSampler()\n",
    "X_resampled, y_resampled = UnderSampler.fit_resample(X, y)\n",
    "\n",
    "counter = Counter(y_resampled)\n",
    "print(counter)\n",
    "\n",
    "X_train,X_valid,y_train,y_valid = train_test_split(X_resampled,y_resampled, train_size=0.6, random_state=1)\n",
    "\n",
    "counter = Counter(y_train)\n",
    "print(counter)\n",
    "counter = Counter(y_valid)\n",
    "print(counter)\n",
    "\n",
    "k = 5\n",
    "\n",
    "print(\"Value of K is - \",k)\n",
    "#KNN = UnderSample_LogitReg = Pipeline([('scaler',StandardScaler()), ('KNN',KNeighborsClassifier(n_neighbors=k))])\n",
    "KNN = KNeighborsClassifier(n_neighbors=k)\n",
    "KNN.fit(X_train,y_train)\n",
    "y_pred = KNN.predict(X_valid)\n",
    "classificationSummary(y_valid, y_pred, class_names=classes)\n",
    "print(metrics.classification_report(y_valid,y_pred))\n",
    "y_pred_proba= KNN.predict_proba(X_valid)[::,1]\n",
    "auc = metrics.roc_auc_score(y_valid,y_pred_proba)\n",
    "print(\"Area under curve is - \", auc)\n",
    "\n",
    "y_pred = KNN.predict(X)\n",
    "classificationSummary(y, y_pred, class_names=classes)\n",
    "print(metrics.classification_report(y,y_pred))\n",
    "y_pred_proba= KNN.predict_proba(X)[::,1]\n",
    "auc = metrics.roc_auc_score(y,y_pred_proba)\n",
    "print(\"Area under curve is - \", auc)"
   ]
  },
  {
   "cell_type": "code",
   "execution_count": 43,
   "id": "4be41cd9",
   "metadata": {},
   "outputs": [
    {
     "name": "stdout",
     "output_type": "stream",
     "text": [
      "Counter({0: 14208, 1: 892})\n"
     ]
    },
    {
     "name": "stderr",
     "output_type": "stream",
     "text": [
      "C:\\Users\\athimmas\\Anaconda3\\lib\\site-packages\\sklearn\\neighbors\\_classification.py:228: FutureWarning: Unlike other reduction functions (e.g. `skew`, `kurtosis`), the default behavior of `mode` typically preserves the axis it acts along. In SciPy 1.11.0, this behavior will change: the default value of `keepdims` will become False, the `axis` over which the statistic is taken will be eliminated, and the value None will no longer be accepted. Set `keepdims` to True or False to avoid this warning.\n",
      "  mode, _ = stats.mode(_y[neigh_ind, k], axis=1)\n",
      "C:\\Users\\athimmas\\Anaconda3\\lib\\site-packages\\sklearn\\neighbors\\_classification.py:228: FutureWarning: Unlike other reduction functions (e.g. `skew`, `kurtosis`), the default behavior of `mode` typically preserves the axis it acts along. In SciPy 1.11.0, this behavior will change: the default value of `keepdims` will become False, the `axis` over which the statistic is taken will be eliminated, and the value None will no longer be accepted. Set `keepdims` to True or False to avoid this warning.\n",
      "  mode, _ = stats.mode(_y[neigh_ind, k], axis=1)\n"
     ]
    },
    {
     "name": "stdout",
     "output_type": "stream",
     "text": [
      "Counter({0: 892, 1: 892})\n",
      "Counter({1: 540, 0: 530})\n",
      "Counter({0: 362, 1: 352})\n",
      "Confusion Matrix (Accuracy 0.6303)\n",
      "\n",
      "       Prediction\n",
      "Actual   0   1\n",
      "     0 231 131\n",
      "     1 133 219\n",
      "              precision    recall  f1-score   support\n",
      "\n",
      "           0       0.63      0.64      0.64       362\n",
      "           1       0.63      0.62      0.62       352\n",
      "\n",
      "    accuracy                           0.63       714\n",
      "   macro avg       0.63      0.63      0.63       714\n",
      "weighted avg       0.63      0.63      0.63       714\n",
      "\n"
     ]
    },
    {
     "name": "stderr",
     "output_type": "stream",
     "text": [
      "C:\\Users\\athimmas\\Anaconda3\\lib\\site-packages\\sklearn\\neighbors\\_classification.py:228: FutureWarning: Unlike other reduction functions (e.g. `skew`, `kurtosis`), the default behavior of `mode` typically preserves the axis it acts along. In SciPy 1.11.0, this behavior will change: the default value of `keepdims` will become False, the `axis` over which the statistic is taken will be eliminated, and the value None will no longer be accepted. Set `keepdims` to True or False to avoid this warning.\n",
      "  mode, _ = stats.mode(_y[neigh_ind, k], axis=1)\n",
      "C:\\Users\\athimmas\\Anaconda3\\lib\\site-packages\\sklearn\\neighbors\\_classification.py:228: FutureWarning: Unlike other reduction functions (e.g. `skew`, `kurtosis`), the default behavior of `mode` typically preserves the axis it acts along. In SciPy 1.11.0, this behavior will change: the default value of `keepdims` will become False, the `axis` over which the statistic is taken will be eliminated, and the value None will no longer be accepted. Set `keepdims` to True or False to avoid this warning.\n",
      "  mode, _ = stats.mode(_y[neigh_ind, k], axis=1)\n",
      "C:\\Users\\athimmas\\Anaconda3\\lib\\site-packages\\sklearn\\neighbors\\_classification.py:228: FutureWarning: Unlike other reduction functions (e.g. `skew`, `kurtosis`), the default behavior of `mode` typically preserves the axis it acts along. In SciPy 1.11.0, this behavior will change: the default value of `keepdims` will become False, the `axis` over which the statistic is taken will be eliminated, and the value None will no longer be accepted. Set `keepdims` to True or False to avoid this warning.\n",
      "  mode, _ = stats.mode(_y[neigh_ind, k], axis=1)\n",
      "C:\\Users\\athimmas\\Anaconda3\\lib\\site-packages\\sklearn\\neighbors\\_classification.py:228: FutureWarning: Unlike other reduction functions (e.g. `skew`, `kurtosis`), the default behavior of `mode` typically preserves the axis it acts along. In SciPy 1.11.0, this behavior will change: the default value of `keepdims` will become False, the `axis` over which the statistic is taken will be eliminated, and the value None will no longer be accepted. Set `keepdims` to True or False to avoid this warning.\n",
      "  mode, _ = stats.mode(_y[neigh_ind, k], axis=1)\n",
      "C:\\Users\\athimmas\\Anaconda3\\lib\\site-packages\\sklearn\\neighbors\\_classification.py:228: FutureWarning: Unlike other reduction functions (e.g. `skew`, `kurtosis`), the default behavior of `mode` typically preserves the axis it acts along. In SciPy 1.11.0, this behavior will change: the default value of `keepdims` will become False, the `axis` over which the statistic is taken will be eliminated, and the value None will no longer be accepted. Set `keepdims` to True or False to avoid this warning.\n",
      "  mode, _ = stats.mode(_y[neigh_ind, k], axis=1)\n",
      "C:\\Users\\athimmas\\Anaconda3\\lib\\site-packages\\sklearn\\neighbors\\_classification.py:228: FutureWarning: Unlike other reduction functions (e.g. `skew`, `kurtosis`), the default behavior of `mode` typically preserves the axis it acts along. In SciPy 1.11.0, this behavior will change: the default value of `keepdims` will become False, the `axis` over which the statistic is taken will be eliminated, and the value None will no longer be accepted. Set `keepdims` to True or False to avoid this warning.\n",
      "  mode, _ = stats.mode(_y[neigh_ind, k], axis=1)\n",
      "C:\\Users\\athimmas\\Anaconda3\\lib\\site-packages\\sklearn\\neighbors\\_classification.py:228: FutureWarning: Unlike other reduction functions (e.g. `skew`, `kurtosis`), the default behavior of `mode` typically preserves the axis it acts along. In SciPy 1.11.0, this behavior will change: the default value of `keepdims` will become False, the `axis` over which the statistic is taken will be eliminated, and the value None will no longer be accepted. Set `keepdims` to True or False to avoid this warning.\n",
      "  mode, _ = stats.mode(_y[neigh_ind, k], axis=1)\n",
      "C:\\Users\\athimmas\\Anaconda3\\lib\\site-packages\\sklearn\\neighbors\\_classification.py:228: FutureWarning: Unlike other reduction functions (e.g. `skew`, `kurtosis`), the default behavior of `mode` typically preserves the axis it acts along. In SciPy 1.11.0, this behavior will change: the default value of `keepdims` will become False, the `axis` over which the statistic is taken will be eliminated, and the value None will no longer be accepted. Set `keepdims` to True or False to avoid this warning.\n",
      "  mode, _ = stats.mode(_y[neigh_ind, k], axis=1)\n",
      "C:\\Users\\athimmas\\Anaconda3\\lib\\site-packages\\sklearn\\neighbors\\_classification.py:228: FutureWarning: Unlike other reduction functions (e.g. `skew`, `kurtosis`), the default behavior of `mode` typically preserves the axis it acts along. In SciPy 1.11.0, this behavior will change: the default value of `keepdims` will become False, the `axis` over which the statistic is taken will be eliminated, and the value None will no longer be accepted. Set `keepdims` to True or False to avoid this warning.\n",
      "  mode, _ = stats.mode(_y[neigh_ind, k], axis=1)\n",
      "C:\\Users\\athimmas\\Anaconda3\\lib\\site-packages\\sklearn\\neighbors\\_classification.py:228: FutureWarning: Unlike other reduction functions (e.g. `skew`, `kurtosis`), the default behavior of `mode` typically preserves the axis it acts along. In SciPy 1.11.0, this behavior will change: the default value of `keepdims` will become False, the `axis` over which the statistic is taken will be eliminated, and the value None will no longer be accepted. Set `keepdims` to True or False to avoid this warning.\n",
      "  mode, _ = stats.mode(_y[neigh_ind, k], axis=1)\n",
      "C:\\Users\\athimmas\\Anaconda3\\lib\\site-packages\\sklearn\\neighbors\\_classification.py:228: FutureWarning: Unlike other reduction functions (e.g. `skew`, `kurtosis`), the default behavior of `mode` typically preserves the axis it acts along. In SciPy 1.11.0, this behavior will change: the default value of `keepdims` will become False, the `axis` over which the statistic is taken will be eliminated, and the value None will no longer be accepted. Set `keepdims` to True or False to avoid this warning.\n",
      "  mode, _ = stats.mode(_y[neigh_ind, k], axis=1)\n",
      "C:\\Users\\athimmas\\Anaconda3\\lib\\site-packages\\sklearn\\neighbors\\_classification.py:228: FutureWarning: Unlike other reduction functions (e.g. `skew`, `kurtosis`), the default behavior of `mode` typically preserves the axis it acts along. In SciPy 1.11.0, this behavior will change: the default value of `keepdims` will become False, the `axis` over which the statistic is taken will be eliminated, and the value None will no longer be accepted. Set `keepdims` to True or False to avoid this warning.\n",
      "  mode, _ = stats.mode(_y[neigh_ind, k], axis=1)\n",
      "C:\\Users\\athimmas\\Anaconda3\\lib\\site-packages\\sklearn\\neighbors\\_classification.py:228: FutureWarning: Unlike other reduction functions (e.g. `skew`, `kurtosis`), the default behavior of `mode` typically preserves the axis it acts along. In SciPy 1.11.0, this behavior will change: the default value of `keepdims` will become False, the `axis` over which the statistic is taken will be eliminated, and the value None will no longer be accepted. Set `keepdims` to True or False to avoid this warning.\n",
      "  mode, _ = stats.mode(_y[neigh_ind, k], axis=1)\n",
      "C:\\Users\\athimmas\\Anaconda3\\lib\\site-packages\\sklearn\\neighbors\\_classification.py:228: FutureWarning: Unlike other reduction functions (e.g. `skew`, `kurtosis`), the default behavior of `mode` typically preserves the axis it acts along. In SciPy 1.11.0, this behavior will change: the default value of `keepdims` will become False, the `axis` over which the statistic is taken will be eliminated, and the value None will no longer be accepted. Set `keepdims` to True or False to avoid this warning.\n",
      "  mode, _ = stats.mode(_y[neigh_ind, k], axis=1)\n",
      "C:\\Users\\athimmas\\Anaconda3\\lib\\site-packages\\sklearn\\neighbors\\_classification.py:228: FutureWarning: Unlike other reduction functions (e.g. `skew`, `kurtosis`), the default behavior of `mode` typically preserves the axis it acts along. In SciPy 1.11.0, this behavior will change: the default value of `keepdims` will become False, the `axis` over which the statistic is taken will be eliminated, and the value None will no longer be accepted. Set `keepdims` to True or False to avoid this warning.\n",
      "  mode, _ = stats.mode(_y[neigh_ind, k], axis=1)\n"
     ]
    },
    {
     "name": "stderr",
     "output_type": "stream",
     "text": [
      "C:\\Users\\athimmas\\Anaconda3\\lib\\site-packages\\sklearn\\neighbors\\_classification.py:228: FutureWarning: Unlike other reduction functions (e.g. `skew`, `kurtosis`), the default behavior of `mode` typically preserves the axis it acts along. In SciPy 1.11.0, this behavior will change: the default value of `keepdims` will become False, the `axis` over which the statistic is taken will be eliminated, and the value None will no longer be accepted. Set `keepdims` to True or False to avoid this warning.\n",
      "  mode, _ = stats.mode(_y[neigh_ind, k], axis=1)\n",
      "C:\\Users\\athimmas\\Anaconda3\\lib\\site-packages\\sklearn\\neighbors\\_classification.py:228: FutureWarning: Unlike other reduction functions (e.g. `skew`, `kurtosis`), the default behavior of `mode` typically preserves the axis it acts along. In SciPy 1.11.0, this behavior will change: the default value of `keepdims` will become False, the `axis` over which the statistic is taken will be eliminated, and the value None will no longer be accepted. Set `keepdims` to True or False to avoid this warning.\n",
      "  mode, _ = stats.mode(_y[neigh_ind, k], axis=1)\n",
      "C:\\Users\\athimmas\\Anaconda3\\lib\\site-packages\\sklearn\\neighbors\\_classification.py:228: FutureWarning: Unlike other reduction functions (e.g. `skew`, `kurtosis`), the default behavior of `mode` typically preserves the axis it acts along. In SciPy 1.11.0, this behavior will change: the default value of `keepdims` will become False, the `axis` over which the statistic is taken will be eliminated, and the value None will no longer be accepted. Set `keepdims` to True or False to avoid this warning.\n",
      "  mode, _ = stats.mode(_y[neigh_ind, k], axis=1)\n"
     ]
    },
    {
     "name": "stdout",
     "output_type": "stream",
     "text": [
      "Area under curve is -  0.7253970994475138\n"
     ]
    },
    {
     "name": "stderr",
     "output_type": "stream",
     "text": [
      "C:\\Users\\athimmas\\Anaconda3\\lib\\site-packages\\sklearn\\neighbors\\_classification.py:228: FutureWarning: Unlike other reduction functions (e.g. `skew`, `kurtosis`), the default behavior of `mode` typically preserves the axis it acts along. In SciPy 1.11.0, this behavior will change: the default value of `keepdims` will become False, the `axis` over which the statistic is taken will be eliminated, and the value None will no longer be accepted. Set `keepdims` to True or False to avoid this warning.\n",
      "  mode, _ = stats.mode(_y[neigh_ind, k], axis=1)\n"
     ]
    },
    {
     "data": {
      "text/plain": [
       "{'whiskers': [<matplotlib.lines.Line2D at 0x1db4d343ca0>,\n",
       "  <matplotlib.lines.Line2D at 0x1db4cfc9d30>],\n",
       " 'caps': [<matplotlib.lines.Line2D at 0x1db4cfb6040>,\n",
       "  <matplotlib.lines.Line2D at 0x1db4cfb6310>],\n",
       " 'boxes': [<matplotlib.lines.Line2D at 0x1db4cfc99d0>],\n",
       " 'medians': [<matplotlib.lines.Line2D at 0x1db4cfb65e0>],\n",
       " 'fliers': [<matplotlib.lines.Line2D at 0x1db4cfb68b0>],\n",
       " 'means': []}"
      ]
     },
     "execution_count": 43,
     "metadata": {},
     "output_type": "execute_result"
    },
    {
     "data": {
      "image/png": "[encoded data removed]",
      "text/plain": [
       "<Figure size 640x480 with 1 Axes>"
      ]
     },
     "metadata": {},
     "output_type": "display_data"
    }
   ],
   "source": [
    "X = data_top10\n",
    "y = data['FraudFound_P']\n",
    "\n",
    "counter = Counter(y)\n",
    "print(counter)\n",
    "\n",
    "\n",
    "aucValid_UnderSamplerKNN = list()\n",
    "\n",
    "for i in range(0,21):\n",
    "    UnderSampler = RandomUnderSampler(random_state=i)\n",
    "    X_resampled, y_resampled = UnderSampler.fit_resample(X, y)\n",
    "\n",
    "    if i == 1:\n",
    "        counter = Counter(y_resampled)\n",
    "        print(counter)\n",
    "\n",
    "    X_train,X_valid,y_train,y_valid = train_test_split(X_resampled,y_resampled, train_size=0.6, random_state=1)\n",
    "\n",
    "    if i == 1:\n",
    "        counter = Counter(y_train)\n",
    "        print(counter)\n",
    "        counter = Counter(y_valid)\n",
    "        print(counter)\n",
    "\n",
    "    k = 5\n",
    "    \n",
    "    if k == 1:\n",
    "        print(\"Value of K is - \",k)\n",
    "    #KNN = UnderSample_LogitReg = Pipeline([('scaler',StandardScaler()), ('KNN',KNeighborsClassifier(n_neighbors=k))])\n",
    "    KNN = KNeighborsClassifier(n_neighbors=k)\n",
    "    KNN.fit(X_train,y_train)\n",
    "    \n",
    "    y_pred = KNN.predict(X_valid)\n",
    "    \n",
    "    if k == 1:\n",
    "        classificationSummary(y_valid, y_pred, class_names=classes)\n",
    "        print(metrics.classification_report(y_valid,y_pred))\n",
    "        \n",
    "    y_pred_proba= KNN.predict_proba(X_valid)[::,1]\n",
    "    auc = metrics.roc_auc_score(y_valid,y_pred_proba)\n",
    "    if k == 1:\n",
    "        print(\"Area under curve is - \", auc)\n",
    "\n",
    "\n",
    "    y_pred = boost.predict(X_valid)\n",
    "    \n",
    "    if i == 1:\n",
    "        classificationSummary(y_valid, y_pred, class_names=classes)\n",
    "        print(metrics.classification_report(y_valid,y_pred))\n",
    "        \n",
    "    y_pred_proba= boost.predict_proba(X_valid)[::,1]\n",
    "    auc = metrics.roc_auc_score(y_valid,y_pred_proba)\n",
    "    aucValid_UnderSamplerKNN.append(auc)\n",
    "\n",
    "print(\"Area under curve is - \", auc)\n",
    "\n",
    "plt.figure()\n",
    "plt.boxplot(aucValid_UnderSamplerKNN)    "
   ]
  },
  {
   "cell_type": "code",
   "execution_count": 124,
   "id": "806fd9c0",
   "metadata": {},
   "outputs": [],
   "source": [
    "np.mean(aucValid_UnderSamplerKNN)\n",
    "\n",
    "fp= open(r'./aucValid_UnderSamplerKNN.txt', 'w')\n",
    "fp.write(str(aucValid_UnderSamplerKNN))\n",
    "fp.close()"
   ]
  },
  {
   "cell_type": "markdown",
   "id": "12fde27c",
   "metadata": {},
   "source": [
    "### SVM with UnderSampling"
   ]
  },
  {
   "cell_type": "code",
   "execution_count": 44,
   "id": "51a552a4",
   "metadata": {},
   "outputs": [
    {
     "name": "stdout",
     "output_type": "stream",
     "text": [
      "Counter({0: 14208, 1: 892})\n",
      "Counter({0: 892, 1: 892})\n",
      "Counter({1: 540, 0: 530})\n",
      "Counter({0: 362, 1: 352})\n",
      "Confusion Matrix (Accuracy 0.7757)\n",
      "\n",
      "       Prediction\n",
      "Actual   0   1\n",
      "     0 322 208\n",
      "     1  32 508\n",
      "              precision    recall  f1-score   support\n",
      "\n",
      "           0       0.91      0.61      0.73       530\n",
      "           1       0.71      0.94      0.81       540\n",
      "\n",
      "    accuracy                           0.78      1070\n",
      "   macro avg       0.81      0.77      0.77      1070\n",
      "weighted avg       0.81      0.78      0.77      1070\n",
      "\n",
      "Area under curve is -  0.9090932914046123\n",
      "Confusion Matrix (Accuracy 0.7213)\n",
      "\n",
      "       Prediction\n",
      "Actual   0   1\n",
      "     0 202 160\n",
      "     1  39 313\n",
      "              precision    recall  f1-score   support\n",
      "\n",
      "           0       0.84      0.56      0.67       362\n",
      "           1       0.66      0.89      0.76       352\n",
      "\n",
      "    accuracy                           0.72       714\n",
      "   macro avg       0.75      0.72      0.71       714\n",
      "weighted avg       0.75      0.72      0.71       714\n",
      "\n",
      "Area under curve is -  0.7560585133098945\n",
      "Confusion Matrix (Accuracy 0.6016)\n",
      "\n",
      "       Prediction\n",
      "Actual    0    1\n",
      "     0 8263 5945\n",
      "     1   71  821\n",
      "              precision    recall  f1-score   support\n",
      "\n",
      "           0       0.99      0.58      0.73     14208\n",
      "           1       0.12      0.92      0.21       892\n",
      "\n",
      "    accuracy                           0.60     15100\n",
      "   macro avg       0.56      0.75      0.47     15100\n",
      "weighted avg       0.94      0.60      0.70     15100\n",
      "\n",
      "Area under curve is -  0.805207323354745\n"
     ]
    }
   ],
   "source": [
    "X = data_top10\n",
    "y = data['FraudFound_P']\n",
    "\n",
    "counter = Counter(y)\n",
    "print(counter)\n",
    "\n",
    "UnderSampler = RandomUnderSampler()\n",
    "X_resampled, y_resampled = UnderSampler.fit_resample(X, y)\n",
    "\n",
    "counter = Counter(y_resampled)\n",
    "print(counter)\n",
    "\n",
    "X_train,X_valid,y_train,y_valid = train_test_split(X_resampled,y_resampled, train_size=0.6, random_state=1)\n",
    "\n",
    "counter = Counter(y_train)\n",
    "print(counter)\n",
    "counter = Counter(y_valid)\n",
    "print(counter)\n",
    "\n",
    "# SVM\n",
    "SVM = svm.SVC(probability=True)\n",
    "SVM.fit(X_train, y_train)\n",
    "classes = SVM.classes_\n",
    "                      \n",
    "y_pred = SVM.predict(X_train)\n",
    "classificationSummary(y_train, y_pred, class_names=classes)\n",
    "print(metrics.classification_report(y_train,y_pred))\n",
    "y_pred_proba = SVM.predict_proba(X_train)[::,1]\n",
    "auc = metrics.roc_auc_score(y_train,y_pred_proba)\n",
    "print(\"Area under curve is - \", auc)\n",
    "\n",
    "y_pred = SVM.predict(X_valid)\n",
    "classificationSummary(y_valid, y_pred, class_names=classes)\n",
    "print(metrics.classification_report(y_valid,y_pred))\n",
    "y_pred_proba = SVM.predict_proba(X_valid)[::,1]\n",
    "auc = metrics.roc_auc_score(y_valid,y_pred_proba)\n",
    "print(\"Area under curve is - \", auc)\n",
    "\n",
    "y_pred = SVM.predict(X)\n",
    "classificationSummary(y, y_pred, class_names=classes)\n",
    "print(metrics.classification_report(y,y_pred))\n",
    "y_pred_proba = SVM.predict_proba(X)[::,1]\n",
    "aucBoost_undersample = metrics.roc_auc_score(y,y_pred_proba)\n",
    "print(\"Area under curve is - \", aucBoost_undersample)"
   ]
  },
  {
   "cell_type": "code",
   "execution_count": 125,
   "id": "5cd82e81",
   "metadata": {},
   "outputs": [
    {
     "name": "stdout",
     "output_type": "stream",
     "text": [
      "Counter({0: 14208, 1: 892})\n",
      "Counter({0: 892, 1: 892})\n",
      "Counter({1: 540, 0: 530})\n",
      "Counter({0: 362, 1: 352})\n",
      "Confusion Matrix (Accuracy 0.7157)\n",
      "\n",
      "       Prediction\n",
      "Actual   0   1\n",
      "     0 199 163\n",
      "     1  40 312\n",
      "              precision    recall  f1-score   support\n",
      "\n",
      "           0       0.83      0.55      0.66       362\n",
      "           1       0.66      0.89      0.75       352\n",
      "\n",
      "    accuracy                           0.72       714\n",
      "   macro avg       0.74      0.72      0.71       714\n",
      "weighted avg       0.75      0.72      0.71       714\n",
      "\n",
      "Area under curve is -  0.7249693935208439\n"
     ]
    },
    {
     "data": {
      "text/plain": [
       "{'whiskers': [<matplotlib.lines.Line2D at 0x1db126d6670>,\n",
       "  <matplotlib.lines.Line2D at 0x1db12858c40>],\n",
       " 'caps': [<matplotlib.lines.Line2D at 0x1db128581f0>,\n",
       "  <matplotlib.lines.Line2D at 0x1db128584c0>],\n",
       " 'boxes': [<matplotlib.lines.Line2D at 0x1db00e7bc10>],\n",
       " 'medians': [<matplotlib.lines.Line2D at 0x1db12858af0>],\n",
       " 'fliers': [<matplotlib.lines.Line2D at 0x1db12858f70>],\n",
       " 'means': []}"
      ]
     },
     "execution_count": 125,
     "metadata": {},
     "output_type": "execute_result"
    },
    {
     "data": {
      "image/png": "[encoded data removed]",
      "text/plain": [
       "<Figure size 640x480 with 1 Axes>"
      ]
     },
     "metadata": {},
     "output_type": "display_data"
    }
   ],
   "source": [
    "X = data_top10\n",
    "y = data['FraudFound_P']\n",
    "\n",
    "counter = Counter(y)\n",
    "print(counter)\n",
    "\n",
    "aucSVM_undersample = list()\n",
    "\n",
    "for i in range(1,21):\n",
    "    UnderSampler = RandomUnderSampler(random_state=i)\n",
    "    X_resampled, y_resampled = UnderSampler.fit_resample(X, y)\n",
    "\n",
    "    if i == 1:\n",
    "        counter = Counter(y_resampled)\n",
    "        print(counter)\n",
    "\n",
    "    X_train,X_valid,y_train,y_valid = train_test_split(X_resampled,y_resampled, train_size=0.6, random_state=1)\n",
    "\n",
    "    if i == 1:\n",
    "        counter = Counter(y_train)\n",
    "        print(counter)\n",
    "        counter = Counter(y_valid)\n",
    "        print(counter)\n",
    "\n",
    "    # SVM\n",
    "    SVM = svm.SVC(probability=True)\n",
    "    SVM.fit(X_train, y_train)\n",
    "    classes = SVM.classes_\n",
    "\n",
    "\n",
    "    y_pred = SVM.predict(X_valid)\n",
    "    \n",
    "    if i == 1:\n",
    "        classificationSummary(y_valid, y_pred, class_names=classes)\n",
    "    \n",
    "    if i == 1:\n",
    "        print(metrics.classification_report(y_valid,y_pred))\n",
    "    \n",
    "    y_pred_proba = SVM.predict_proba(X_valid)[::,1]\n",
    "    auc = metrics.roc_auc_score(y_valid,y_pred_proba)\n",
    "    aucSVM_undersample.append(auc)\n",
    "    \n",
    "    if i == 1:\n",
    "        print(\"Area under curve is - \", auc)\n",
    "    \n",
    "plt.figure()\n",
    "plt.boxplot(aucSVM_undersample)  "
   ]
  },
  {
   "cell_type": "code",
   "execution_count": 126,
   "id": "e9414139",
   "metadata": {},
   "outputs": [],
   "source": [
    "np.mean(aucSVM_undersample)\n",
    "\n",
    "fp= open(r'./aucSVM_undersample.txt', 'w')\n",
    "fp.write(str(aucSVM_undersample))\n",
    "fp.close()"
   ]
  },
  {
   "cell_type": "markdown",
   "id": "dcdfea0a",
   "metadata": {},
   "source": [
    "# SMOTE Sampling "
   ]
  },
  {
   "cell_type": "code",
   "execution_count": 46,
   "id": "651e650d",
   "metadata": {},
   "outputs": [
    {
     "name": "stdout",
     "output_type": "stream",
     "text": [
      "Counter({0: 14208, 1: 892})\n",
      "Counter({0: 14208, 1: 14208})\n",
      "Counter({1: 8580, 0: 8469})\n",
      "Counter({0: 5739, 1: 5628})\n"
     ]
    },
    {
     "data": {
      "text/plain": [
       "Pipeline(steps=[('scaler', StandardScaler()),\n",
       "                ('LogitRegressor', LogisticRegression(max_iter=1000))])"
      ]
     },
     "execution_count": 46,
     "metadata": {},
     "output_type": "execute_result"
    }
   ],
   "source": [
    "# SMOTE Sampling \n",
    "\n",
    "X = data_top10\n",
    "y = data['FraudFound_P']\n",
    "\n",
    "counter = Counter(y)\n",
    "print(counter)\n",
    "\n",
    "over = SMOTE()\n",
    "under = RandomUnderSampler(sampling_strategy=1)\n",
    "steps = [('o', over), ('u', under)]\n",
    "SMOTESampling = SamplingPipeline(steps=steps)\n",
    "\n",
    "X_resampled, y_resampled = SMOTESampling.fit_resample(X, y)\n",
    "# summarize the new class distribution\n",
    "counter = Counter(y_resampled)\n",
    "print(counter)\n",
    "\n",
    "X_train,X_valid,y_train,y_valid = train_test_split(X_resampled,y_resampled, train_size=0.6, random_state=1)\n",
    "\n",
    "counter = Counter(y_train)\n",
    "print(counter)\n",
    "counter = Counter(y_valid)\n",
    "print(counter)\n",
    "\n",
    "SMOTELogitReg = Pipeline([('scaler',StandardScaler()), ('LogitRegressor',LogisticRegression(max_iter=1000))])\n",
    "SMOTELogitReg.fit(X_train,y_train)"
   ]
  },
  {
   "cell_type": "code",
   "execution_count": 47,
   "id": "c8775366",
   "metadata": {},
   "outputs": [
    {
     "name": "stdout",
     "output_type": "stream",
     "text": [
      "Counter({0: 14208, 1: 892})\n",
      "Counter({0: 14208, 1: 14208})\n",
      "Counter({1: 8580, 0: 8469})\n",
      "Counter({0: 5739, 1: 5628})\n",
      "Confusion Matrix (Accuracy 0.7516)\n",
      "\n",
      "       Prediction\n",
      "Actual    0    1\n",
      "     0 5551  188\n",
      "     1 2635 2993\n",
      "              precision    recall  f1-score   support\n",
      "\n",
      "           0       0.68      0.97      0.80      5739\n",
      "           1       0.94      0.53      0.68      5628\n",
      "\n",
      "    accuracy                           0.75     11367\n",
      "   macro avg       0.81      0.75      0.74     11367\n",
      "weighted avg       0.81      0.75      0.74     11367\n",
      "\n"
     ]
    },
    {
     "data": {
      "text/plain": [
       "{'whiskers': [<matplotlib.lines.Line2D at 0x1db4d9dfdf0>,\n",
       "  <matplotlib.lines.Line2D at 0x1db4d9eb100>],\n",
       " 'caps': [<matplotlib.lines.Line2D at 0x1db4d9eb3d0>,\n",
       "  <matplotlib.lines.Line2D at 0x1db4d9eb6a0>],\n",
       " 'boxes': [<matplotlib.lines.Line2D at 0x1db4d9dfc40>],\n",
       " 'medians': [<matplotlib.lines.Line2D at 0x1db4d9eb970>],\n",
       " 'fliers': [<matplotlib.lines.Line2D at 0x1db4d9ebc40>],\n",
       " 'means': []}"
      ]
     },
     "execution_count": 47,
     "metadata": {},
     "output_type": "execute_result"
    },
    {
     "data": {
      "image/png": "[encoded data removed]",
      "text/plain": [
       "<Figure size 640x480 with 1 Axes>"
      ]
     },
     "metadata": {},
     "output_type": "display_data"
    },
    {
     "data": {
      "image/png": "[encoded data removed]",
      "text/plain": [
       "<Figure size 640x480 with 1 Axes>"
      ]
     },
     "metadata": {},
     "output_type": "display_data"
    },
    {
     "data": {
      "image/png": "[encoded data removed]",
      "text/plain": [
       "<Figure size 640x480 with 1 Axes>"
      ]
     },
     "metadata": {},
     "output_type": "display_data"
    }
   ],
   "source": [
    "X = data_top10\n",
    "y = data['FraudFound_P']\n",
    "\n",
    "counter = Counter(y)\n",
    "print(counter)\n",
    "\n",
    "aucTrain_SMOTELogisticRegression = list()\n",
    "aucValid_SMOTELogisticRegression = list()\n",
    "aucFullSet_SMOTELogisticRegression = list()\n",
    "\n",
    "for i in range(1,20):\n",
    "    over = SMOTE(random_state=i)\n",
    "    under = RandomUnderSampler(sampling_strategy=1)\n",
    "    steps = [('o', over), ('u', under)]\n",
    "    SMOTESampling = SamplingPipeline(steps=steps)\n",
    "    X_resampled, y_resampled = SMOTESampling.fit_resample(X, y)\n",
    "\n",
    "    X_train,X_valid,y_train,y_valid = train_test_split(X_resampled,y_resampled, train_size=0.6, random_state=1)\n",
    "\n",
    "\n",
    "    SMOTE_LogitReg = Pipeline([('scaler',StandardScaler()), ('LogitRegressor',LogisticRegression(max_iter=1000))])\n",
    "    SMOTE_LogitReg.fit(X_train,y_train)\n",
    "    \n",
    "    if i == 1:\n",
    "        counter = Counter(y_resampled)\n",
    "        print(counter)\n",
    "        counter = Counter(y_train)\n",
    "        print(counter)\n",
    "        counter = Counter(y_valid)\n",
    "        print(counter)\n",
    "        \n",
    "        #classificationSummary(y_train,y_pred)\n",
    "        #print(metrics.classification_report(y_train,y_pred))\n",
    "    if i == 1:\n",
    "        y_pred = SMOTE_LogitReg.predict(X_valid)\n",
    "        classificationSummary(y_valid,y_pred)\n",
    "        print(metrics.classification_report(y_valid,y_pred))\n",
    "\n",
    "    y_pred_proba = SMOTE_LogitReg.predict_proba(X_train)[::,1]\n",
    "    aucTrain_SMOTELogisticRegression.append(metrics.roc_auc_score(y_train, y_pred_proba))\n",
    "\n",
    "    y_pred_proba = SMOTE_LogitReg.predict_proba(X_valid)[::,1]\n",
    "    aucValid_SMOTELogisticRegression.append(metrics.roc_auc_score(y_valid, y_pred_proba))\n",
    "\n",
    "    y_pred_proba = SMOTE_LogitReg.predict_proba(X)[::,1]\n",
    "    aucFullSet_SMOTELogisticRegression.append(metrics.roc_auc_score(y, y_pred_proba))\n",
    "\n",
    "#print(\"Area under curve is - \", aucTrain)\n",
    "#print(\"Area under curve is - \", aucValid)\n",
    "#print(\"Area under curve is - \", aucFullSet)\n",
    "\n",
    "plt.figure()\n",
    "plt.boxplot(aucTrain_SMOTELogisticRegression)\n",
    "plt.figure()\n",
    "plt.boxplot(aucValid_SMOTELogisticRegression)\n",
    "plt.figure()\n",
    "plt.boxplot(aucFullSet_SMOTELogisticRegression)"
   ]
  },
  {
   "cell_type": "code",
   "execution_count": 127,
   "id": "c58c8b34",
   "metadata": {},
   "outputs": [],
   "source": [
    "np.mean(aucValid_SMOTELogisticRegression)\n",
    "\n",
    "fp= open(r'./aucValid_SMOTELogisticRegression.txt', 'w')\n",
    "fp.write(str(aucValid_SMOTELogisticRegression))\n",
    "fp.close()"
   ]
  },
  {
   "cell_type": "markdown",
   "id": "9f6c3857",
   "metadata": {},
   "source": [
    "## Testing basic logistic classifier with SMOTE"
   ]
  },
  {
   "cell_type": "code",
   "execution_count": 48,
   "id": "3da0f4dd",
   "metadata": {},
   "outputs": [
    {
     "name": "stdout",
     "output_type": "stream",
     "text": [
      "              precision    recall  f1-score   support\n",
      "\n",
      "           0       0.67      0.97      0.79      8469\n",
      "           1       0.95      0.53      0.68      8580\n",
      "\n",
      "    accuracy                           0.75     17049\n",
      "   macro avg       0.81      0.75      0.74     17049\n",
      "weighted avg       0.81      0.75      0.74     17049\n",
      "\n",
      "Confusion Matrix (Accuracy 0.7484)\n",
      "\n",
      "       Prediction\n",
      "Actual    0    1\n",
      "     0 8218  251\n",
      "     1 4039 4541\n",
      "Area under curve is -  0.7957628135630261\n"
     ]
    }
   ],
   "source": [
    "y_pred = SMOTELogitReg.predict(X_train)\n",
    "print(metrics.classification_report(y_train,y_pred))\n",
    "classificationSummary(y_train,y_pred)\n",
    "\n",
    "y_pred_proba = SMOTELogitReg.predict_proba(X_train)[::,1]\n",
    "auc = metrics.roc_auc_score(y_train, y_pred_proba)\n",
    "\n",
    "print(\"Area under curve is - \", auc)"
   ]
  },
  {
   "cell_type": "code",
   "execution_count": 49,
   "id": "3f1ac011",
   "metadata": {},
   "outputs": [
    {
     "name": "stdout",
     "output_type": "stream",
     "text": [
      "              precision    recall  f1-score   support\n",
      "\n",
      "           0       0.68      0.97      0.80      5739\n",
      "           1       0.95      0.54      0.68      5628\n",
      "\n",
      "    accuracy                           0.76     11367\n",
      "   macro avg       0.81      0.75      0.74     11367\n",
      "weighted avg       0.81      0.76      0.74     11367\n",
      "\n",
      "Confusion Matrix (Accuracy 0.7554)\n",
      "\n",
      "       Prediction\n",
      "Actual    0    1\n",
      "     0 5575  164\n",
      "     1 2616 3012\n",
      "Area under curve is -  0.7947835654327373\n"
     ]
    }
   ],
   "source": [
    "y_pred = SMOTELogitReg.predict(X_valid)\n",
    "print(metrics.classification_report(y_valid,y_pred))\n",
    "classificationSummary(y_valid,y_pred)\n",
    "\n",
    "y_pred_proba = SMOTELogitReg.predict_proba(X_valid)[::,1]\n",
    "auc = metrics.roc_auc_score(y_valid, y_pred_proba)\n",
    "\n",
    "print(\"Area under curve is - \", auc)"
   ]
  },
  {
   "cell_type": "code",
   "execution_count": 50,
   "id": "505b1275",
   "metadata": {},
   "outputs": [
    {
     "name": "stdout",
     "output_type": "stream",
     "text": [
      "              precision    recall  f1-score   support\n",
      "\n",
      "           0       0.94      0.97      0.96     14208\n",
      "           1       0.14      0.07      0.09       892\n",
      "\n",
      "    accuracy                           0.92     15100\n",
      "   macro avg       0.54      0.52      0.53     15100\n",
      "weighted avg       0.90      0.92      0.91     15100\n",
      "\n",
      "Confusion Matrix (Accuracy 0.9177)\n",
      "\n",
      "       Prediction\n",
      "Actual     0     1\n",
      "     0 13793   415\n",
      "     1   827    65\n",
      "Area under curve is -  0.5849830307816224\n"
     ]
    }
   ],
   "source": [
    "y_pred = SMOTELogitReg.predict(X)\n",
    "print(metrics.classification_report(y,y_pred))\n",
    "classificationSummary(y,y_pred)\n",
    "\n",
    "y_pred_proba = SMOTELogitReg.predict_proba(X)[::,1]\n",
    "auc_smote = metrics.roc_auc_score(y, y_pred_proba)\n",
    "\n",
    "print(\"Area under curve is - \", auc_smote)"
   ]
  },
  {
   "cell_type": "markdown",
   "id": "479ab0f1",
   "metadata": {},
   "source": [
    "## Testing with trees - SMOTE"
   ]
  },
  {
   "cell_type": "code",
   "execution_count": 51,
   "id": "0d5d4771",
   "metadata": {},
   "outputs": [
    {
     "name": "stdout",
     "output_type": "stream",
     "text": [
      "Counter({0: 14208, 1: 892})\n",
      "Counter({0: 14208, 1: 14208})\n",
      "Counter({1: 8580, 0: 8469})\n",
      "Counter({0: 5739, 1: 5628})\n",
      "Confusion Matrix (Accuracy 0.8965)\n",
      "\n",
      "       Prediction\n",
      "Actual    0    1\n",
      "     0 7274 1195\n",
      "     1  569 8011\n",
      "              precision    recall  f1-score   support\n",
      "\n",
      "           0       0.93      0.86      0.89      8469\n",
      "           1       0.87      0.93      0.90      8580\n",
      "\n",
      "    accuracy                           0.90     17049\n",
      "   macro avg       0.90      0.90      0.90     17049\n",
      "weighted avg       0.90      0.90      0.90     17049\n",
      "\n",
      "Area under curve is -  0.9682815305291393\n",
      "Confusion Matrix (Accuracy 0.8727)\n",
      "\n",
      "       Prediction\n",
      "Actual    0    1\n",
      "     0 4801  938\n",
      "     1  509 5119\n",
      "              precision    recall  f1-score   support\n",
      "\n",
      "           0       0.90      0.84      0.87      5739\n",
      "           1       0.85      0.91      0.88      5628\n",
      "\n",
      "    accuracy                           0.87     11367\n",
      "   macro avg       0.87      0.87      0.87     11367\n",
      "weighted avg       0.87      0.87      0.87     11367\n",
      "\n",
      "Area under curve is -  0.9408426404061143\n",
      "Confusion Matrix (Accuracy 0.8381)\n",
      "\n",
      "       Prediction\n",
      "Actual     0     1\n",
      "     0 12075  2133\n",
      "     1   311   581\n",
      "              precision    recall  f1-score   support\n",
      "\n",
      "           0       0.97      0.85      0.91     14208\n",
      "           1       0.21      0.65      0.32       892\n",
      "\n",
      "    accuracy                           0.84     15100\n",
      "   macro avg       0.59      0.75      0.62     15100\n",
      "weighted avg       0.93      0.84      0.87     15100\n",
      "\n",
      "Area under curve is -  0.8518360227169435\n"
     ]
    }
   ],
   "source": [
    "X = data_top10\n",
    "y = data['FraudFound_P']\n",
    "\n",
    "counter = Counter(y)\n",
    "print(counter)\n",
    "\n",
    "over = SMOTE()\n",
    "under = RandomUnderSampler(sampling_strategy=1)\n",
    "steps = [('o', over), ('u', under)]\n",
    "SMOTESampling = SamplingPipeline(steps=steps)\n",
    "\n",
    "X_resampled, y_resampled = SMOTESampling.fit_resample(X, y)\n",
    "# summarize the new class distribution\n",
    "counter = Counter(y_resampled)\n",
    "print(counter)\n",
    "\n",
    "X_train,X_valid,y_train,y_valid = train_test_split(X_resampled,y_resampled, train_size=0.6, random_state=1)\n",
    "\n",
    "counter = Counter(y_train)\n",
    "print(counter)\n",
    "counter = Counter(y_valid)\n",
    "print(counter)\n",
    "\n",
    "# single tree\n",
    "defaultTree = DecisionTreeClassifier(random_state=1)\n",
    "defaultTree.fit(X_train, y_train)\n",
    "classes = defaultTree.classes_\n",
    "\n",
    "y_pred = defaultTree.predict(X_train)\n",
    "classificationSummary(y_train, y_pred, class_names=classes)\n",
    "print(metrics.classification_report(y_train,y_pred))\n",
    "y_pred_proba= defaultTree.predict_proba(X_train)[::,1]\n",
    "auc = metrics.roc_auc_score(y_train,y_pred_proba)\n",
    "print(\"Area under curve is - \", auc)\n",
    "\n",
    "y_pred = defaultTree.predict(X_valid)\n",
    "classificationSummary(y_valid, y_pred, class_names=classes)\n",
    "print(metrics.classification_report(y_valid,y_pred))\n",
    "y_pred_proba= defaultTree.predict_proba(X_valid)[::,1]\n",
    "auc = metrics.roc_auc_score(y_valid,y_pred_proba)\n",
    "print(\"Area under curve is - \", auc)\n",
    "\n",
    "y_pred = defaultTree.predict(X)\n",
    "classificationSummary(y, y_pred, class_names=classes)\n",
    "print(metrics.classification_report(y,y_pred))\n",
    "y_pred_proba= defaultTree.predict_proba(X)[::,1]\n",
    "aucTree_undersample = metrics.roc_auc_score(y,y_pred_proba)\n",
    "print(\"Area under curve is - \", aucTree_undersample)"
   ]
  },
  {
   "cell_type": "code",
   "execution_count": 52,
   "id": "d9100359",
   "metadata": {},
   "outputs": [
    {
     "name": "stdout",
     "output_type": "stream",
     "text": [
      "Counter({0: 14208, 1: 892})\n",
      "Counter({0: 14208, 1: 14208})\n",
      "Counter({1: 8580, 0: 8469})\n",
      "Counter({0: 5739, 1: 5628})\n",
      "Confusion Matrix (Accuracy 0.8691)\n",
      "\n",
      "       Prediction\n",
      "Actual    0    1\n",
      "     0 4772  967\n",
      "     1  521 5107\n",
      "              precision    recall  f1-score   support\n",
      "\n",
      "           0       0.90      0.83      0.87      5739\n",
      "           1       0.84      0.91      0.87      5628\n",
      "\n",
      "    accuracy                           0.87     11367\n",
      "   macro avg       0.87      0.87      0.87     11367\n",
      "weighted avg       0.87      0.87      0.87     11367\n",
      "\n",
      "Area under curve is -  0.9417944318682394\n"
     ]
    },
    {
     "data": {
      "text/plain": [
       "{'whiskers': [<matplotlib.lines.Line2D at 0x1db4da012b0>,\n",
       "  <matplotlib.lines.Line2D at 0x1db4da017c0>],\n",
       " 'caps': [<matplotlib.lines.Line2D at 0x1db4da01d90>,\n",
       "  <matplotlib.lines.Line2D at 0x1db4da019a0>],\n",
       " 'boxes': [<matplotlib.lines.Line2D at 0x1db4da01040>],\n",
       " 'medians': [<matplotlib.lines.Line2D at 0x1db4d9ab700>],\n",
       " 'fliers': [<matplotlib.lines.Line2D at 0x1db4d9ab880>],\n",
       " 'means': []}"
      ]
     },
     "execution_count": 52,
     "metadata": {},
     "output_type": "execute_result"
    },
    {
     "data": {
      "image/png": "[encoded data removed]",
      "text/plain": [
       "<Figure size 640x480 with 1 Axes>"
      ]
     },
     "metadata": {},
     "output_type": "display_data"
    }
   ],
   "source": [
    "X = data_top10\n",
    "y = data['FraudFound_P']\n",
    "\n",
    "counter = Counter(y)\n",
    "print(counter)\n",
    "\n",
    "\n",
    "aucValid_SMOTE_DefaultTree = list()\n",
    "\n",
    "for i in range(0,21):\n",
    "    over = SMOTE(random_state=i)\n",
    "    under = RandomUnderSampler(sampling_strategy=1)\n",
    "    steps = [('o', over), ('u', under)]\n",
    "    SMOTESampling = SamplingPipeline(steps=steps)\n",
    "    X_resampled, y_resampled = SMOTESampling.fit_resample(X, y)\n",
    "\n",
    "    if i == 1:\n",
    "        counter = Counter(y_resampled)\n",
    "        print(counter)\n",
    "\n",
    "    X_train,X_valid,y_train,y_valid = train_test_split(X_resampled,y_resampled, train_size=0.6, random_state=1)\n",
    "\n",
    "    if i == 1:\n",
    "        counter = Counter(y_train)\n",
    "        print(counter)\n",
    "        counter = Counter(y_valid)\n",
    "        print(counter)\n",
    "\n",
    "    # single tree\n",
    "    defaultTree = DecisionTreeClassifier(random_state=1)\n",
    "    defaultTree.fit(X_train, y_train)\n",
    "    classes = defaultTree.classes_\n",
    "\n",
    "\n",
    "    y_pred = defaultTree.predict(X_valid)\n",
    "    \n",
    "    if i == 1:\n",
    "        classificationSummary(y_valid, y_pred, class_names=classes)\n",
    "        print(metrics.classification_report(y_valid,y_pred))\n",
    "        \n",
    "    y_pred_proba= defaultTree.predict_proba(X_valid)[::,1]\n",
    "    auc = metrics.roc_auc_score(y_valid,y_pred_proba)\n",
    "    aucValid_SMOTE_DefaultTree.append(auc)\n",
    "\n",
    "print(\"Area under curve is - \", auc)\n",
    "\n",
    "plt.figure()\n",
    "plt.boxplot(aucValid_SMOTE_DefaultTree)    "
   ]
  },
  {
   "cell_type": "code",
   "execution_count": 128,
   "id": "98239953",
   "metadata": {},
   "outputs": [],
   "source": [
    "np.mean(aucValid_SMOTE_DefaultTree)\n",
    "\n",
    "fp= open(r'./aucValid_SMOTE_DefaultTree.txt', 'w')\n",
    "fp.write(str(aucValid_SMOTE_DefaultTree))\n",
    "fp.close()"
   ]
  },
  {
   "cell_type": "code",
   "execution_count": 53,
   "id": "c4eb6a3d",
   "metadata": {},
   "outputs": [
    {
     "name": "stdout",
     "output_type": "stream",
     "text": [
      "Counter({0: 14208, 1: 892})\n",
      "Counter({0: 14208, 1: 14208})\n",
      "Counter({1: 8580, 0: 8469})\n",
      "Counter({0: 5739, 1: 5628})\n",
      "Confusion Matrix (Accuracy 0.8937)\n",
      "\n",
      "       Prediction\n",
      "Actual    0    1\n",
      "     0 7137 1332\n",
      "     1  480 8100\n",
      "              precision    recall  f1-score   support\n",
      "\n",
      "           0       0.94      0.84      0.89      8469\n",
      "           1       0.86      0.94      0.90      8580\n",
      "\n",
      "    accuracy                           0.89     17049\n",
      "   macro avg       0.90      0.89      0.89     17049\n",
      "weighted avg       0.90      0.89      0.89     17049\n",
      "\n",
      "Area under curve is -  0.9659240432885493\n",
      "Confusion Matrix (Accuracy 0.8744)\n",
      "\n",
      "       Prediction\n",
      "Actual    0    1\n",
      "     0 4733 1006\n",
      "     1  422 5206\n",
      "              precision    recall  f1-score   support\n",
      "\n",
      "           0       0.92      0.82      0.87      5739\n",
      "           1       0.84      0.93      0.88      5628\n",
      "\n",
      "    accuracy                           0.87     11367\n",
      "   macro avg       0.88      0.87      0.87     11367\n",
      "weighted avg       0.88      0.87      0.87     11367\n",
      "\n",
      "Area under curve is -  0.949021786742488\n",
      "Confusion Matrix (Accuracy 0.8270)\n",
      "\n",
      "       Prediction\n",
      "Actual     0     1\n",
      "     0 11870  2338\n",
      "     1   275   617\n",
      "              precision    recall  f1-score   support\n",
      "\n",
      "           0       0.98      0.84      0.90     14208\n",
      "           1       0.21      0.69      0.32       892\n",
      "\n",
      "    accuracy                           0.83     15100\n",
      "   macro avg       0.59      0.76      0.61     15100\n",
      "weighted avg       0.93      0.83      0.87     15100\n",
      "\n",
      "Area under curve is -  0.8602222378979316\n"
     ]
    }
   ],
   "source": [
    "X = data_top10\n",
    "y = data['FraudFound_P']\n",
    "\n",
    "counter = Counter(y)\n",
    "print(counter)\n",
    "\n",
    "over = SMOTE()\n",
    "under = RandomUnderSampler(sampling_strategy=1)\n",
    "steps = [('o', over), ('u', under)]\n",
    "SMOTESampling = SamplingPipeline(steps=steps)\n",
    "\n",
    "X_resampled, y_resampled = SMOTESampling.fit_resample(X, y)\n",
    "# summarize the new class distribution\n",
    "counter = Counter(y_resampled)\n",
    "print(counter)\n",
    "\n",
    "X_train,X_valid,y_train,y_valid = train_test_split(X_resampled,y_resampled, train_size=0.6, random_state=1)\n",
    "\n",
    "counter = Counter(y_train)\n",
    "print(counter)\n",
    "counter = Counter(y_valid)\n",
    "print(counter)\n",
    "\n",
    "# bagging\n",
    "bagging = BaggingClassifier(DecisionTreeClassifier(random_state=1),n_estimators=100, random_state=1)\n",
    "bagging.fit(X_train, y_train)\n",
    "classes = bagging.classes_\n",
    "\n",
    "y_pred = bagging.predict(X_train)\n",
    "classificationSummary(y_train, y_pred, class_names=classes)\n",
    "print(metrics.classification_report(y_train,y_pred))\n",
    "y_pred_proba= bagging.predict_proba(X_train)[::,1]\n",
    "auc = metrics.roc_auc_score(y_train,y_pred_proba)\n",
    "print(\"Area under curve is - \", auc)\n",
    "\n",
    "y_pred = bagging.predict(X_valid)\n",
    "classificationSummary(y_valid, y_pred, class_names=classes)\n",
    "print(metrics.classification_report(y_valid,y_pred))\n",
    "y_pred_proba= bagging.predict_proba(X_valid)[::,1]\n",
    "auc = metrics.roc_auc_score(y_valid,y_pred_proba)\n",
    "print(\"Area under curve is - \", auc)\n",
    "\n",
    "y_pred = bagging.predict(X)\n",
    "classificationSummary(y, y_pred, class_names=classes)\n",
    "print(metrics.classification_report(y,y_pred))\n",
    "y_pred_proba= bagging.predict_proba(X)[::,1]\n",
    "aucBag_undersample = metrics.roc_auc_score(y,y_pred_proba)\n",
    "print(\"Area under curve is - \", aucBag_undersample)"
   ]
  },
  {
   "cell_type": "code",
   "execution_count": 54,
   "id": "e12720ce",
   "metadata": {},
   "outputs": [
    {
     "name": "stdout",
     "output_type": "stream",
     "text": [
      "Counter({0: 14208, 1: 892})\n",
      "Counter({0: 14208, 1: 14208})\n",
      "Counter({1: 8580, 0: 8469})\n",
      "Counter({0: 5739, 1: 5628})\n",
      "Confusion Matrix (Accuracy 0.8762)\n",
      "\n",
      "       Prediction\n",
      "Actual    0    1\n",
      "     0 4788  951\n",
      "     1  456 5172\n",
      "              precision    recall  f1-score   support\n",
      "\n",
      "           0       0.91      0.83      0.87      5739\n",
      "           1       0.84      0.92      0.88      5628\n",
      "\n",
      "    accuracy                           0.88     11367\n",
      "   macro avg       0.88      0.88      0.88     11367\n",
      "weighted avg       0.88      0.88      0.88     11367\n",
      "\n",
      "Area under curve is -  0.951682759379118\n"
     ]
    },
    {
     "data": {
      "text/plain": [
       "{'whiskers': [<matplotlib.lines.Line2D at 0x1db4d983160>,\n",
       "  <matplotlib.lines.Line2D at 0x1db4d950ca0>],\n",
       " 'caps': [<matplotlib.lines.Line2D at 0x1db4d950760>,\n",
       "  <matplotlib.lines.Line2D at 0x1db4d950400>],\n",
       " 'boxes': [<matplotlib.lines.Line2D at 0x1db4d983fd0>],\n",
       " 'medians': [<matplotlib.lines.Line2D at 0x1db4d950d60>],\n",
       " 'fliers': [<matplotlib.lines.Line2D at 0x1db4d950a90>],\n",
       " 'means': []}"
      ]
     },
     "execution_count": 54,
     "metadata": {},
     "output_type": "execute_result"
    },
    {
     "data": {
      "image/png": "[encoded data removed]",
      "text/plain": [
       "<Figure size 640x480 with 1 Axes>"
      ]
     },
     "metadata": {},
     "output_type": "display_data"
    }
   ],
   "source": [
    "X = data_top10\n",
    "y = data['FraudFound_P']\n",
    "\n",
    "counter = Counter(y)\n",
    "print(counter)\n",
    "\n",
    "\n",
    "aucValid_SMOTEBagging = list()\n",
    "\n",
    "for i in range(1,21):\n",
    "    over = SMOTE(random_state=i)\n",
    "    under = RandomUnderSampler(sampling_strategy=1)\n",
    "    steps = [('o', over), ('u', under)]\n",
    "    SMOTESampling = SamplingPipeline(steps=steps)\n",
    "    X_resampled, y_resampled = SMOTESampling.fit_resample(X, y)\n",
    "\n",
    "    if i == 1:\n",
    "        counter = Counter(y_resampled)\n",
    "        print(counter)\n",
    "\n",
    "    X_train,X_valid,y_train,y_valid = train_test_split(X_resampled,y_resampled, train_size=0.6, random_state=1)\n",
    "\n",
    "    if i == 1:\n",
    "        counter = Counter(y_train)\n",
    "        print(counter)\n",
    "        counter = Counter(y_valid)\n",
    "        print(counter)\n",
    "\n",
    "    # single tree\n",
    "    bagging = BaggingClassifier(DecisionTreeClassifier(random_state=1),n_estimators=100, random_state=1)\n",
    "    bagging.fit(X_train, y_train)\n",
    "    classes = bagging.classes_\n",
    "\n",
    "\n",
    "    y_pred = bagging.predict(X_valid)\n",
    "    \n",
    "    if i == 1:\n",
    "        classificationSummary(y_valid, y_pred, class_names=classes)\n",
    "        print(metrics.classification_report(y_valid,y_pred))\n",
    "        \n",
    "    y_pred_proba= bagging.predict_proba(X_valid)[::,1]\n",
    "    auc = metrics.roc_auc_score(y_valid,y_pred_proba)\n",
    "    aucValid_SMOTEBagging.append(auc)\n",
    "\n",
    "print(\"Area under curve is - \", auc)\n",
    "\n",
    "plt.figure()\n",
    "plt.boxplot(aucValid_SMOTEBagging)    "
   ]
  },
  {
   "cell_type": "code",
   "execution_count": 129,
   "id": "70320eb3",
   "metadata": {},
   "outputs": [],
   "source": [
    "np.mean(aucValid_SMOTEBagging)\n",
    "\n",
    "fp= open(r'./aucValid_SMOTEBagging.txt', 'w')\n",
    "fp.write(str(aucValid_SMOTEBagging))\n",
    "fp.close()"
   ]
  },
  {
   "cell_type": "code",
   "execution_count": 55,
   "id": "e35e8f15",
   "metadata": {},
   "outputs": [
    {
     "name": "stdout",
     "output_type": "stream",
     "text": [
      "Counter({0: 14208, 1: 892})\n",
      "Counter({0: 14208, 1: 14208})\n",
      "Counter({1: 8580, 0: 8469})\n",
      "Counter({0: 5739, 1: 5628})\n",
      "Confusion Matrix (Accuracy 0.8955)\n",
      "\n",
      "       Prediction\n",
      "Actual    0    1\n",
      "     0 7251 1218\n",
      "     1  563 8017\n",
      "              precision    recall  f1-score   support\n",
      "\n",
      "           0       0.93      0.86      0.89      8469\n",
      "           1       0.87      0.93      0.90      8580\n",
      "\n",
      "    accuracy                           0.90     17049\n",
      "   macro avg       0.90      0.90      0.90     17049\n",
      "weighted avg       0.90      0.90      0.90     17049\n",
      "\n",
      "Area under curve is -  0.9686310570210677\n",
      "Confusion Matrix (Accuracy 0.8795)\n",
      "\n",
      "       Prediction\n",
      "Actual    0    1\n",
      "     0 4859  880\n",
      "     1  490 5138\n",
      "              precision    recall  f1-score   support\n",
      "\n",
      "           0       0.91      0.85      0.88      5739\n",
      "           1       0.85      0.91      0.88      5628\n",
      "\n",
      "    accuracy                           0.88     11367\n",
      "   macro avg       0.88      0.88      0.88     11367\n",
      "weighted avg       0.88      0.88      0.88     11367\n",
      "\n",
      "Area under curve is -  0.9524951506376712\n",
      "Confusion Matrix (Accuracy 0.8409)\n",
      "\n",
      "       Prediction\n",
      "Actual     0     1\n",
      "     0 12110  2098\n",
      "     1   305   587\n",
      "              precision    recall  f1-score   support\n",
      "\n",
      "           0       0.98      0.85      0.91     14208\n",
      "           1       0.22      0.66      0.33       892\n",
      "\n",
      "    accuracy                           0.84     15100\n",
      "   macro avg       0.60      0.76      0.62     15100\n",
      "weighted avg       0.93      0.84      0.88     15100\n",
      "\n",
      "Area under curve is -  0.8717011574354623\n"
     ]
    }
   ],
   "source": [
    "X = data_top10\n",
    "y = data['FraudFound_P']\n",
    "\n",
    "counter = Counter(y)\n",
    "print(counter)\n",
    "\n",
    "over = SMOTE()\n",
    "under = RandomUnderSampler(sampling_strategy=1)\n",
    "steps = [('o', over), ('u', under)]\n",
    "SMOTESampling = SamplingPipeline(steps=steps)\n",
    "\n",
    "X_resampled, y_resampled = SMOTESampling.fit_resample(X, y)\n",
    "# summarize the new class distribution\n",
    "counter = Counter(y_resampled)\n",
    "print(counter)\n",
    "\n",
    "X_train,X_valid,y_train,y_valid = train_test_split(X_resampled,y_resampled, train_size=0.6, random_state=1)\n",
    "\n",
    "counter = Counter(y_train)\n",
    "print(counter)\n",
    "counter = Counter(y_valid)\n",
    "print(counter)\n",
    "\n",
    "# boosting\n",
    "boost = AdaBoostClassifier(DecisionTreeClassifier(random_state=1),n_estimators=100, random_state=1)\n",
    "boost.fit(X_train, y_train)\n",
    "classes = defaultTree.classes_\n",
    "                      \n",
    "y_pred = boost.predict(X_train)\n",
    "classificationSummary(y_train, y_pred, class_names=classes)\n",
    "print(metrics.classification_report(y_train,y_pred))\n",
    "y_pred_proba= boost.predict_proba(X_train)[::,1]\n",
    "auc = metrics.roc_auc_score(y_train,y_pred_proba)\n",
    "print(\"Area under curve is - \", auc)\n",
    "\n",
    "y_pred = boost.predict(X_valid)\n",
    "classificationSummary(y_valid, y_pred, class_names=classes)\n",
    "print(metrics.classification_report(y_valid,y_pred))\n",
    "y_pred_proba= boost.predict_proba(X_valid)[::,1]\n",
    "auc = metrics.roc_auc_score(y_valid,y_pred_proba)\n",
    "print(\"Area under curve is - \", auc)\n",
    "\n",
    "y_pred = boost.predict(X)\n",
    "classificationSummary(y, y_pred, class_names=classes)\n",
    "print(metrics.classification_report(y,y_pred))\n",
    "y_pred_proba= boost.predict_proba(X)[::,1]\n",
    "aucBoost_undersample = metrics.roc_auc_score(y,y_pred_proba)\n",
    "print(\"Area under curve is - \", aucBoost_undersample)"
   ]
  },
  {
   "cell_type": "code",
   "execution_count": 56,
   "id": "3a86c2f9",
   "metadata": {},
   "outputs": [
    {
     "name": "stdout",
     "output_type": "stream",
     "text": [
      "Counter({0: 14208, 1: 892})\n",
      "Counter({0: 14208, 1: 14208})\n",
      "Counter({1: 8580, 0: 8469})\n",
      "Counter({0: 5739, 1: 5628})\n",
      "Confusion Matrix (Accuracy 0.8802)\n",
      "\n",
      "       Prediction\n",
      "Actual    0    1\n",
      "     0 4785  954\n",
      "     1  408 5220\n",
      "              precision    recall  f1-score   support\n",
      "\n",
      "           0       0.92      0.83      0.88      5739\n",
      "           1       0.85      0.93      0.88      5628\n",
      "\n",
      "    accuracy                           0.88     11367\n",
      "   macro avg       0.88      0.88      0.88     11367\n",
      "weighted avg       0.88      0.88      0.88     11367\n",
      "\n",
      "Area under curve is -  0.9507536001321647\n"
     ]
    },
    {
     "data": {
      "text/plain": [
       "{'whiskers': [<matplotlib.lines.Line2D at 0x1db4d970580>,\n",
       "  <matplotlib.lines.Line2D at 0x1db4d970a30>],\n",
       " 'caps': [<matplotlib.lines.Line2D at 0x1db4d970700>,\n",
       "  <matplotlib.lines.Line2D at 0x1db4d970460>],\n",
       " 'boxes': [<matplotlib.lines.Line2D at 0x1db4d952f40>],\n",
       " 'medians': [<matplotlib.lines.Line2D at 0x1db4d9707f0>],\n",
       " 'fliers': [<matplotlib.lines.Line2D at 0x1db4dc31220>],\n",
       " 'means': []}"
      ]
     },
     "execution_count": 56,
     "metadata": {},
     "output_type": "execute_result"
    },
    {
     "data": {
      "image/png": "[encoded data removed]",
      "text/plain": [
       "<Figure size 640x480 with 1 Axes>"
      ]
     },
     "metadata": {},
     "output_type": "display_data"
    }
   ],
   "source": [
    "X = data_top10\n",
    "y = data['FraudFound_P']\n",
    "\n",
    "counter = Counter(y)\n",
    "print(counter)\n",
    "\n",
    "\n",
    "aucValid_SMOTEBoost = list()\n",
    "\n",
    "for i in range(0,21):\n",
    "    over = SMOTE(random_state=i)\n",
    "    under = RandomUnderSampler(sampling_strategy=1)\n",
    "    steps = [('o', over), ('u', under)]\n",
    "    SMOTESampling = SamplingPipeline(steps=steps)\n",
    "    X_resampled, y_resampled = SMOTESampling.fit_resample(X, y)\n",
    "\n",
    "    if i == 1:\n",
    "        counter = Counter(y_resampled)\n",
    "        print(counter)\n",
    "\n",
    "    X_train,X_valid,y_train,y_valid = train_test_split(X_resampled,y_resampled, train_size=0.6, random_state=1)\n",
    "\n",
    "    if i == 1:\n",
    "        counter = Counter(y_train)\n",
    "        print(counter)\n",
    "        counter = Counter(y_valid)\n",
    "        print(counter)\n",
    "\n",
    "    # single tree\n",
    "    boost = AdaBoostClassifier(DecisionTreeClassifier(random_state=1),n_estimators=100, random_state=1)\n",
    "    boost.fit(X_train, y_train)\n",
    "    classes = boost.classes_\n",
    "\n",
    "\n",
    "    y_pred = boost.predict(X_valid)\n",
    "    \n",
    "    if i == 1:\n",
    "        classificationSummary(y_valid, y_pred, class_names=classes)\n",
    "        print(metrics.classification_report(y_valid,y_pred))\n",
    "        \n",
    "    y_pred_proba= boost.predict_proba(X_valid)[::,1]\n",
    "    auc = metrics.roc_auc_score(y_valid,y_pred_proba)\n",
    "    aucValid_SMOTEBoost.append(auc)\n",
    "\n",
    "print(\"Area under curve is - \", auc)\n",
    "\n",
    "plt.figure()\n",
    "plt.boxplot(aucValid_SMOTEBoost)    "
   ]
  },
  {
   "cell_type": "code",
   "execution_count": 130,
   "id": "b6756483",
   "metadata": {},
   "outputs": [],
   "source": [
    "np.mean(aucValid_SMOTEBoost)\n",
    "\n",
    "fp= open(r'./aucValid_SMOTEBoost.txt', 'w')\n",
    "fp.write(str(aucValid_SMOTEBoost))\n",
    "fp.close()"
   ]
  },
  {
   "cell_type": "markdown",
   "id": "6b6ef7f4",
   "metadata": {},
   "source": [
    "## Testing with KNN - simple SMOTE"
   ]
  },
  {
   "cell_type": "code",
   "execution_count": 57,
   "id": "31d915fb",
   "metadata": {},
   "outputs": [
    {
     "name": "stdout",
     "output_type": "stream",
     "text": [
      "Counter({0: 14208, 1: 892})\n",
      "Counter({0: 14208, 1: 14208})\n",
      "Counter({0: 14208, 1: 14208})\n",
      "Counter({1: 8580, 0: 8469})\n",
      "Counter({0: 5739, 1: 5628})\n",
      "Value of K is -  5\n"
     ]
    },
    {
     "name": "stderr",
     "output_type": "stream",
     "text": [
      "C:\\Users\\athimmas\\Anaconda3\\lib\\site-packages\\sklearn\\neighbors\\_classification.py:228: FutureWarning: Unlike other reduction functions (e.g. `skew`, `kurtosis`), the default behavior of `mode` typically preserves the axis it acts along. In SciPy 1.11.0, this behavior will change: the default value of `keepdims` will become False, the `axis` over which the statistic is taken will be eliminated, and the value None will no longer be accepted. Set `keepdims` to True or False to avoid this warning.\n",
      "  mode, _ = stats.mode(_y[neigh_ind, k], axis=1)\n"
     ]
    },
    {
     "name": "stdout",
     "output_type": "stream",
     "text": [
      "Confusion Matrix (Accuracy 0.8488)\n",
      "\n",
      "       Prediction\n",
      "Actual    0    1\n",
      "     0 4674 1065\n",
      "     1  654 4974\n",
      "              precision    recall  f1-score   support\n",
      "\n",
      "           0       0.88      0.81      0.84      5739\n",
      "           1       0.82      0.88      0.85      5628\n",
      "\n",
      "    accuracy                           0.85     11367\n",
      "   macro avg       0.85      0.85      0.85     11367\n",
      "weighted avg       0.85      0.85      0.85     11367\n",
      "\n",
      "Area under curve is -  0.9279778824742195\n"
     ]
    },
    {
     "name": "stderr",
     "output_type": "stream",
     "text": [
      "C:\\Users\\athimmas\\Anaconda3\\lib\\site-packages\\sklearn\\neighbors\\_classification.py:228: FutureWarning: Unlike other reduction functions (e.g. `skew`, `kurtosis`), the default behavior of `mode` typically preserves the axis it acts along. In SciPy 1.11.0, this behavior will change: the default value of `keepdims` will become False, the `axis` over which the statistic is taken will be eliminated, and the value None will no longer be accepted. Set `keepdims` to True or False to avoid this warning.\n",
      "  mode, _ = stats.mode(_y[neigh_ind, k], axis=1)\n"
     ]
    },
    {
     "name": "stdout",
     "output_type": "stream",
     "text": [
      "Confusion Matrix (Accuracy 0.8129)\n",
      "\n",
      "       Prediction\n",
      "Actual     0     1\n",
      "     0 11719  2489\n",
      "     1   336   556\n",
      "              precision    recall  f1-score   support\n",
      "\n",
      "           0       0.97      0.82      0.89     14208\n",
      "           1       0.18      0.62      0.28       892\n",
      "\n",
      "    accuracy                           0.81     15100\n",
      "   macro avg       0.58      0.72      0.59     15100\n",
      "weighted avg       0.93      0.81      0.86     15100\n",
      "\n",
      "Area under curve is -  0.823894609996768\n"
     ]
    }
   ],
   "source": [
    "X = data_top10\n",
    "y = data['FraudFound_P']\n",
    "\n",
    "counter = Counter(y)\n",
    "print(counter)\n",
    "\n",
    "over = SMOTE()\n",
    "under = RandomUnderSampler(sampling_strategy=1)\n",
    "steps = [('o', over), ('u', under)]\n",
    "SMOTESampling = SamplingPipeline(steps=steps)\n",
    "\n",
    "X_resampled, y_resampled = SMOTESampling.fit_resample(X, y)\n",
    "# summarize the new class distribution\n",
    "counter = Counter(y_resampled)\n",
    "print(counter)\n",
    "\n",
    "counter = Counter(y_resampled)\n",
    "print(counter)\n",
    "\n",
    "X_train,X_valid,y_train,y_valid = train_test_split(X_resampled,y_resampled, train_size=0.6, random_state=1)\n",
    "\n",
    "counter = Counter(y_train)\n",
    "print(counter)\n",
    "counter = Counter(y_valid)\n",
    "print(counter)\n",
    "\n",
    "k = 5\n",
    "print(\"Value of K is - \",k)\n",
    "#KNN = UnderSample_LogitReg = Pipeline([('scaler',StandardScaler()), ('KNN',KNeighborsClassifier(n_neighbors=k))])\n",
    "KNN = KNeighborsClassifier(n_neighbors=k)\n",
    "KNN.fit(X_train,y_train)\n",
    "y_pred = KNN.predict(X_valid)\n",
    "classificationSummary(y_valid, y_pred, class_names=classes)\n",
    "print(metrics.classification_report(y_valid,y_pred))\n",
    "y_pred_proba= KNN.predict_proba(X_valid)[::,1]\n",
    "auc = metrics.roc_auc_score(y_valid,y_pred_proba)\n",
    "print(\"Area under curve is - \", auc)\n",
    "\n",
    "y_pred = KNN.predict(X)\n",
    "classificationSummary(y, y_pred, class_names=classes)\n",
    "print(metrics.classification_report(y,y_pred))\n",
    "y_pred_proba= KNN.predict_proba(X)[::,1]\n",
    "auc = metrics.roc_auc_score(y,y_pred_proba)\n",
    "print(\"Area under curve is - \", auc)"
   ]
  },
  {
   "cell_type": "code",
   "execution_count": 58,
   "id": "296cd61d",
   "metadata": {},
   "outputs": [
    {
     "name": "stdout",
     "output_type": "stream",
     "text": [
      "Counter({0: 14208, 1: 892})\n"
     ]
    },
    {
     "name": "stderr",
     "output_type": "stream",
     "text": [
      "C:\\Users\\athimmas\\Anaconda3\\lib\\site-packages\\sklearn\\neighbors\\_classification.py:228: FutureWarning: Unlike other reduction functions (e.g. `skew`, `kurtosis`), the default behavior of `mode` typically preserves the axis it acts along. In SciPy 1.11.0, this behavior will change: the default value of `keepdims` will become False, the `axis` over which the statistic is taken will be eliminated, and the value None will no longer be accepted. Set `keepdims` to True or False to avoid this warning.\n",
      "  mode, _ = stats.mode(_y[neigh_ind, k], axis=1)\n",
      "C:\\Users\\athimmas\\Anaconda3\\lib\\site-packages\\sklearn\\neighbors\\_classification.py:228: FutureWarning: Unlike other reduction functions (e.g. `skew`, `kurtosis`), the default behavior of `mode` typically preserves the axis it acts along. In SciPy 1.11.0, this behavior will change: the default value of `keepdims` will become False, the `axis` over which the statistic is taken will be eliminated, and the value None will no longer be accepted. Set `keepdims` to True or False to avoid this warning.\n",
      "  mode, _ = stats.mode(_y[neigh_ind, k], axis=1)\n"
     ]
    },
    {
     "name": "stdout",
     "output_type": "stream",
     "text": [
      "Counter({0: 14208, 1: 14208})\n",
      "Counter({1: 8580, 0: 8469})\n",
      "Counter({0: 5739, 1: 5628})\n"
     ]
    },
    {
     "name": "stderr",
     "output_type": "stream",
     "text": [
      "C:\\Users\\athimmas\\Anaconda3\\lib\\site-packages\\sklearn\\neighbors\\_classification.py:228: FutureWarning: Unlike other reduction functions (e.g. `skew`, `kurtosis`), the default behavior of `mode` typically preserves the axis it acts along. In SciPy 1.11.0, this behavior will change: the default value of `keepdims` will become False, the `axis` over which the statistic is taken will be eliminated, and the value None will no longer be accepted. Set `keepdims` to True or False to avoid this warning.\n",
      "  mode, _ = stats.mode(_y[neigh_ind, k], axis=1)\n",
      "C:\\Users\\athimmas\\Anaconda3\\lib\\site-packages\\sklearn\\neighbors\\_classification.py:228: FutureWarning: Unlike other reduction functions (e.g. `skew`, `kurtosis`), the default behavior of `mode` typically preserves the axis it acts along. In SciPy 1.11.0, this behavior will change: the default value of `keepdims` will become False, the `axis` over which the statistic is taken will be eliminated, and the value None will no longer be accepted. Set `keepdims` to True or False to avoid this warning.\n",
      "  mode, _ = stats.mode(_y[neigh_ind, k], axis=1)\n"
     ]
    },
    {
     "name": "stdout",
     "output_type": "stream",
     "text": [
      "Confusion Matrix (Accuracy 0.8561)\n",
      "\n",
      "       Prediction\n",
      "Actual    0    1\n",
      "     0 4667 1072\n",
      "     1  564 5064\n",
      "              precision    recall  f1-score   support\n",
      "\n",
      "           0       0.89      0.81      0.85      5739\n",
      "           1       0.83      0.90      0.86      5628\n",
      "\n",
      "    accuracy                           0.86     11367\n",
      "   macro avg       0.86      0.86      0.86     11367\n",
      "weighted avg       0.86      0.86      0.86     11367\n",
      "\n"
     ]
    },
    {
     "name": "stderr",
     "output_type": "stream",
     "text": [
      "C:\\Users\\athimmas\\Anaconda3\\lib\\site-packages\\sklearn\\neighbors\\_classification.py:228: FutureWarning: Unlike other reduction functions (e.g. `skew`, `kurtosis`), the default behavior of `mode` typically preserves the axis it acts along. In SciPy 1.11.0, this behavior will change: the default value of `keepdims` will become False, the `axis` over which the statistic is taken will be eliminated, and the value None will no longer be accepted. Set `keepdims` to True or False to avoid this warning.\n",
      "  mode, _ = stats.mode(_y[neigh_ind, k], axis=1)\n",
      "C:\\Users\\athimmas\\Anaconda3\\lib\\site-packages\\sklearn\\neighbors\\_classification.py:228: FutureWarning: Unlike other reduction functions (e.g. `skew`, `kurtosis`), the default behavior of `mode` typically preserves the axis it acts along. In SciPy 1.11.0, this behavior will change: the default value of `keepdims` will become False, the `axis` over which the statistic is taken will be eliminated, and the value None will no longer be accepted. Set `keepdims` to True or False to avoid this warning.\n",
      "  mode, _ = stats.mode(_y[neigh_ind, k], axis=1)\n",
      "C:\\Users\\athimmas\\Anaconda3\\lib\\site-packages\\sklearn\\neighbors\\_classification.py:228: FutureWarning: Unlike other reduction functions (e.g. `skew`, `kurtosis`), the default behavior of `mode` typically preserves the axis it acts along. In SciPy 1.11.0, this behavior will change: the default value of `keepdims` will become False, the `axis` over which the statistic is taken will be eliminated, and the value None will no longer be accepted. Set `keepdims` to True or False to avoid this warning.\n",
      "  mode, _ = stats.mode(_y[neigh_ind, k], axis=1)\n",
      "C:\\Users\\athimmas\\Anaconda3\\lib\\site-packages\\sklearn\\neighbors\\_classification.py:228: FutureWarning: Unlike other reduction functions (e.g. `skew`, `kurtosis`), the default behavior of `mode` typically preserves the axis it acts along. In SciPy 1.11.0, this behavior will change: the default value of `keepdims` will become False, the `axis` over which the statistic is taken will be eliminated, and the value None will no longer be accepted. Set `keepdims` to True or False to avoid this warning.\n",
      "  mode, _ = stats.mode(_y[neigh_ind, k], axis=1)\n",
      "C:\\Users\\athimmas\\Anaconda3\\lib\\site-packages\\sklearn\\neighbors\\_classification.py:228: FutureWarning: Unlike other reduction functions (e.g. `skew`, `kurtosis`), the default behavior of `mode` typically preserves the axis it acts along. In SciPy 1.11.0, this behavior will change: the default value of `keepdims` will become False, the `axis` over which the statistic is taken will be eliminated, and the value None will no longer be accepted. Set `keepdims` to True or False to avoid this warning.\n",
      "  mode, _ = stats.mode(_y[neigh_ind, k], axis=1)\n",
      "C:\\Users\\athimmas\\Anaconda3\\lib\\site-packages\\sklearn\\neighbors\\_classification.py:228: FutureWarning: Unlike other reduction functions (e.g. `skew`, `kurtosis`), the default behavior of `mode` typically preserves the axis it acts along. In SciPy 1.11.0, this behavior will change: the default value of `keepdims` will become False, the `axis` over which the statistic is taken will be eliminated, and the value None will no longer be accepted. Set `keepdims` to True or False to avoid this warning.\n",
      "  mode, _ = stats.mode(_y[neigh_ind, k], axis=1)\n",
      "C:\\Users\\athimmas\\Anaconda3\\lib\\site-packages\\sklearn\\neighbors\\_classification.py:228: FutureWarning: Unlike other reduction functions (e.g. `skew`, `kurtosis`), the default behavior of `mode` typically preserves the axis it acts along. In SciPy 1.11.0, this behavior will change: the default value of `keepdims` will become False, the `axis` over which the statistic is taken will be eliminated, and the value None will no longer be accepted. Set `keepdims` to True or False to avoid this warning.\n",
      "  mode, _ = stats.mode(_y[neigh_ind, k], axis=1)\n",
      "C:\\Users\\athimmas\\Anaconda3\\lib\\site-packages\\sklearn\\neighbors\\_classification.py:228: FutureWarning: Unlike other reduction functions (e.g. `skew`, `kurtosis`), the default behavior of `mode` typically preserves the axis it acts along. In SciPy 1.11.0, this behavior will change: the default value of `keepdims` will become False, the `axis` over which the statistic is taken will be eliminated, and the value None will no longer be accepted. Set `keepdims` to True or False to avoid this warning.\n",
      "  mode, _ = stats.mode(_y[neigh_ind, k], axis=1)\n",
      "C:\\Users\\athimmas\\Anaconda3\\lib\\site-packages\\sklearn\\neighbors\\_classification.py:228: FutureWarning: Unlike other reduction functions (e.g. `skew`, `kurtosis`), the default behavior of `mode` typically preserves the axis it acts along. In SciPy 1.11.0, this behavior will change: the default value of `keepdims` will become False, the `axis` over which the statistic is taken will be eliminated, and the value None will no longer be accepted. Set `keepdims` to True or False to avoid this warning.\n",
      "  mode, _ = stats.mode(_y[neigh_ind, k], axis=1)\n",
      "C:\\Users\\athimmas\\Anaconda3\\lib\\site-packages\\sklearn\\neighbors\\_classification.py:228: FutureWarning: Unlike other reduction functions (e.g. `skew`, `kurtosis`), the default behavior of `mode` typically preserves the axis it acts along. In SciPy 1.11.0, this behavior will change: the default value of `keepdims` will become False, the `axis` over which the statistic is taken will be eliminated, and the value None will no longer be accepted. Set `keepdims` to True or False to avoid this warning.\n",
      "  mode, _ = stats.mode(_y[neigh_ind, k], axis=1)\n",
      "C:\\Users\\athimmas\\Anaconda3\\lib\\site-packages\\sklearn\\neighbors\\_classification.py:228: FutureWarning: Unlike other reduction functions (e.g. `skew`, `kurtosis`), the default behavior of `mode` typically preserves the axis it acts along. In SciPy 1.11.0, this behavior will change: the default value of `keepdims` will become False, the `axis` over which the statistic is taken will be eliminated, and the value None will no longer be accepted. Set `keepdims` to True or False to avoid this warning.\n",
      "  mode, _ = stats.mode(_y[neigh_ind, k], axis=1)\n",
      "C:\\Users\\athimmas\\Anaconda3\\lib\\site-packages\\sklearn\\neighbors\\_classification.py:228: FutureWarning: Unlike other reduction functions (e.g. `skew`, `kurtosis`), the default behavior of `mode` typically preserves the axis it acts along. In SciPy 1.11.0, this behavior will change: the default value of `keepdims` will become False, the `axis` over which the statistic is taken will be eliminated, and the value None will no longer be accepted. Set `keepdims` to True or False to avoid this warning.\n",
      "  mode, _ = stats.mode(_y[neigh_ind, k], axis=1)\n",
      "C:\\Users\\athimmas\\Anaconda3\\lib\\site-packages\\sklearn\\neighbors\\_classification.py:228: FutureWarning: Unlike other reduction functions (e.g. `skew`, `kurtosis`), the default behavior of `mode` typically preserves the axis it acts along. In SciPy 1.11.0, this behavior will change: the default value of `keepdims` will become False, the `axis` over which the statistic is taken will be eliminated, and the value None will no longer be accepted. Set `keepdims` to True or False to avoid this warning.\n",
      "  mode, _ = stats.mode(_y[neigh_ind, k], axis=1)\n",
      "C:\\Users\\athimmas\\Anaconda3\\lib\\site-packages\\sklearn\\neighbors\\_classification.py:228: FutureWarning: Unlike other reduction functions (e.g. `skew`, `kurtosis`), the default behavior of `mode` typically preserves the axis it acts along. In SciPy 1.11.0, this behavior will change: the default value of `keepdims` will become False, the `axis` over which the statistic is taken will be eliminated, and the value None will no longer be accepted. Set `keepdims` to True or False to avoid this warning.\n",
      "  mode, _ = stats.mode(_y[neigh_ind, k], axis=1)\n",
      "C:\\Users\\athimmas\\Anaconda3\\lib\\site-packages\\sklearn\\neighbors\\_classification.py:228: FutureWarning: Unlike other reduction functions (e.g. `skew`, `kurtosis`), the default behavior of `mode` typically preserves the axis it acts along. In SciPy 1.11.0, this behavior will change: the default value of `keepdims` will become False, the `axis` over which the statistic is taken will be eliminated, and the value None will no longer be accepted. Set `keepdims` to True or False to avoid this warning.\n",
      "  mode, _ = stats.mode(_y[neigh_ind, k], axis=1)\n"
     ]
    },
    {
     "name": "stderr",
     "output_type": "stream",
     "text": [
      "C:\\Users\\athimmas\\Anaconda3\\lib\\site-packages\\sklearn\\neighbors\\_classification.py:228: FutureWarning: Unlike other reduction functions (e.g. `skew`, `kurtosis`), the default behavior of `mode` typically preserves the axis it acts along. In SciPy 1.11.0, this behavior will change: the default value of `keepdims` will become False, the `axis` over which the statistic is taken will be eliminated, and the value None will no longer be accepted. Set `keepdims` to True or False to avoid this warning.\n",
      "  mode, _ = stats.mode(_y[neigh_ind, k], axis=1)\n",
      "C:\\Users\\athimmas\\Anaconda3\\lib\\site-packages\\sklearn\\neighbors\\_classification.py:228: FutureWarning: Unlike other reduction functions (e.g. `skew`, `kurtosis`), the default behavior of `mode` typically preserves the axis it acts along. In SciPy 1.11.0, this behavior will change: the default value of `keepdims` will become False, the `axis` over which the statistic is taken will be eliminated, and the value None will no longer be accepted. Set `keepdims` to True or False to avoid this warning.\n",
      "  mode, _ = stats.mode(_y[neigh_ind, k], axis=1)\n",
      "C:\\Users\\athimmas\\Anaconda3\\lib\\site-packages\\sklearn\\neighbors\\_classification.py:228: FutureWarning: Unlike other reduction functions (e.g. `skew`, `kurtosis`), the default behavior of `mode` typically preserves the axis it acts along. In SciPy 1.11.0, this behavior will change: the default value of `keepdims` will become False, the `axis` over which the statistic is taken will be eliminated, and the value None will no longer be accepted. Set `keepdims` to True or False to avoid this warning.\n",
      "  mode, _ = stats.mode(_y[neigh_ind, k], axis=1)\n",
      "C:\\Users\\athimmas\\Anaconda3\\lib\\site-packages\\sklearn\\neighbors\\_classification.py:228: FutureWarning: Unlike other reduction functions (e.g. `skew`, `kurtosis`), the default behavior of `mode` typically preserves the axis it acts along. In SciPy 1.11.0, this behavior will change: the default value of `keepdims` will become False, the `axis` over which the statistic is taken will be eliminated, and the value None will no longer be accepted. Set `keepdims` to True or False to avoid this warning.\n",
      "  mode, _ = stats.mode(_y[neigh_ind, k], axis=1)\n",
      "C:\\Users\\athimmas\\Anaconda3\\lib\\site-packages\\sklearn\\neighbors\\_classification.py:228: FutureWarning: Unlike other reduction functions (e.g. `skew`, `kurtosis`), the default behavior of `mode` typically preserves the axis it acts along. In SciPy 1.11.0, this behavior will change: the default value of `keepdims` will become False, the `axis` over which the statistic is taken will be eliminated, and the value None will no longer be accepted. Set `keepdims` to True or False to avoid this warning.\n",
      "  mode, _ = stats.mode(_y[neigh_ind, k], axis=1)\n",
      "C:\\Users\\athimmas\\Anaconda3\\lib\\site-packages\\sklearn\\neighbors\\_classification.py:228: FutureWarning: Unlike other reduction functions (e.g. `skew`, `kurtosis`), the default behavior of `mode` typically preserves the axis it acts along. In SciPy 1.11.0, this behavior will change: the default value of `keepdims` will become False, the `axis` over which the statistic is taken will be eliminated, and the value None will no longer be accepted. Set `keepdims` to True or False to avoid this warning.\n",
      "  mode, _ = stats.mode(_y[neigh_ind, k], axis=1)\n",
      "C:\\Users\\athimmas\\Anaconda3\\lib\\site-packages\\sklearn\\neighbors\\_classification.py:228: FutureWarning: Unlike other reduction functions (e.g. `skew`, `kurtosis`), the default behavior of `mode` typically preserves the axis it acts along. In SciPy 1.11.0, this behavior will change: the default value of `keepdims` will become False, the `axis` over which the statistic is taken will be eliminated, and the value None will no longer be accepted. Set `keepdims` to True or False to avoid this warning.\n",
      "  mode, _ = stats.mode(_y[neigh_ind, k], axis=1)\n",
      "C:\\Users\\athimmas\\Anaconda3\\lib\\site-packages\\sklearn\\neighbors\\_classification.py:228: FutureWarning: Unlike other reduction functions (e.g. `skew`, `kurtosis`), the default behavior of `mode` typically preserves the axis it acts along. In SciPy 1.11.0, this behavior will change: the default value of `keepdims` will become False, the `axis` over which the statistic is taken will be eliminated, and the value None will no longer be accepted. Set `keepdims` to True or False to avoid this warning.\n",
      "  mode, _ = stats.mode(_y[neigh_ind, k], axis=1)\n",
      "C:\\Users\\athimmas\\Anaconda3\\lib\\site-packages\\sklearn\\neighbors\\_classification.py:228: FutureWarning: Unlike other reduction functions (e.g. `skew`, `kurtosis`), the default behavior of `mode` typically preserves the axis it acts along. In SciPy 1.11.0, this behavior will change: the default value of `keepdims` will become False, the `axis` over which the statistic is taken will be eliminated, and the value None will no longer be accepted. Set `keepdims` to True or False to avoid this warning.\n",
      "  mode, _ = stats.mode(_y[neigh_ind, k], axis=1)\n",
      "C:\\Users\\athimmas\\Anaconda3\\lib\\site-packages\\sklearn\\neighbors\\_classification.py:228: FutureWarning: Unlike other reduction functions (e.g. `skew`, `kurtosis`), the default behavior of `mode` typically preserves the axis it acts along. In SciPy 1.11.0, this behavior will change: the default value of `keepdims` will become False, the `axis` over which the statistic is taken will be eliminated, and the value None will no longer be accepted. Set `keepdims` to True or False to avoid this warning.\n",
      "  mode, _ = stats.mode(_y[neigh_ind, k], axis=1)\n",
      "C:\\Users\\athimmas\\Anaconda3\\lib\\site-packages\\sklearn\\neighbors\\_classification.py:228: FutureWarning: Unlike other reduction functions (e.g. `skew`, `kurtosis`), the default behavior of `mode` typically preserves the axis it acts along. In SciPy 1.11.0, this behavior will change: the default value of `keepdims` will become False, the `axis` over which the statistic is taken will be eliminated, and the value None will no longer be accepted. Set `keepdims` to True or False to avoid this warning.\n",
      "  mode, _ = stats.mode(_y[neigh_ind, k], axis=1)\n",
      "C:\\Users\\athimmas\\Anaconda3\\lib\\site-packages\\sklearn\\neighbors\\_classification.py:228: FutureWarning: Unlike other reduction functions (e.g. `skew`, `kurtosis`), the default behavior of `mode` typically preserves the axis it acts along. In SciPy 1.11.0, this behavior will change: the default value of `keepdims` will become False, the `axis` over which the statistic is taken will be eliminated, and the value None will no longer be accepted. Set `keepdims` to True or False to avoid this warning.\n",
      "  mode, _ = stats.mode(_y[neigh_ind, k], axis=1)\n",
      "C:\\Users\\athimmas\\Anaconda3\\lib\\site-packages\\sklearn\\neighbors\\_classification.py:228: FutureWarning: Unlike other reduction functions (e.g. `skew`, `kurtosis`), the default behavior of `mode` typically preserves the axis it acts along. In SciPy 1.11.0, this behavior will change: the default value of `keepdims` will become False, the `axis` over which the statistic is taken will be eliminated, and the value None will no longer be accepted. Set `keepdims` to True or False to avoid this warning.\n",
      "  mode, _ = stats.mode(_y[neigh_ind, k], axis=1)\n",
      "C:\\Users\\athimmas\\Anaconda3\\lib\\site-packages\\sklearn\\neighbors\\_classification.py:228: FutureWarning: Unlike other reduction functions (e.g. `skew`, `kurtosis`), the default behavior of `mode` typically preserves the axis it acts along. In SciPy 1.11.0, this behavior will change: the default value of `keepdims` will become False, the `axis` over which the statistic is taken will be eliminated, and the value None will no longer be accepted. Set `keepdims` to True or False to avoid this warning.\n",
      "  mode, _ = stats.mode(_y[neigh_ind, k], axis=1)\n",
      "C:\\Users\\athimmas\\Anaconda3\\lib\\site-packages\\sklearn\\neighbors\\_classification.py:228: FutureWarning: Unlike other reduction functions (e.g. `skew`, `kurtosis`), the default behavior of `mode` typically preserves the axis it acts along. In SciPy 1.11.0, this behavior will change: the default value of `keepdims` will become False, the `axis` over which the statistic is taken will be eliminated, and the value None will no longer be accepted. Set `keepdims` to True or False to avoid this warning.\n",
      "  mode, _ = stats.mode(_y[neigh_ind, k], axis=1)\n"
     ]
    },
    {
     "name": "stderr",
     "output_type": "stream",
     "text": [
      "C:\\Users\\athimmas\\Anaconda3\\lib\\site-packages\\sklearn\\neighbors\\_classification.py:228: FutureWarning: Unlike other reduction functions (e.g. `skew`, `kurtosis`), the default behavior of `mode` typically preserves the axis it acts along. In SciPy 1.11.0, this behavior will change: the default value of `keepdims` will become False, the `axis` over which the statistic is taken will be eliminated, and the value None will no longer be accepted. Set `keepdims` to True or False to avoid this warning.\n",
      "  mode, _ = stats.mode(_y[neigh_ind, k], axis=1)\n",
      "C:\\Users\\athimmas\\Anaconda3\\lib\\site-packages\\sklearn\\neighbors\\_classification.py:228: FutureWarning: Unlike other reduction functions (e.g. `skew`, `kurtosis`), the default behavior of `mode` typically preserves the axis it acts along. In SciPy 1.11.0, this behavior will change: the default value of `keepdims` will become False, the `axis` over which the statistic is taken will be eliminated, and the value None will no longer be accepted. Set `keepdims` to True or False to avoid this warning.\n",
      "  mode, _ = stats.mode(_y[neigh_ind, k], axis=1)\n",
      "C:\\Users\\athimmas\\Anaconda3\\lib\\site-packages\\sklearn\\neighbors\\_classification.py:228: FutureWarning: Unlike other reduction functions (e.g. `skew`, `kurtosis`), the default behavior of `mode` typically preserves the axis it acts along. In SciPy 1.11.0, this behavior will change: the default value of `keepdims` will become False, the `axis` over which the statistic is taken will be eliminated, and the value None will no longer be accepted. Set `keepdims` to True or False to avoid this warning.\n",
      "  mode, _ = stats.mode(_y[neigh_ind, k], axis=1)\n",
      "C:\\Users\\athimmas\\Anaconda3\\lib\\site-packages\\sklearn\\neighbors\\_classification.py:228: FutureWarning: Unlike other reduction functions (e.g. `skew`, `kurtosis`), the default behavior of `mode` typically preserves the axis it acts along. In SciPy 1.11.0, this behavior will change: the default value of `keepdims` will become False, the `axis` over which the statistic is taken will be eliminated, and the value None will no longer be accepted. Set `keepdims` to True or False to avoid this warning.\n",
      "  mode, _ = stats.mode(_y[neigh_ind, k], axis=1)\n",
      "C:\\Users\\athimmas\\Anaconda3\\lib\\site-packages\\sklearn\\neighbors\\_classification.py:228: FutureWarning: Unlike other reduction functions (e.g. `skew`, `kurtosis`), the default behavior of `mode` typically preserves the axis it acts along. In SciPy 1.11.0, this behavior will change: the default value of `keepdims` will become False, the `axis` over which the statistic is taken will be eliminated, and the value None will no longer be accepted. Set `keepdims` to True or False to avoid this warning.\n",
      "  mode, _ = stats.mode(_y[neigh_ind, k], axis=1)\n",
      "C:\\Users\\athimmas\\Anaconda3\\lib\\site-packages\\sklearn\\neighbors\\_classification.py:228: FutureWarning: Unlike other reduction functions (e.g. `skew`, `kurtosis`), the default behavior of `mode` typically preserves the axis it acts along. In SciPy 1.11.0, this behavior will change: the default value of `keepdims` will become False, the `axis` over which the statistic is taken will be eliminated, and the value None will no longer be accepted. Set `keepdims` to True or False to avoid this warning.\n",
      "  mode, _ = stats.mode(_y[neigh_ind, k], axis=1)\n",
      "C:\\Users\\athimmas\\Anaconda3\\lib\\site-packages\\sklearn\\neighbors\\_classification.py:228: FutureWarning: Unlike other reduction functions (e.g. `skew`, `kurtosis`), the default behavior of `mode` typically preserves the axis it acts along. In SciPy 1.11.0, this behavior will change: the default value of `keepdims` will become False, the `axis` over which the statistic is taken will be eliminated, and the value None will no longer be accepted. Set `keepdims` to True or False to avoid this warning.\n",
      "  mode, _ = stats.mode(_y[neigh_ind, k], axis=1)\n",
      "C:\\Users\\athimmas\\Anaconda3\\lib\\site-packages\\sklearn\\neighbors\\_classification.py:228: FutureWarning: Unlike other reduction functions (e.g. `skew`, `kurtosis`), the default behavior of `mode` typically preserves the axis it acts along. In SciPy 1.11.0, this behavior will change: the default value of `keepdims` will become False, the `axis` over which the statistic is taken will be eliminated, and the value None will no longer be accepted. Set `keepdims` to True or False to avoid this warning.\n",
      "  mode, _ = stats.mode(_y[neigh_ind, k], axis=1)\n"
     ]
    },
    {
     "name": "stdout",
     "output_type": "stream",
     "text": [
      "Area under curve is -  0.9284076004365697\n"
     ]
    },
    {
     "data": {
      "text/plain": [
       "{'whiskers': [<matplotlib.lines.Line2D at 0x1db4da416d0>,\n",
       "  <matplotlib.lines.Line2D at 0x1db4da4b1c0>],\n",
       " 'caps': [<matplotlib.lines.Line2D at 0x1db4da4bdf0>,\n",
       "  <matplotlib.lines.Line2D at 0x1db4da4beb0>],\n",
       " 'boxes': [<matplotlib.lines.Line2D at 0x1db4da4bb20>],\n",
       " 'medians': [<matplotlib.lines.Line2D at 0x1db4da4bb50>],\n",
       " 'fliers': [<matplotlib.lines.Line2D at 0x1db4da6a2e0>],\n",
       " 'means': []}"
      ]
     },
     "execution_count": 58,
     "metadata": {},
     "output_type": "execute_result"
    },
    {
     "data": {
      "image/png": "[encoded data removed]",
      "text/plain": [
       "<Figure size 640x480 with 1 Axes>"
      ]
     },
     "metadata": {},
     "output_type": "display_data"
    }
   ],
   "source": [
    "X = data_top10\n",
    "y = data['FraudFound_P']\n",
    "\n",
    "counter = Counter(y)\n",
    "print(counter)\n",
    "\n",
    "\n",
    "aucValid_SMOTEKNN = list()\n",
    "\n",
    "for i in range(0,21):\n",
    "    over = SMOTE(random_state=i)\n",
    "    under = RandomUnderSampler(sampling_strategy=1)\n",
    "    steps = [('o', over), ('u', under)]\n",
    "    SMOTESampling = SamplingPipeline(steps=steps)\n",
    "    X_resampled, y_resampled = SMOTESampling.fit_resample(X, y)\n",
    "\n",
    "    if i == 1:\n",
    "        counter = Counter(y_resampled)\n",
    "        print(counter)\n",
    "\n",
    "    X_train,X_valid,y_train,y_valid = train_test_split(X_resampled,y_resampled, train_size=0.6, random_state=1)\n",
    "\n",
    "    if i == 1:\n",
    "        counter = Counter(y_train)\n",
    "        print(counter)\n",
    "        counter = Counter(y_valid)\n",
    "        print(counter)\n",
    "\n",
    "    k = 5\n",
    "    \n",
    "    if k == 1:\n",
    "        print(\"Value of K is - \",k)\n",
    "    #KNN = UnderSample_LogitReg = Pipeline([('scaler',StandardScaler()), ('KNN',KNeighborsClassifier(n_neighbors=k))])\n",
    "    KNN = KNeighborsClassifier(n_neighbors=k)\n",
    "    KNN.fit(X_train,y_train)\n",
    "    \n",
    "    y_pred = KNN.predict(X_valid)\n",
    "    \n",
    "    if k == 1:\n",
    "        classificationSummary(y_valid, y_pred, class_names=classes)\n",
    "        print(metrics.classification_report(y_valid,y_pred))\n",
    "        \n",
    "    y_pred_proba= KNN.predict_proba(X_valid)[::,1]\n",
    "    auc = metrics.roc_auc_score(y_valid,y_pred_proba)\n",
    "    if k == 1:\n",
    "        print(\"Area under curve is - \", auc)\n",
    "\n",
    "\n",
    "    y_pred = KNN.predict(X_valid)\n",
    "    \n",
    "    if i == 1:\n",
    "        classificationSummary(y_valid, y_pred, class_names=classes)\n",
    "        print(metrics.classification_report(y_valid,y_pred))\n",
    "        \n",
    "    y_pred_proba= KNN.predict_proba(X_valid)[::,1]\n",
    "    auc = metrics.roc_auc_score(y_valid,y_pred_proba)\n",
    "    aucValid_SMOTEKNN.append(auc)\n",
    "\n",
    "print(\"Area under curve is - \", auc)\n",
    "\n",
    "plt.figure()\n",
    "plt.boxplot(aucValid_SMOTEKNN)    "
   ]
  },
  {
   "cell_type": "code",
   "execution_count": 131,
   "id": "a6155a9b",
   "metadata": {},
   "outputs": [],
   "source": [
    "np.mean(aucValid_SMOTEKNN)\n",
    "\n",
    "fp= open(r'./aucValid_SMOTEKNN.txt', 'w')\n",
    "fp.write(str(aucValid_SMOTEKNN))\n",
    "fp.close()"
   ]
  },
  {
   "cell_type": "code",
   "execution_count": 59,
   "id": "c8eb25ca",
   "metadata": {},
   "outputs": [
    {
     "name": "stdout",
     "output_type": "stream",
     "text": [
      "Counter({0: 14208, 1: 892})\n",
      "Counter({0: 892, 1: 892})\n",
      "Counter({1: 540, 0: 530})\n",
      "Counter({0: 362, 1: 352})\n",
      "Confusion Matrix (Accuracy 0.7813)\n",
      "\n",
      "       Prediction\n",
      "Actual   0   1\n",
      "     0 328 202\n",
      "     1  32 508\n",
      "              precision    recall  f1-score   support\n",
      "\n",
      "           0       0.91      0.62      0.74       530\n",
      "           1       0.72      0.94      0.81       540\n",
      "\n",
      "    accuracy                           0.78      1070\n",
      "   macro avg       0.81      0.78      0.77      1070\n",
      "weighted avg       0.81      0.78      0.78      1070\n",
      "\n",
      "Area under curve is -  0.8971872816212438\n",
      "Confusion Matrix (Accuracy 0.7507)\n",
      "\n",
      "       Prediction\n",
      "Actual   0   1\n",
      "     0 223 139\n",
      "     1  39 313\n",
      "              precision    recall  f1-score   support\n",
      "\n",
      "           0       0.85      0.62      0.71       362\n",
      "           1       0.69      0.89      0.78       352\n",
      "\n",
      "    accuracy                           0.75       714\n",
      "   macro avg       0.77      0.75      0.75       714\n",
      "weighted avg       0.77      0.75      0.75       714\n",
      "\n",
      "Area under curve is -  0.7694586577096937\n",
      "Confusion Matrix (Accuracy 0.6023)\n",
      "\n",
      "       Prediction\n",
      "Actual    0    1\n",
      "     0 8273 5935\n",
      "     1   71  821\n",
      "              precision    recall  f1-score   support\n",
      "\n",
      "           0       0.99      0.58      0.73     14208\n",
      "           1       0.12      0.92      0.21       892\n",
      "\n",
      "    accuracy                           0.60     15100\n",
      "   macro avg       0.56      0.75      0.47     15100\n",
      "weighted avg       0.94      0.60      0.70     15100\n",
      "\n",
      "Area under curve is -  0.8051449098341615\n"
     ]
    }
   ],
   "source": [
    "X = data_top10\n",
    "y = data['FraudFound_P']\n",
    "\n",
    "counter = Counter(y)\n",
    "print(counter)\n",
    "\n",
    "UnderSampler = RandomUnderSampler()\n",
    "X_resampled, y_resampled = UnderSampler.fit_resample(X, y)\n",
    "\n",
    "counter = Counter(y_resampled)\n",
    "print(counter)\n",
    "\n",
    "X_train,X_valid,y_train,y_valid = train_test_split(X_resampled,y_resampled, train_size=0.6, random_state=1)\n",
    "\n",
    "counter = Counter(y_train)\n",
    "print(counter)\n",
    "counter = Counter(y_valid)\n",
    "print(counter)\n",
    "\n",
    "# SVM\n",
    "SVM = svm.SVC(probability=True)\n",
    "SVM.fit(X_train, y_train)\n",
    "classes = SVM.classes_\n",
    "                      \n",
    "y_pred = SVM.predict(X_train)\n",
    "classificationSummary(y_train, y_pred, class_names=classes)\n",
    "print(metrics.classification_report(y_train,y_pred))\n",
    "y_pred_proba = SVM.predict_proba(X_train)[::,1]\n",
    "auc = metrics.roc_auc_score(y_train,y_pred_proba)\n",
    "print(\"Area under curve is - \", auc)\n",
    "\n",
    "y_pred = SVM.predict(X_valid)\n",
    "classificationSummary(y_valid, y_pred, class_names=classes)\n",
    "print(metrics.classification_report(y_valid,y_pred))\n",
    "y_pred_proba = SVM.predict_proba(X_valid)[::,1]\n",
    "auc = metrics.roc_auc_score(y_valid,y_pred_proba)\n",
    "print(\"Area under curve is - \", auc)\n",
    "\n",
    "y_pred = SVM.predict(X)\n",
    "classificationSummary(y, y_pred, class_names=classes)\n",
    "print(metrics.classification_report(y,y_pred))\n",
    "y_pred_proba = SVM.predict_proba(X)[::,1]\n",
    "aucBoost_undersample = metrics.roc_auc_score(y,y_pred_proba)\n",
    "print(\"Area under curve is - \", aucBoost_undersample)"
   ]
  },
  {
   "cell_type": "code",
   "execution_count": 60,
   "id": "78541c71",
   "metadata": {},
   "outputs": [
    {
     "name": "stdout",
     "output_type": "stream",
     "text": [
      "Counter({0: 14208, 1: 892})\n",
      "Counter({0: 14208, 1: 14208})\n",
      "Counter({1: 8580, 0: 8469})\n",
      "Counter({0: 5739, 1: 5628})\n",
      "Confusion Matrix (Accuracy 0.7363)\n",
      "\n",
      "       Prediction\n",
      "Actual    0    1\n",
      "     0 5739    0\n",
      "     1 2997 2631\n",
      "              precision    recall  f1-score   support\n",
      "\n",
      "           0       0.66      1.00      0.79      5739\n",
      "           1       1.00      0.47      0.64      5628\n",
      "\n",
      "    accuracy                           0.74     11367\n",
      "   macro avg       0.83      0.73      0.72     11367\n",
      "weighted avg       0.83      0.74      0.72     11367\n",
      "\n",
      "Area under curve is -  0.8870821817529732\n"
     ]
    },
    {
     "data": {
      "image/png": "[encoded data removed]",
      "text/plain": [
       "<Figure size 640x480 with 1 Axes>"
      ]
     },
     "metadata": {},
     "output_type": "display_data"
    }
   ],
   "source": [
    "if RunSVM:    \n",
    "    X = data_top10\n",
    "    y = data['FraudFound_P']\n",
    "\n",
    "    counter = Counter(y)\n",
    "    print(counter)\n",
    "\n",
    "    aucSVM_SMOTE = list()\n",
    "\n",
    "    for i in range(1,21):\n",
    "        over = SMOTE(random_state=i)\n",
    "        under = RandomUnderSampler(sampling_strategy=1)\n",
    "        steps = [('o', over), ('u', under)]\n",
    "        SMOTESampling = SamplingPipeline(steps=steps)\n",
    "        X_resampled, y_resampled = SMOTESampling.fit_resample(X, y)\n",
    "\n",
    "        if i == 1:\n",
    "            counter = Counter(y_resampled)\n",
    "            print(counter)\n",
    "\n",
    "        X_train,X_valid,y_train,y_valid = train_test_split(X_resampled,y_resampled, train_size=0.6, random_state=1)\n",
    "\n",
    "        if i == 1:\n",
    "            counter = Counter(y_train)\n",
    "            print(counter)\n",
    "            counter = Counter(y_valid)\n",
    "            print(counter)\n",
    "\n",
    "        # SVM\n",
    "        SVM = svm.SVC(probability=True)\n",
    "        SVM.fit(X_train, y_train)\n",
    "        classes = SVM.classes_\n",
    "\n",
    "\n",
    "        y_pred = SVM.predict(X_valid)\n",
    "\n",
    "        if i == 1:\n",
    "            classificationSummary(y_valid, y_pred, class_names=classes)\n",
    "\n",
    "        if i == 1:\n",
    "            print(metrics.classification_report(y_valid,y_pred))\n",
    "\n",
    "        y_pred_proba = SVM.predict_proba(X_valid)[::,1]\n",
    "        auc = metrics.roc_auc_score(y_valid,y_pred_proba)\n",
    "        aucSVM_SMOTE.append(auc)\n",
    "\n",
    "        if i == 1:\n",
    "            print(\"Area under curve is - \", auc)\n",
    "\n",
    "    plt.figure()\n",
    "    plt.boxplot(aucSVM_SMOTE)  "
   ]
  },
  {
   "cell_type": "code",
   "execution_count": 132,
   "id": "829c2666",
   "metadata": {},
   "outputs": [
    {
     "name": "stdout",
     "output_type": "stream",
     "text": [
      "0.8793931722600747\n"
     ]
    }
   ],
   "source": [
    "print(np.mean(aucSVM_SMOTE))\n",
    "\n",
    "fp= open(r'./aucSVM_SMOTE.txt', 'w')\n",
    "fp.write(str(aucSVM_SMOTE))\n",
    "fp.close()"
   ]
  },
  {
   "cell_type": "markdown",
   "id": "996d0946",
   "metadata": {},
   "source": [
    "# Borderline SMOTE"
   ]
  },
  {
   "cell_type": "markdown",
   "id": "b2963184",
   "metadata": {},
   "source": [
    "### Logistic regression with Borderline SMOTE"
   ]
  },
  {
   "cell_type": "code",
   "execution_count": 61,
   "id": "5b12b526",
   "metadata": {},
   "outputs": [
    {
     "name": "stdout",
     "output_type": "stream",
     "text": [
      "Counter({0: 14208, 1: 892})\n",
      "Counter({0: 14208, 1: 14208})\n",
      "Counter({1: 8580, 0: 8469})\n",
      "Counter({0: 5739, 1: 5628})\n"
     ]
    },
    {
     "data": {
      "text/plain": [
       "Pipeline(steps=[('scaler', StandardScaler()),\n",
       "                ('LogitRegressor', LogisticRegression(max_iter=1000))])"
      ]
     },
     "execution_count": 61,
     "metadata": {},
     "output_type": "execute_result"
    }
   ],
   "source": [
    "X = data_top10\n",
    "y = data['FraudFound_P']\n",
    "\n",
    "counter = Counter(y)\n",
    "print(counter)\n",
    "\n",
    "over = BorderlineSMOTE()\n",
    "under = RandomUnderSampler(sampling_strategy=1)\n",
    "steps = [('o', over), ('u', under)]\n",
    "SMOTESampling = SamplingPipeline(steps=steps)\n",
    "\n",
    "X_resampled, y_resampled = SMOTESampling.fit_resample(X, y)\n",
    "# summarize the new class distribution\n",
    "counter = Counter(y_resampled)\n",
    "print(counter)\n",
    "\n",
    "X_train,X_valid,y_train,y_valid = train_test_split(X_resampled,y_resampled, train_size=0.6, random_state=1)\n",
    "\n",
    "counter = Counter(y_train)\n",
    "print(counter)\n",
    "counter = Counter(y_valid)\n",
    "print(counter)\n",
    "\n",
    "BorderlineSMOTE_LogitReg = Pipeline([('scaler',StandardScaler()), ('LogitRegressor',LogisticRegression(max_iter=1000))])\n",
    "BorderlineSMOTE_LogitReg.fit(X_train,y_train)"
   ]
  },
  {
   "cell_type": "markdown",
   "id": "086e5def",
   "metadata": {},
   "source": [
    "## Results with borderline sampling"
   ]
  },
  {
   "cell_type": "code",
   "execution_count": 62,
   "id": "c6a9b82f",
   "metadata": {},
   "outputs": [
    {
     "name": "stdout",
     "output_type": "stream",
     "text": [
      "              precision    recall  f1-score   support\n",
      "\n",
      "           0       0.67      0.97      0.79      8469\n",
      "           1       0.95      0.52      0.67      8580\n",
      "\n",
      "    accuracy                           0.74     17049\n",
      "   macro avg       0.81      0.75      0.73     17049\n",
      "weighted avg       0.81      0.74      0.73     17049\n",
      "\n",
      "Confusion Matrix (Accuracy 0.7442)\n",
      "\n",
      "       Prediction\n",
      "Actual    0    1\n",
      "     0 8230  239\n",
      "     1 4122 4458\n",
      "Area under curve is -  0.7817079484454619\n"
     ]
    }
   ],
   "source": [
    "y_pred = BorderlineSMOTE_LogitReg.predict(X_train)\n",
    "print(metrics.classification_report(y_train,y_pred))\n",
    "classificationSummary(y_train,y_pred)\n",
    "\n",
    "y_pred_proba = BorderlineSMOTE_LogitReg.predict_proba(X_train)[::,1]\n",
    "auc = metrics.roc_auc_score(y_train, y_pred_proba)\n",
    "\n",
    "print(\"Area under curve is - \", auc)"
   ]
  },
  {
   "cell_type": "code",
   "execution_count": 63,
   "id": "d8129269",
   "metadata": {},
   "outputs": [
    {
     "name": "stdout",
     "output_type": "stream",
     "text": [
      "              precision    recall  f1-score   support\n",
      "\n",
      "           0       0.67      0.97      0.79      5739\n",
      "           1       0.94      0.52      0.67      5628\n",
      "\n",
      "    accuracy                           0.75     11367\n",
      "   macro avg       0.81      0.74      0.73     11367\n",
      "weighted avg       0.81      0.75      0.73     11367\n",
      "\n",
      "Confusion Matrix (Accuracy 0.7453)\n",
      "\n",
      "       Prediction\n",
      "Actual    0    1\n",
      "     0 5567  172\n",
      "     1 2723 2905\n",
      "Area under curve is -  0.7757579686760235\n"
     ]
    }
   ],
   "source": [
    "y_pred = BorderlineSMOTE_LogitReg.predict(X_valid)\n",
    "print(metrics.classification_report(y_valid,y_pred))\n",
    "classificationSummary(y_valid,y_pred)\n",
    "\n",
    "y_pred_proba = BorderlineSMOTE_LogitReg.predict_proba(X_valid)[::,1]\n",
    "auc = metrics.roc_auc_score(y_valid, y_pred_proba)\n",
    "\n",
    "print(\"Area under curve is - \", auc)"
   ]
  },
  {
   "cell_type": "code",
   "execution_count": 64,
   "id": "a8de736c",
   "metadata": {},
   "outputs": [
    {
     "name": "stdout",
     "output_type": "stream",
     "text": [
      "              precision    recall  f1-score   support\n",
      "\n",
      "           0       0.94      0.97      0.96     14208\n",
      "           1       0.13      0.07      0.09       892\n",
      "\n",
      "    accuracy                           0.92     15100\n",
      "   macro avg       0.54      0.52      0.52     15100\n",
      "weighted avg       0.90      0.92      0.91     15100\n",
      "\n",
      "Confusion Matrix (Accuracy 0.9177)\n",
      "\n",
      "       Prediction\n",
      "Actual     0     1\n",
      "     0 13797   411\n",
      "     1   831    61\n",
      "Area under curve is -  0.5852087767770573\n"
     ]
    }
   ],
   "source": [
    "y_pred = BorderlineSMOTE_LogitReg.predict(X)\n",
    "print(metrics.classification_report(y,y_pred))\n",
    "classificationSummary(y,y_pred)\n",
    "\n",
    "y_pred_proba = BorderlineSMOTE_LogitReg.predict_proba(X)[::,1]\n",
    "auc_borderlineSMOTE = metrics.roc_auc_score(y, y_pred_proba)\n",
    "\n",
    "print(\"Area under curve is - \", auc_borderlineSMOTE)"
   ]
  },
  {
   "cell_type": "code",
   "execution_count": 65,
   "id": "bb375b0f",
   "metadata": {},
   "outputs": [
    {
     "name": "stdout",
     "output_type": "stream",
     "text": [
      "Counter({0: 14208, 1: 892})\n",
      "Counter({0: 14208, 1: 14208})\n",
      "Counter({1: 8580, 0: 8469})\n",
      "Counter({0: 5739, 1: 5628})\n",
      "Confusion Matrix (Accuracy 0.7463)\n",
      "\n",
      "       Prediction\n",
      "Actual    0    1\n",
      "     0 5584  155\n",
      "     1 2729 2899\n",
      "              precision    recall  f1-score   support\n",
      "\n",
      "           0       0.67      0.97      0.79      5739\n",
      "           1       0.95      0.52      0.67      5628\n",
      "\n",
      "    accuracy                           0.75     11367\n",
      "   macro avg       0.81      0.74      0.73     11367\n",
      "weighted avg       0.81      0.75      0.73     11367\n",
      "\n"
     ]
    },
    {
     "data": {
      "text/plain": [
       "{'whiskers': [<matplotlib.lines.Line2D at 0x1db004b2280>,\n",
       "  <matplotlib.lines.Line2D at 0x1db004b2550>],\n",
       " 'caps': [<matplotlib.lines.Line2D at 0x1db004b2820>,\n",
       "  <matplotlib.lines.Line2D at 0x1db004b2af0>],\n",
       " 'boxes': [<matplotlib.lines.Line2D at 0x1db004a6f70>],\n",
       " 'medians': [<matplotlib.lines.Line2D at 0x1db004b2dc0>],\n",
       " 'fliers': [<matplotlib.lines.Line2D at 0x1db004bb0d0>],\n",
       " 'means': []}"
      ]
     },
     "execution_count": 65,
     "metadata": {},
     "output_type": "execute_result"
    },
    {
     "data": {
      "image/png": "[encoded data removed]",
      "text/plain": [
       "<Figure size 640x480 with 1 Axes>"
      ]
     },
     "metadata": {},
     "output_type": "display_data"
    },
    {
     "data": {
      "image/png": "[encoded data removed]",
      "text/plain": [
       "<Figure size 640x480 with 1 Axes>"
      ]
     },
     "metadata": {},
     "output_type": "display_data"
    },
    {
     "data": {
      "image/png": "[encoded data removed]",
      "text/plain": [
       "<Figure size 640x480 with 1 Axes>"
      ]
     },
     "metadata": {},
     "output_type": "display_data"
    }
   ],
   "source": [
    "X = data_top10\n",
    "y = data['FraudFound_P']\n",
    "\n",
    "counter = Counter(y)\n",
    "print(counter)\n",
    "\n",
    "aucTrain_BorderSMOTELogisticRegression = list()\n",
    "aucValid_BorderSMOTELogisticRegression = list()\n",
    "aucFullSet_BorderSMOTELogisticRegression = list()\n",
    "\n",
    "for i in range(1,21):\n",
    "    over = BorderlineSMOTE(random_state=i)\n",
    "    under = RandomUnderSampler(sampling_strategy=1)\n",
    "    steps = [('o', over), ('u', under)]\n",
    "    SMOTESampling = SamplingPipeline(steps=steps)\n",
    "    X_resampled, y_resampled = SMOTESampling.fit_resample(X, y)\n",
    "\n",
    "    X_train,X_valid,y_train,y_valid = train_test_split(X_resampled,y_resampled, train_size=0.6, random_state=1)\n",
    "\n",
    "\n",
    "    SMOTE_LogitReg = Pipeline([('scaler',StandardScaler()), ('LogitRegressor',LogisticRegression(max_iter=1000))])\n",
    "    SMOTE_LogitReg.fit(X_train,y_train)\n",
    "    \n",
    "    if i == 1:\n",
    "        counter = Counter(y_resampled)\n",
    "        print(counter)\n",
    "        counter = Counter(y_train)\n",
    "        print(counter)\n",
    "        counter = Counter(y_valid)\n",
    "        print(counter)\n",
    "        \n",
    "        #classificationSummary(y_train,y_pred)\n",
    "        #print(metrics.classification_report(y_train,y_pred))\n",
    "    if i == 1:\n",
    "        y_pred = SMOTE_LogitReg.predict(X_valid)\n",
    "        classificationSummary(y_valid,y_pred)\n",
    "        print(metrics.classification_report(y_valid,y_pred))\n",
    "\n",
    "    y_pred_proba = SMOTE_LogitReg.predict_proba(X_train)[::,1]\n",
    "    aucTrain_BorderSMOTELogisticRegression.append(metrics.roc_auc_score(y_train, y_pred_proba))\n",
    "\n",
    "    y_pred_proba = SMOTE_LogitReg.predict_proba(X_valid)[::,1]\n",
    "    aucValid_BorderSMOTELogisticRegression.append(metrics.roc_auc_score(y_valid, y_pred_proba))\n",
    "\n",
    "    y_pred_proba = SMOTE_LogitReg.predict_proba(X)[::,1]\n",
    "    aucFullSet_BorderSMOTELogisticRegression.append(metrics.roc_auc_score(y, y_pred_proba))\n",
    "\n",
    "#print(\"Area under curve is - \", aucTrain)\n",
    "#print(\"Area under curve is - \", aucValid)\n",
    "#print(\"Area under curve is - \", aucFullSet)\n",
    "\n",
    "plt.figure()\n",
    "plt.boxplot(aucTrain_BorderSMOTELogisticRegression)\n",
    "plt.figure()\n",
    "plt.boxplot(aucValid_BorderSMOTELogisticRegression)\n",
    "plt.figure()\n",
    "plt.boxplot(aucFullSet_BorderSMOTELogisticRegression)"
   ]
  },
  {
   "cell_type": "code",
   "execution_count": 133,
   "id": "03c008f5",
   "metadata": {},
   "outputs": [
    {
     "data": {
      "text/plain": [
       "0.7807990407284515"
      ]
     },
     "execution_count": 133,
     "metadata": {},
     "output_type": "execute_result"
    }
   ],
   "source": [
    "fp= open(r'./aucValid_BorderSMOTELogisticRegression.txt', 'w')\n",
    "fp.write(str(aucValid_BorderSMOTELogisticRegression))\n",
    "fp.close()\n",
    "\n",
    "np.mean(aucValid_BorderSMOTELogisticRegression)"
   ]
  },
  {
   "cell_type": "markdown",
   "id": "d3a1d6cd",
   "metadata": {},
   "source": [
    "### Testing with tree - borderline SMOTE"
   ]
  },
  {
   "cell_type": "code",
   "execution_count": 66,
   "id": "117084a1",
   "metadata": {},
   "outputs": [
    {
     "name": "stdout",
     "output_type": "stream",
     "text": [
      "Counter({0: 14208, 1: 892})\n",
      "Counter({0: 14208, 1: 14208})\n",
      "Counter({1: 8580, 0: 8469})\n",
      "Counter({0: 5739, 1: 5628})\n",
      "Confusion Matrix (Accuracy 0.9141)\n",
      "\n",
      "       Prediction\n",
      "Actual    0    1\n",
      "     0 7351 1118\n",
      "     1  346 8234\n",
      "              precision    recall  f1-score   support\n",
      "\n",
      "           0       0.96      0.87      0.91      8469\n",
      "           1       0.88      0.96      0.92      8580\n",
      "\n",
      "    accuracy                           0.91     17049\n",
      "   macro avg       0.92      0.91      0.91     17049\n",
      "weighted avg       0.92      0.91      0.91     17049\n",
      "\n",
      "Area under curve is -  0.9742007185949801\n",
      "Confusion Matrix (Accuracy 0.8934)\n",
      "\n",
      "       Prediction\n",
      "Actual    0    1\n",
      "     0 4845  894\n",
      "     1  318 5310\n",
      "              precision    recall  f1-score   support\n",
      "\n",
      "           0       0.94      0.84      0.89      5739\n",
      "           1       0.86      0.94      0.90      5628\n",
      "\n",
      "    accuracy                           0.89     11367\n",
      "   macro avg       0.90      0.89      0.89     11367\n",
      "weighted avg       0.90      0.89      0.89     11367\n",
      "\n",
      "Area under curve is -  0.9487131557754008\n",
      "Confusion Matrix (Accuracy 0.8450)\n",
      "\n",
      "       Prediction\n",
      "Actual     0     1\n",
      "     0 12196  2012\n",
      "     1   328   564\n",
      "              precision    recall  f1-score   support\n",
      "\n",
      "           0       0.97      0.86      0.91     14208\n",
      "           1       0.22      0.63      0.33       892\n",
      "\n",
      "    accuracy                           0.85     15100\n",
      "   macro avg       0.60      0.75      0.62     15100\n",
      "weighted avg       0.93      0.85      0.88     15100\n",
      "\n",
      "Area under curve is -  0.8586419764775987\n"
     ]
    }
   ],
   "source": [
    "X = data_top10\n",
    "y = data['FraudFound_P']\n",
    "\n",
    "counter = Counter(y)\n",
    "print(counter)\n",
    "\n",
    "over = BorderlineSMOTE()\n",
    "under = RandomUnderSampler(sampling_strategy=1)\n",
    "steps = [('o', over), ('u', under)]\n",
    "SMOTESampling = SamplingPipeline(steps=steps)\n",
    "\n",
    "X_resampled, y_resampled = SMOTESampling.fit_resample(X, y)\n",
    "# summarize the new class distribution\n",
    "counter = Counter(y_resampled)\n",
    "print(counter)\n",
    "\n",
    "X_train,X_valid,y_train,y_valid = train_test_split(X_resampled,y_resampled, train_size=0.6, random_state=1)\n",
    "\n",
    "counter = Counter(y_train)\n",
    "print(counter)\n",
    "counter = Counter(y_valid)\n",
    "print(counter)\n",
    "\n",
    "# default-tree\n",
    "defaultTree = DecisionTreeClassifier(random_state=1)\n",
    "defaultTree.fit(X_train, y_train)\n",
    "classes = defaultTree.classes_\n",
    "                      \n",
    "y_pred = defaultTree.predict(X_train)\n",
    "classificationSummary(y_train, y_pred, class_names=classes)\n",
    "print(metrics.classification_report(y_train,y_pred))\n",
    "y_pred_proba= defaultTree.predict_proba(X_train)[::,1]\n",
    "auc = metrics.roc_auc_score(y_train,y_pred_proba)\n",
    "print(\"Area under curve is - \", auc)\n",
    "\n",
    "y_pred = defaultTree.predict(X_valid)\n",
    "classificationSummary(y_valid, y_pred, class_names=classes)\n",
    "print(metrics.classification_report(y_valid,y_pred))\n",
    "y_pred_proba= defaultTree.predict_proba(X_valid)[::,1]\n",
    "auc = metrics.roc_auc_score(y_valid,y_pred_proba)\n",
    "print(\"Area under curve is - \", auc)\n",
    "\n",
    "y_pred = defaultTree.predict(X)\n",
    "classificationSummary(y, y_pred, class_names=classes)\n",
    "print(metrics.classification_report(y,y_pred))\n",
    "y_pred_proba= defaultTree.predict_proba(X)[::,1]\n",
    "aucBag_undersample = metrics.roc_auc_score(y,y_pred_proba)\n",
    "print(\"Area under curve is - \", aucBag_undersample)"
   ]
  },
  {
   "cell_type": "code",
   "execution_count": 67,
   "id": "235cc2e5",
   "metadata": {},
   "outputs": [
    {
     "name": "stdout",
     "output_type": "stream",
     "text": [
      "Counter({0: 14208, 1: 892})\n",
      "Counter({0: 14208, 1: 14208})\n",
      "Counter({1: 8580, 0: 8469})\n",
      "Counter({0: 5739, 1: 5628})\n",
      "Confusion Matrix (Accuracy 0.8920)\n",
      "\n",
      "       Prediction\n",
      "Actual    0    1\n",
      "     0 4873  866\n",
      "     1  362 5266\n",
      "              precision    recall  f1-score   support\n",
      "\n",
      "           0       0.93      0.85      0.89      5739\n",
      "           1       0.86      0.94      0.90      5628\n",
      "\n",
      "    accuracy                           0.89     11367\n",
      "   macro avg       0.89      0.89      0.89     11367\n",
      "weighted avg       0.90      0.89      0.89     11367\n",
      "\n",
      "Area under curve is -  0.9493432973286059\n"
     ]
    },
    {
     "data": {
      "text/plain": [
       "{'whiskers': [<matplotlib.lines.Line2D at 0x1db0003ffd0>,\n",
       "  <matplotlib.lines.Line2D at 0x1db0003b640>],\n",
       " 'caps': [<matplotlib.lines.Line2D at 0x1db0003b2e0>,\n",
       "  <matplotlib.lines.Line2D at 0x1db0003b6d0>],\n",
       " 'boxes': [<matplotlib.lines.Line2D at 0x1db00035d90>],\n",
       " 'medians': [<matplotlib.lines.Line2D at 0x1db0003bd90>],\n",
       " 'fliers': [<matplotlib.lines.Line2D at 0x1db006551f0>],\n",
       " 'means': []}"
      ]
     },
     "execution_count": 67,
     "metadata": {},
     "output_type": "execute_result"
    },
    {
     "data": {
      "image/png": "[encoded data removed]",
      "text/plain": [
       "<Figure size 640x480 with 1 Axes>"
      ]
     },
     "metadata": {},
     "output_type": "display_data"
    }
   ],
   "source": [
    "X = data_top10\n",
    "y = data['FraudFound_P']\n",
    "\n",
    "counter = Counter(y)\n",
    "print(counter)\n",
    "\n",
    "\n",
    "aucValid_BorderSMOTE_DefaultTree = list()\n",
    "\n",
    "for i in range(0,21):\n",
    "    over = BorderlineSMOTE(random_state=i)\n",
    "    under = RandomUnderSampler(sampling_strategy=1)\n",
    "    steps = [('o', over), ('u', under)]\n",
    "    SMOTESampling = SamplingPipeline(steps=steps)\n",
    "    X_resampled, y_resampled = SMOTESampling.fit_resample(X, y)\n",
    "\n",
    "    if i == 1:\n",
    "        counter = Counter(y_resampled)\n",
    "        print(counter)\n",
    "\n",
    "    X_train,X_valid,y_train,y_valid = train_test_split(X_resampled,y_resampled, train_size=0.6, random_state=1)\n",
    "\n",
    "    if i == 1:\n",
    "        counter = Counter(y_train)\n",
    "        print(counter)\n",
    "        counter = Counter(y_valid)\n",
    "        print(counter)\n",
    "\n",
    "    # single tree\n",
    "    defaultTree = DecisionTreeClassifier(random_state=1)\n",
    "    defaultTree.fit(X_train, y_train)\n",
    "    classes = defaultTree.classes_\n",
    "\n",
    "\n",
    "    y_pred = defaultTree.predict(X_valid)\n",
    "    \n",
    "    if i == 1:\n",
    "        classificationSummary(y_valid, y_pred, class_names=classes)\n",
    "        print(metrics.classification_report(y_valid,y_pred))\n",
    "        \n",
    "    y_pred_proba= defaultTree.predict_proba(X_valid)[::,1]\n",
    "    auc = metrics.roc_auc_score(y_valid,y_pred_proba)\n",
    "    aucValid_BorderSMOTE_DefaultTree.append(auc)\n",
    "\n",
    "print(\"Area under curve is - \", auc)\n",
    "\n",
    "plt.figure()\n",
    "plt.boxplot(aucValid_BorderSMOTE_DefaultTree)    "
   ]
  },
  {
   "cell_type": "code",
   "execution_count": 134,
   "id": "761862a7",
   "metadata": {},
   "outputs": [
    {
     "data": {
      "text/plain": [
       "0.9486234525313177"
      ]
     },
     "execution_count": 134,
     "metadata": {},
     "output_type": "execute_result"
    }
   ],
   "source": [
    "fp= open(r'./aucValid_BorderSMOTE_DefaultTree.txt', 'w')\n",
    "fp.write(str(aucValid_BorderSMOTE_DefaultTree))\n",
    "fp.close()\n",
    "\n",
    "\n",
    "np.mean(aucValid_BorderSMOTE_DefaultTree)"
   ]
  },
  {
   "cell_type": "code",
   "execution_count": 68,
   "id": "71202733",
   "metadata": {},
   "outputs": [
    {
     "name": "stdout",
     "output_type": "stream",
     "text": [
      "Counter({0: 14208, 1: 892})\n",
      "Counter({0: 14208, 1: 14208})\n",
      "Counter({1: 8580, 0: 8469})\n",
      "Counter({0: 5739, 1: 5628})\n",
      "Confusion Matrix (Accuracy 0.8588)\n",
      "\n",
      "       Prediction\n",
      "Actual    0    1\n",
      "     0 6226 2243\n",
      "     1  165 8415\n",
      "              precision    recall  f1-score   support\n",
      "\n",
      "           0       0.97      0.74      0.84      8469\n",
      "           1       0.79      0.98      0.87      8580\n",
      "\n",
      "    accuracy                           0.86     17049\n",
      "   macro avg       0.88      0.86      0.86     17049\n",
      "weighted avg       0.88      0.86      0.86     17049\n",
      "\n",
      "Area under curve is -  0.8897818273748136\n",
      "Confusion Matrix (Accuracy 0.8563)\n",
      "\n",
      "       Prediction\n",
      "Actual    0    1\n",
      "     0 4250 1489\n",
      "     1  145 5483\n",
      "              precision    recall  f1-score   support\n",
      "\n",
      "           0       0.97      0.74      0.84      5739\n",
      "           1       0.79      0.97      0.87      5628\n",
      "\n",
      "    accuracy                           0.86     11367\n",
      "   macro avg       0.88      0.86      0.85     11367\n",
      "weighted avg       0.88      0.86      0.85     11367\n",
      "\n",
      "Area under curve is -  0.8912157964069083\n",
      "Confusion Matrix (Accuracy 0.7342)\n",
      "\n",
      "       Prediction\n",
      "Actual     0     1\n",
      "     0 10476  3732\n",
      "     1   282   610\n",
      "              precision    recall  f1-score   support\n",
      "\n",
      "           0       0.97      0.74      0.84     14208\n",
      "           1       0.14      0.68      0.23       892\n",
      "\n",
      "    accuracy                           0.73     15100\n",
      "   macro avg       0.56      0.71      0.54     15100\n",
      "weighted avg       0.92      0.73      0.80     15100\n",
      "\n",
      "Area under curve is -  0.7915440095013736\n"
     ]
    }
   ],
   "source": [
    "X = data_top10\n",
    "y = data['FraudFound_P']\n",
    "\n",
    "counter = Counter(y)\n",
    "print(counter)\n",
    "\n",
    "over = BorderlineSMOTE()\n",
    "under = RandomUnderSampler(sampling_strategy=1)\n",
    "steps = [('o', over), ('u', under)]\n",
    "SMOTESampling = SamplingPipeline(steps=steps)\n",
    "\n",
    "X_resampled, y_resampled = SMOTESampling.fit_resample(X, y)\n",
    "# summarize the new class distribution\n",
    "counter = Counter(y_resampled)\n",
    "print(counter)\n",
    "\n",
    "X_train,X_valid,y_train,y_valid = train_test_split(X_resampled,y_resampled, train_size=0.6, random_state=1)\n",
    "\n",
    "counter = Counter(y_train)\n",
    "print(counter)\n",
    "counter = Counter(y_valid)\n",
    "print(counter)\n",
    "\n",
    "# boosting\n",
    "bagging = BaggingClassifier(DecisionTreeClassifier(random_state=1),n_estimators=100, random_state=1)\n",
    "bagging.fit(X_train, y_train)\n",
    "classes = defaultTree.classes_\n",
    "                      \n",
    "y_pred = bagging.predict(X_train)\n",
    "classificationSummary(y_train, y_pred, class_names=classes)\n",
    "print(metrics.classification_report(y_train,y_pred))\n",
    "y_pred_proba= bagging.predict_proba(X_train)[::,1]\n",
    "auc = metrics.roc_auc_score(y_train,y_pred_proba)\n",
    "print(\"Area under curve is - \", auc)\n",
    "\n",
    "y_pred = bagging.predict(X_valid)\n",
    "classificationSummary(y_valid, y_pred, class_names=classes)\n",
    "print(metrics.classification_report(y_valid,y_pred))\n",
    "y_pred_proba= bagging.predict_proba(X_valid)[::,1]\n",
    "auc = metrics.roc_auc_score(y_valid,y_pred_proba)\n",
    "print(\"Area under curve is - \", auc)\n",
    "\n",
    "y_pred = bagging.predict(X)\n",
    "classificationSummary(y, y_pred, class_names=classes)\n",
    "print(metrics.classification_report(y,y_pred))\n",
    "y_pred_proba= bagging.predict_proba(X)[::,1]\n",
    "aucBag_undersample = metrics.roc_auc_score(y,y_pred_proba)\n",
    "print(\"Area under curve is - \", aucBag_undersample)"
   ]
  },
  {
   "cell_type": "code",
   "execution_count": 69,
   "id": "8359f05f",
   "metadata": {},
   "outputs": [
    {
     "name": "stdout",
     "output_type": "stream",
     "text": [
      "Counter({0: 14208, 1: 892})\n",
      "Counter({0: 14208, 1: 14208})\n",
      "Counter({1: 8580, 0: 8469})\n",
      "Counter({0: 5739, 1: 5628})\n",
      "Confusion Matrix (Accuracy 0.8941)\n",
      "\n",
      "       Prediction\n",
      "Actual    0    1\n",
      "     0 4857  882\n",
      "     1  322 5306\n",
      "              precision    recall  f1-score   support\n",
      "\n",
      "           0       0.94      0.85      0.89      5739\n",
      "           1       0.86      0.94      0.90      5628\n",
      "\n",
      "    accuracy                           0.89     11367\n",
      "   macro avg       0.90      0.89      0.89     11367\n",
      "weighted avg       0.90      0.89      0.89     11367\n",
      "\n",
      "Area under curve is -  0.958074456086877\n"
     ]
    },
    {
     "data": {
      "text/plain": [
       "{'whiskers': [<matplotlib.lines.Line2D at 0x1db004cb8b0>,\n",
       "  <matplotlib.lines.Line2D at 0x1db004cbac0>],\n",
       " 'caps': [<matplotlib.lines.Line2D at 0x1db004cb130>,\n",
       "  <matplotlib.lines.Line2D at 0x1db004e91f0>],\n",
       " 'boxes': [<matplotlib.lines.Line2D at 0x1db004cb310>],\n",
       " 'medians': [<matplotlib.lines.Line2D at 0x1db004e94c0>],\n",
       " 'fliers': [<matplotlib.lines.Line2D at 0x1db004e9790>],\n",
       " 'means': []}"
      ]
     },
     "execution_count": 69,
     "metadata": {},
     "output_type": "execute_result"
    },
    {
     "data": {
      "image/png": "[encoded data removed]",
      "text/plain": [
       "<Figure size 640x480 with 1 Axes>"
      ]
     },
     "metadata": {},
     "output_type": "display_data"
    }
   ],
   "source": [
    "X = data_top10\n",
    "y = data['FraudFound_P']\n",
    "\n",
    "counter = Counter(y)\n",
    "print(counter)\n",
    "\n",
    "\n",
    "aucValid_BorderSMOTEBagging = list()\n",
    "\n",
    "for i in range(1,21):\n",
    "    over = BorderlineSMOTE(random_state=i)\n",
    "    under = RandomUnderSampler(sampling_strategy=1)\n",
    "    steps = [('o', over), ('u', under)]\n",
    "    SMOTESampling = SamplingPipeline(steps=steps)\n",
    "    X_resampled, y_resampled = SMOTESampling.fit_resample(X, y)\n",
    "\n",
    "    if i == 1:\n",
    "        counter = Counter(y_resampled)\n",
    "        print(counter)\n",
    "\n",
    "    X_train,X_valid,y_train,y_valid = train_test_split(X_resampled,y_resampled, train_size=0.6, random_state=1)\n",
    "\n",
    "    if i == 1:\n",
    "        counter = Counter(y_train)\n",
    "        print(counter)\n",
    "        counter = Counter(y_valid)\n",
    "        print(counter)\n",
    "\n",
    "    # single tree\n",
    "    bagging = BaggingClassifier(DecisionTreeClassifier(random_state=1),n_estimators=100, random_state=1)\n",
    "    bagging.fit(X_train, y_train)\n",
    "    classes = bagging.classes_\n",
    "\n",
    "\n",
    "    y_pred = bagging.predict(X_valid)\n",
    "    \n",
    "    if i == 1:\n",
    "        classificationSummary(y_valid, y_pred, class_names=classes)\n",
    "        print(metrics.classification_report(y_valid,y_pred))\n",
    "        \n",
    "    y_pred_proba= bagging.predict_proba(X_valid)[::,1]\n",
    "    auc = metrics.roc_auc_score(y_valid,y_pred_proba)\n",
    "    aucValid_BorderSMOTEBagging.append(auc)\n",
    "\n",
    "print(\"Area under curve is - \", auc)\n",
    "\n",
    "plt.figure()\n",
    "plt.boxplot(aucValid_BorderSMOTEBagging)    "
   ]
  },
  {
   "cell_type": "code",
   "execution_count": 136,
   "id": "60220acb",
   "metadata": {},
   "outputs": [
    {
     "data": {
      "text/plain": [
       "0.9583403134057142"
      ]
     },
     "execution_count": 136,
     "metadata": {},
     "output_type": "execute_result"
    }
   ],
   "source": [
    "fp= open(r'./aucValid_BorderSMOTEBagging.txt', 'w')\n",
    "fp.write(str(aucValid_BorderSMOTEBagging))\n",
    "fp.close()\n",
    "\n",
    "np.mean(aucValid_BorderSMOTEBagging)"
   ]
  },
  {
   "cell_type": "code",
   "execution_count": 70,
   "id": "cda92f3b",
   "metadata": {},
   "outputs": [
    {
     "name": "stdout",
     "output_type": "stream",
     "text": [
      "Counter({0: 14208, 1: 892})\n",
      "Counter({0: 14208, 1: 14208})\n",
      "Counter({1: 8580, 0: 8469})\n",
      "Counter({0: 5739, 1: 5628})\n",
      "Confusion Matrix (Accuracy 0.9147)\n",
      "\n",
      "       Prediction\n",
      "Actual    0    1\n",
      "     0 7311 1158\n",
      "     1  296 8284\n",
      "              precision    recall  f1-score   support\n",
      "\n",
      "           0       0.96      0.86      0.91      8469\n",
      "           1       0.88      0.97      0.92      8580\n",
      "\n",
      "    accuracy                           0.91     17049\n",
      "   macro avg       0.92      0.91      0.91     17049\n",
      "weighted avg       0.92      0.91      0.91     17049\n",
      "\n",
      "Area under curve is -  0.974700044120873\n",
      "Confusion Matrix (Accuracy 0.9002)\n",
      "\n",
      "       Prediction\n",
      "Actual    0    1\n",
      "     0 4890  849\n",
      "     1  285 5343\n",
      "              precision    recall  f1-score   support\n",
      "\n",
      "           0       0.94      0.85      0.90      5739\n",
      "           1       0.86      0.95      0.90      5628\n",
      "\n",
      "    accuracy                           0.90     11367\n",
      "   macro avg       0.90      0.90      0.90     11367\n",
      "weighted avg       0.90      0.90      0.90     11367\n",
      "\n",
      "Area under curve is -  0.958177941968152\n",
      "Confusion Matrix (Accuracy 0.8471)\n",
      "\n",
      "       Prediction\n",
      "Actual     0     1\n",
      "     0 12201  2007\n",
      "     1   302   590\n",
      "              precision    recall  f1-score   support\n",
      "\n",
      "           0       0.98      0.86      0.91     14208\n",
      "           1       0.23      0.66      0.34       892\n",
      "\n",
      "    accuracy                           0.85     15100\n",
      "   macro avg       0.60      0.76      0.63     15100\n",
      "weighted avg       0.93      0.85      0.88     15100\n",
      "\n",
      "Area under curve is -  0.8711710370333898\n"
     ]
    }
   ],
   "source": [
    "X = data_top10\n",
    "y = data['FraudFound_P']\n",
    "\n",
    "counter = Counter(y)\n",
    "print(counter)\n",
    "\n",
    "over = BorderlineSMOTE()\n",
    "under = RandomUnderSampler(sampling_strategy=1)\n",
    "steps = [('o', over), ('u', under)]\n",
    "SMOTESampling = SamplingPipeline(steps=steps)\n",
    "\n",
    "X_resampled, y_resampled = SMOTESampling.fit_resample(X, y)\n",
    "# summarize the new class distribution\n",
    "counter = Counter(y_resampled)\n",
    "print(counter)\n",
    "\n",
    "X_train,X_valid,y_train,y_valid = train_test_split(X_resampled,y_resampled, train_size=0.6, random_state=1)\n",
    "\n",
    "counter = Counter(y_train)\n",
    "print(counter)\n",
    "counter = Counter(y_valid)\n",
    "print(counter)\n",
    "\n",
    "# boosting\n",
    "boost = AdaBoostClassifier(DecisionTreeClassifier(random_state=1),n_estimators=100, random_state=1)\n",
    "boost.fit(X_train, y_train)\n",
    "classes = defaultTree.classes_\n",
    "                      \n",
    "y_pred = boost.predict(X_train)\n",
    "classificationSummary(y_train, y_pred, class_names=classes)\n",
    "print(metrics.classification_report(y_train,y_pred))\n",
    "y_pred_proba= boost.predict_proba(X_train)[::,1]\n",
    "auc = metrics.roc_auc_score(y_train,y_pred_proba)\n",
    "print(\"Area under curve is - \", auc)\n",
    "\n",
    "y_pred = boost.predict(X_valid)\n",
    "classificationSummary(y_valid, y_pred, class_names=classes)\n",
    "print(metrics.classification_report(y_valid,y_pred))\n",
    "y_pred_proba= boost.predict_proba(X_valid)[::,1]\n",
    "auc = metrics.roc_auc_score(y_valid,y_pred_proba)\n",
    "print(\"Area under curve is - \", auc)\n",
    "\n",
    "y_pred = boost.predict(X)\n",
    "classificationSummary(y, y_pred, class_names=classes)\n",
    "print(metrics.classification_report(y,y_pred))\n",
    "y_pred_proba= boost.predict_proba(X)[::,1]\n",
    "aucBoost_undersample = metrics.roc_auc_score(y,y_pred_proba)\n",
    "print(\"Area under curve is - \", aucBoost_undersample)"
   ]
  },
  {
   "cell_type": "code",
   "execution_count": 71,
   "id": "e92d759b",
   "metadata": {},
   "outputs": [
    {
     "name": "stdout",
     "output_type": "stream",
     "text": [
      "Counter({0: 14208, 1: 892})\n",
      "Counter({0: 14208, 1: 14208})\n",
      "Counter({1: 8580, 0: 8469})\n",
      "Counter({0: 5739, 1: 5628})\n",
      "Confusion Matrix (Accuracy 0.8960)\n",
      "\n",
      "       Prediction\n",
      "Actual    0    1\n",
      "     0 4871  868\n",
      "     1  314 5314\n",
      "              precision    recall  f1-score   support\n",
      "\n",
      "           0       0.94      0.85      0.89      5739\n",
      "           1       0.86      0.94      0.90      5628\n",
      "\n",
      "    accuracy                           0.90     11367\n",
      "   macro avg       0.90      0.90      0.90     11367\n",
      "weighted avg       0.90      0.90      0.90     11367\n",
      "\n",
      "Area under curve is -  0.9584122209998969\n"
     ]
    },
    {
     "data": {
      "text/plain": [
       "{'whiskers': [<matplotlib.lines.Line2D at 0x1db00504eb0>,\n",
       "  <matplotlib.lines.Line2D at 0x1db0052f1c0>],\n",
       " 'caps': [<matplotlib.lines.Line2D at 0x1db0052f490>,\n",
       "  <matplotlib.lines.Line2D at 0x1db0052f760>],\n",
       " 'boxes': [<matplotlib.lines.Line2D at 0x1db00504340>],\n",
       " 'medians': [<matplotlib.lines.Line2D at 0x1db0052fa30>],\n",
       " 'fliers': [<matplotlib.lines.Line2D at 0x1db0052fd00>],\n",
       " 'means': []}"
      ]
     },
     "execution_count": 71,
     "metadata": {},
     "output_type": "execute_result"
    },
    {
     "data": {
      "image/png": "[encoded data removed]",
      "text/plain": [
       "<Figure size 640x480 with 1 Axes>"
      ]
     },
     "metadata": {},
     "output_type": "display_data"
    }
   ],
   "source": [
    "X = data_top10\n",
    "y = data['FraudFound_P']\n",
    "\n",
    "counter = Counter(y)\n",
    "print(counter)\n",
    "\n",
    "\n",
    "aucValid_BorderLineSMOTEBoost = list()\n",
    "\n",
    "for i in range(0,21):\n",
    "    over = BorderlineSMOTE(random_state=i)\n",
    "    under = RandomUnderSampler(sampling_strategy=1)\n",
    "    steps = [('o', over), ('u', under)]\n",
    "    SMOTESampling = SamplingPipeline(steps=steps)\n",
    "    X_resampled, y_resampled = SMOTESampling.fit_resample(X, y)\n",
    "\n",
    "    if i == 1:\n",
    "        counter = Counter(y_resampled)\n",
    "        print(counter)\n",
    "\n",
    "    X_train,X_valid,y_train,y_valid = train_test_split(X_resampled,y_resampled, train_size=0.6, random_state=1)\n",
    "\n",
    "    if i == 1:\n",
    "        counter = Counter(y_train)\n",
    "        print(counter)\n",
    "        counter = Counter(y_valid)\n",
    "        print(counter)\n",
    "\n",
    "    # single tree\n",
    "    boost = AdaBoostClassifier(DecisionTreeClassifier(random_state=1),n_estimators=100, random_state=1)\n",
    "    boost.fit(X_train, y_train)\n",
    "    classes = boost.classes_\n",
    "\n",
    "\n",
    "    y_pred = boost.predict(X_valid)\n",
    "    \n",
    "    if i == 1:\n",
    "        classificationSummary(y_valid, y_pred, class_names=classes)\n",
    "        print(metrics.classification_report(y_valid,y_pred))\n",
    "        \n",
    "    y_pred_proba= boost.predict_proba(X_valid)[::,1]\n",
    "    auc = metrics.roc_auc_score(y_valid,y_pred_proba)\n",
    "    aucValid_BorderLineSMOTEBoost.append(auc)\n",
    "\n",
    "print(\"Area under curve is - \", auc)\n",
    "\n",
    "plt.figure()\n",
    "plt.boxplot(aucValid_BorderLineSMOTEBoost)    "
   ]
  },
  {
   "cell_type": "code",
   "execution_count": 137,
   "id": "923f7f95",
   "metadata": {},
   "outputs": [
    {
     "data": {
      "text/plain": [
       "0.9563986062341495"
      ]
     },
     "execution_count": 137,
     "metadata": {},
     "output_type": "execute_result"
    }
   ],
   "source": [
    "fp= open(r'./aucValid_BorderLineSMOTEBoost.txt', 'w')\n",
    "fp.write(str(aucValid_BorderLineSMOTEBoost))\n",
    "fp.close()\n",
    "\n",
    "\n",
    "np.mean(aucValid_BorderLineSMOTEBoost)"
   ]
  },
  {
   "cell_type": "markdown",
   "id": "8ab84b9c",
   "metadata": {},
   "source": [
    "### Testing with KNN - borderline SMOTE"
   ]
  },
  {
   "cell_type": "code",
   "execution_count": 72,
   "id": "d5b079dd",
   "metadata": {},
   "outputs": [
    {
     "name": "stdout",
     "output_type": "stream",
     "text": [
      "Counter({0: 14208, 1: 892})\n",
      "Counter({0: 14208, 1: 14208})\n",
      "Counter({1: 8580, 0: 8469})\n",
      "Counter({0: 5739, 1: 5628})\n",
      "Value of K is -  5\n"
     ]
    },
    {
     "name": "stderr",
     "output_type": "stream",
     "text": [
      "C:\\Users\\athimmas\\Anaconda3\\lib\\site-packages\\sklearn\\neighbors\\_classification.py:228: FutureWarning: Unlike other reduction functions (e.g. `skew`, `kurtosis`), the default behavior of `mode` typically preserves the axis it acts along. In SciPy 1.11.0, this behavior will change: the default value of `keepdims` will become False, the `axis` over which the statistic is taken will be eliminated, and the value None will no longer be accepted. Set `keepdims` to True or False to avoid this warning.\n",
      "  mode, _ = stats.mode(_y[neigh_ind, k], axis=1)\n"
     ]
    },
    {
     "name": "stdout",
     "output_type": "stream",
     "text": [
      "Confusion Matrix (Accuracy 0.8804)\n",
      "\n",
      "       Prediction\n",
      "Actual    0    1\n",
      "     0 4719 1020\n",
      "     1  340 5288\n",
      "              precision    recall  f1-score   support\n",
      "\n",
      "           0       0.93      0.82      0.87      5739\n",
      "           1       0.84      0.94      0.89      5628\n",
      "\n",
      "    accuracy                           0.88     11367\n",
      "   macro avg       0.89      0.88      0.88     11367\n",
      "weighted avg       0.89      0.88      0.88     11367\n",
      "\n",
      "Area under curve is -  0.9336472059338388\n"
     ]
    },
    {
     "name": "stderr",
     "output_type": "stream",
     "text": [
      "C:\\Users\\athimmas\\Anaconda3\\lib\\site-packages\\sklearn\\neighbors\\_classification.py:228: FutureWarning: Unlike other reduction functions (e.g. `skew`, `kurtosis`), the default behavior of `mode` typically preserves the axis it acts along. In SciPy 1.11.0, this behavior will change: the default value of `keepdims` will become False, the `axis` over which the statistic is taken will be eliminated, and the value None will no longer be accepted. Set `keepdims` to True or False to avoid this warning.\n",
      "  mode, _ = stats.mode(_y[neigh_ind, k], axis=1)\n"
     ]
    },
    {
     "name": "stdout",
     "output_type": "stream",
     "text": [
      "Confusion Matrix (Accuracy 0.8204)\n",
      "\n",
      "       Prediction\n",
      "Actual     0     1\n",
      "     0 11837  2371\n",
      "     1   341   551\n",
      "              precision    recall  f1-score   support\n",
      "\n",
      "           0       0.97      0.83      0.90     14208\n",
      "           1       0.19      0.62      0.29       892\n",
      "\n",
      "    accuracy                           0.82     15100\n",
      "   macro avg       0.58      0.73      0.59     15100\n",
      "weighted avg       0.93      0.82      0.86     15100\n",
      "\n",
      "Area under curve is -  0.806796579896881\n"
     ]
    }
   ],
   "source": [
    "X = data_top10\n",
    "y = data['FraudFound_P']\n",
    "\n",
    "counter = Counter(y)\n",
    "print(counter)\n",
    "\n",
    "over = BorderlineSMOTE()\n",
    "under = RandomUnderSampler(sampling_strategy=1)\n",
    "steps = [('o', over), ('u', under)]\n",
    "SMOTESampling = SamplingPipeline(steps=steps)\n",
    "\n",
    "X_resampled, y_resampled = SMOTESampling.fit_resample(X, y)\n",
    "# summarize the new class distribution\n",
    "counter = Counter(y_resampled)\n",
    "print(counter)\n",
    "\n",
    "X_train,X_valid,y_train,y_valid = train_test_split(X_resampled,y_resampled, train_size=0.6, random_state=1)\n",
    "\n",
    "counter = Counter(y_train)\n",
    "print(counter)\n",
    "counter = Counter(y_valid)\n",
    "print(counter)\n",
    "\n",
    "k = 5\n",
    "print(\"Value of K is - \",k)\n",
    "#KNN = UnderSample_LogitReg = Pipeline([('scaler',StandardScaler()), ('KNN',KNeighborsClassifier(n_neighbors=k))])\n",
    "KNN = KNeighborsClassifier(n_neighbors=k)\n",
    "KNN.fit(X_train,y_train)\n",
    "\n",
    "y_pred = KNN.predict(X_valid)\n",
    "classificationSummary(y_valid, y_pred, class_names=classes)\n",
    "print(metrics.classification_report(y_valid,y_pred))\n",
    "y_pred_proba= KNN.predict_proba(X_valid)[::,1]\n",
    "auc = metrics.roc_auc_score(y_valid,y_pred_proba)\n",
    "print(\"Area under curve is - \", auc)\n",
    "\n",
    "y_pred = KNN.predict(X)\n",
    "classificationSummary(y, y_pred, class_names=classes)\n",
    "print(metrics.classification_report(y,y_pred))\n",
    "y_pred_proba= KNN.predict_proba(X)[::,1]\n",
    "auc = metrics.roc_auc_score(y,y_pred_proba)\n",
    "print(\"Area under curve is - \", auc)"
   ]
  },
  {
   "cell_type": "code",
   "execution_count": 73,
   "id": "235effa4",
   "metadata": {},
   "outputs": [
    {
     "name": "stdout",
     "output_type": "stream",
     "text": [
      "Counter({0: 14208, 1: 892})\n"
     ]
    },
    {
     "name": "stderr",
     "output_type": "stream",
     "text": [
      "C:\\Users\\athimmas\\Anaconda3\\lib\\site-packages\\sklearn\\neighbors\\_classification.py:228: FutureWarning: Unlike other reduction functions (e.g. `skew`, `kurtosis`), the default behavior of `mode` typically preserves the axis it acts along. In SciPy 1.11.0, this behavior will change: the default value of `keepdims` will become False, the `axis` over which the statistic is taken will be eliminated, and the value None will no longer be accepted. Set `keepdims` to True or False to avoid this warning.\n",
      "  mode, _ = stats.mode(_y[neigh_ind, k], axis=1)\n",
      "C:\\Users\\athimmas\\Anaconda3\\lib\\site-packages\\sklearn\\neighbors\\_classification.py:228: FutureWarning: Unlike other reduction functions (e.g. `skew`, `kurtosis`), the default behavior of `mode` typically preserves the axis it acts along. In SciPy 1.11.0, this behavior will change: the default value of `keepdims` will become False, the `axis` over which the statistic is taken will be eliminated, and the value None will no longer be accepted. Set `keepdims` to True or False to avoid this warning.\n",
      "  mode, _ = stats.mode(_y[neigh_ind, k], axis=1)\n"
     ]
    },
    {
     "name": "stdout",
     "output_type": "stream",
     "text": [
      "Counter({0: 14208, 1: 14208})\n",
      "Counter({1: 8580, 0: 8469})\n",
      "Counter({0: 5739, 1: 5628})\n"
     ]
    },
    {
     "name": "stderr",
     "output_type": "stream",
     "text": [
      "C:\\Users\\athimmas\\Anaconda3\\lib\\site-packages\\sklearn\\neighbors\\_classification.py:228: FutureWarning: Unlike other reduction functions (e.g. `skew`, `kurtosis`), the default behavior of `mode` typically preserves the axis it acts along. In SciPy 1.11.0, this behavior will change: the default value of `keepdims` will become False, the `axis` over which the statistic is taken will be eliminated, and the value None will no longer be accepted. Set `keepdims` to True or False to avoid this warning.\n",
      "  mode, _ = stats.mode(_y[neigh_ind, k], axis=1)\n",
      "C:\\Users\\athimmas\\Anaconda3\\lib\\site-packages\\sklearn\\neighbors\\_classification.py:228: FutureWarning: Unlike other reduction functions (e.g. `skew`, `kurtosis`), the default behavior of `mode` typically preserves the axis it acts along. In SciPy 1.11.0, this behavior will change: the default value of `keepdims` will become False, the `axis` over which the statistic is taken will be eliminated, and the value None will no longer be accepted. Set `keepdims` to True or False to avoid this warning.\n",
      "  mode, _ = stats.mode(_y[neigh_ind, k], axis=1)\n"
     ]
    },
    {
     "name": "stdout",
     "output_type": "stream",
     "text": [
      "Confusion Matrix (Accuracy 0.8747)\n",
      "\n",
      "       Prediction\n",
      "Actual    0    1\n",
      "     0 4806  933\n",
      "     1  491 5137\n",
      "              precision    recall  f1-score   support\n",
      "\n",
      "           0       0.91      0.84      0.87      5739\n",
      "           1       0.85      0.91      0.88      5628\n",
      "\n",
      "    accuracy                           0.87     11367\n",
      "   macro avg       0.88      0.88      0.87     11367\n",
      "weighted avg       0.88      0.87      0.87     11367\n",
      "\n"
     ]
    },
    {
     "name": "stderr",
     "output_type": "stream",
     "text": [
      "C:\\Users\\athimmas\\Anaconda3\\lib\\site-packages\\sklearn\\neighbors\\_classification.py:228: FutureWarning: Unlike other reduction functions (e.g. `skew`, `kurtosis`), the default behavior of `mode` typically preserves the axis it acts along. In SciPy 1.11.0, this behavior will change: the default value of `keepdims` will become False, the `axis` over which the statistic is taken will be eliminated, and the value None will no longer be accepted. Set `keepdims` to True or False to avoid this warning.\n",
      "  mode, _ = stats.mode(_y[neigh_ind, k], axis=1)\n",
      "C:\\Users\\athimmas\\Anaconda3\\lib\\site-packages\\sklearn\\neighbors\\_classification.py:228: FutureWarning: Unlike other reduction functions (e.g. `skew`, `kurtosis`), the default behavior of `mode` typically preserves the axis it acts along. In SciPy 1.11.0, this behavior will change: the default value of `keepdims` will become False, the `axis` over which the statistic is taken will be eliminated, and the value None will no longer be accepted. Set `keepdims` to True or False to avoid this warning.\n",
      "  mode, _ = stats.mode(_y[neigh_ind, k], axis=1)\n",
      "C:\\Users\\athimmas\\Anaconda3\\lib\\site-packages\\sklearn\\neighbors\\_classification.py:228: FutureWarning: Unlike other reduction functions (e.g. `skew`, `kurtosis`), the default behavior of `mode` typically preserves the axis it acts along. In SciPy 1.11.0, this behavior will change: the default value of `keepdims` will become False, the `axis` over which the statistic is taken will be eliminated, and the value None will no longer be accepted. Set `keepdims` to True or False to avoid this warning.\n",
      "  mode, _ = stats.mode(_y[neigh_ind, k], axis=1)\n",
      "C:\\Users\\athimmas\\Anaconda3\\lib\\site-packages\\sklearn\\neighbors\\_classification.py:228: FutureWarning: Unlike other reduction functions (e.g. `skew`, `kurtosis`), the default behavior of `mode` typically preserves the axis it acts along. In SciPy 1.11.0, this behavior will change: the default value of `keepdims` will become False, the `axis` over which the statistic is taken will be eliminated, and the value None will no longer be accepted. Set `keepdims` to True or False to avoid this warning.\n",
      "  mode, _ = stats.mode(_y[neigh_ind, k], axis=1)\n",
      "C:\\Users\\athimmas\\Anaconda3\\lib\\site-packages\\sklearn\\neighbors\\_classification.py:228: FutureWarning: Unlike other reduction functions (e.g. `skew`, `kurtosis`), the default behavior of `mode` typically preserves the axis it acts along. In SciPy 1.11.0, this behavior will change: the default value of `keepdims` will become False, the `axis` over which the statistic is taken will be eliminated, and the value None will no longer be accepted. Set `keepdims` to True or False to avoid this warning.\n",
      "  mode, _ = stats.mode(_y[neigh_ind, k], axis=1)\n",
      "C:\\Users\\athimmas\\Anaconda3\\lib\\site-packages\\sklearn\\neighbors\\_classification.py:228: FutureWarning: Unlike other reduction functions (e.g. `skew`, `kurtosis`), the default behavior of `mode` typically preserves the axis it acts along. In SciPy 1.11.0, this behavior will change: the default value of `keepdims` will become False, the `axis` over which the statistic is taken will be eliminated, and the value None will no longer be accepted. Set `keepdims` to True or False to avoid this warning.\n",
      "  mode, _ = stats.mode(_y[neigh_ind, k], axis=1)\n",
      "C:\\Users\\athimmas\\Anaconda3\\lib\\site-packages\\sklearn\\neighbors\\_classification.py:228: FutureWarning: Unlike other reduction functions (e.g. `skew`, `kurtosis`), the default behavior of `mode` typically preserves the axis it acts along. In SciPy 1.11.0, this behavior will change: the default value of `keepdims` will become False, the `axis` over which the statistic is taken will be eliminated, and the value None will no longer be accepted. Set `keepdims` to True or False to avoid this warning.\n",
      "  mode, _ = stats.mode(_y[neigh_ind, k], axis=1)\n",
      "C:\\Users\\athimmas\\Anaconda3\\lib\\site-packages\\sklearn\\neighbors\\_classification.py:228: FutureWarning: Unlike other reduction functions (e.g. `skew`, `kurtosis`), the default behavior of `mode` typically preserves the axis it acts along. In SciPy 1.11.0, this behavior will change: the default value of `keepdims` will become False, the `axis` over which the statistic is taken will be eliminated, and the value None will no longer be accepted. Set `keepdims` to True or False to avoid this warning.\n",
      "  mode, _ = stats.mode(_y[neigh_ind, k], axis=1)\n",
      "C:\\Users\\athimmas\\Anaconda3\\lib\\site-packages\\sklearn\\neighbors\\_classification.py:228: FutureWarning: Unlike other reduction functions (e.g. `skew`, `kurtosis`), the default behavior of `mode` typically preserves the axis it acts along. In SciPy 1.11.0, this behavior will change: the default value of `keepdims` will become False, the `axis` over which the statistic is taken will be eliminated, and the value None will no longer be accepted. Set `keepdims` to True or False to avoid this warning.\n",
      "  mode, _ = stats.mode(_y[neigh_ind, k], axis=1)\n",
      "C:\\Users\\athimmas\\Anaconda3\\lib\\site-packages\\sklearn\\neighbors\\_classification.py:228: FutureWarning: Unlike other reduction functions (e.g. `skew`, `kurtosis`), the default behavior of `mode` typically preserves the axis it acts along. In SciPy 1.11.0, this behavior will change: the default value of `keepdims` will become False, the `axis` over which the statistic is taken will be eliminated, and the value None will no longer be accepted. Set `keepdims` to True or False to avoid this warning.\n",
      "  mode, _ = stats.mode(_y[neigh_ind, k], axis=1)\n",
      "C:\\Users\\athimmas\\Anaconda3\\lib\\site-packages\\sklearn\\neighbors\\_classification.py:228: FutureWarning: Unlike other reduction functions (e.g. `skew`, `kurtosis`), the default behavior of `mode` typically preserves the axis it acts along. In SciPy 1.11.0, this behavior will change: the default value of `keepdims` will become False, the `axis` over which the statistic is taken will be eliminated, and the value None will no longer be accepted. Set `keepdims` to True or False to avoid this warning.\n",
      "  mode, _ = stats.mode(_y[neigh_ind, k], axis=1)\n",
      "C:\\Users\\athimmas\\Anaconda3\\lib\\site-packages\\sklearn\\neighbors\\_classification.py:228: FutureWarning: Unlike other reduction functions (e.g. `skew`, `kurtosis`), the default behavior of `mode` typically preserves the axis it acts along. In SciPy 1.11.0, this behavior will change: the default value of `keepdims` will become False, the `axis` over which the statistic is taken will be eliminated, and the value None will no longer be accepted. Set `keepdims` to True or False to avoid this warning.\n",
      "  mode, _ = stats.mode(_y[neigh_ind, k], axis=1)\n",
      "C:\\Users\\athimmas\\Anaconda3\\lib\\site-packages\\sklearn\\neighbors\\_classification.py:228: FutureWarning: Unlike other reduction functions (e.g. `skew`, `kurtosis`), the default behavior of `mode` typically preserves the axis it acts along. In SciPy 1.11.0, this behavior will change: the default value of `keepdims` will become False, the `axis` over which the statistic is taken will be eliminated, and the value None will no longer be accepted. Set `keepdims` to True or False to avoid this warning.\n",
      "  mode, _ = stats.mode(_y[neigh_ind, k], axis=1)\n",
      "C:\\Users\\athimmas\\Anaconda3\\lib\\site-packages\\sklearn\\neighbors\\_classification.py:228: FutureWarning: Unlike other reduction functions (e.g. `skew`, `kurtosis`), the default behavior of `mode` typically preserves the axis it acts along. In SciPy 1.11.0, this behavior will change: the default value of `keepdims` will become False, the `axis` over which the statistic is taken will be eliminated, and the value None will no longer be accepted. Set `keepdims` to True or False to avoid this warning.\n",
      "  mode, _ = stats.mode(_y[neigh_ind, k], axis=1)\n",
      "C:\\Users\\athimmas\\Anaconda3\\lib\\site-packages\\sklearn\\neighbors\\_classification.py:228: FutureWarning: Unlike other reduction functions (e.g. `skew`, `kurtosis`), the default behavior of `mode` typically preserves the axis it acts along. In SciPy 1.11.0, this behavior will change: the default value of `keepdims` will become False, the `axis` over which the statistic is taken will be eliminated, and the value None will no longer be accepted. Set `keepdims` to True or False to avoid this warning.\n",
      "  mode, _ = stats.mode(_y[neigh_ind, k], axis=1)\n"
     ]
    },
    {
     "name": "stderr",
     "output_type": "stream",
     "text": [
      "C:\\Users\\athimmas\\Anaconda3\\lib\\site-packages\\sklearn\\neighbors\\_classification.py:228: FutureWarning: Unlike other reduction functions (e.g. `skew`, `kurtosis`), the default behavior of `mode` typically preserves the axis it acts along. In SciPy 1.11.0, this behavior will change: the default value of `keepdims` will become False, the `axis` over which the statistic is taken will be eliminated, and the value None will no longer be accepted. Set `keepdims` to True or False to avoid this warning.\n",
      "  mode, _ = stats.mode(_y[neigh_ind, k], axis=1)\n",
      "C:\\Users\\athimmas\\Anaconda3\\lib\\site-packages\\sklearn\\neighbors\\_classification.py:228: FutureWarning: Unlike other reduction functions (e.g. `skew`, `kurtosis`), the default behavior of `mode` typically preserves the axis it acts along. In SciPy 1.11.0, this behavior will change: the default value of `keepdims` will become False, the `axis` over which the statistic is taken will be eliminated, and the value None will no longer be accepted. Set `keepdims` to True or False to avoid this warning.\n",
      "  mode, _ = stats.mode(_y[neigh_ind, k], axis=1)\n",
      "C:\\Users\\athimmas\\Anaconda3\\lib\\site-packages\\sklearn\\neighbors\\_classification.py:228: FutureWarning: Unlike other reduction functions (e.g. `skew`, `kurtosis`), the default behavior of `mode` typically preserves the axis it acts along. In SciPy 1.11.0, this behavior will change: the default value of `keepdims` will become False, the `axis` over which the statistic is taken will be eliminated, and the value None will no longer be accepted. Set `keepdims` to True or False to avoid this warning.\n",
      "  mode, _ = stats.mode(_y[neigh_ind, k], axis=1)\n",
      "C:\\Users\\athimmas\\Anaconda3\\lib\\site-packages\\sklearn\\neighbors\\_classification.py:228: FutureWarning: Unlike other reduction functions (e.g. `skew`, `kurtosis`), the default behavior of `mode` typically preserves the axis it acts along. In SciPy 1.11.0, this behavior will change: the default value of `keepdims` will become False, the `axis` over which the statistic is taken will be eliminated, and the value None will no longer be accepted. Set `keepdims` to True or False to avoid this warning.\n",
      "  mode, _ = stats.mode(_y[neigh_ind, k], axis=1)\n",
      "C:\\Users\\athimmas\\Anaconda3\\lib\\site-packages\\sklearn\\neighbors\\_classification.py:228: FutureWarning: Unlike other reduction functions (e.g. `skew`, `kurtosis`), the default behavior of `mode` typically preserves the axis it acts along. In SciPy 1.11.0, this behavior will change: the default value of `keepdims` will become False, the `axis` over which the statistic is taken will be eliminated, and the value None will no longer be accepted. Set `keepdims` to True or False to avoid this warning.\n",
      "  mode, _ = stats.mode(_y[neigh_ind, k], axis=1)\n",
      "C:\\Users\\athimmas\\Anaconda3\\lib\\site-packages\\sklearn\\neighbors\\_classification.py:228: FutureWarning: Unlike other reduction functions (e.g. `skew`, `kurtosis`), the default behavior of `mode` typically preserves the axis it acts along. In SciPy 1.11.0, this behavior will change: the default value of `keepdims` will become False, the `axis` over which the statistic is taken will be eliminated, and the value None will no longer be accepted. Set `keepdims` to True or False to avoid this warning.\n",
      "  mode, _ = stats.mode(_y[neigh_ind, k], axis=1)\n",
      "C:\\Users\\athimmas\\Anaconda3\\lib\\site-packages\\sklearn\\neighbors\\_classification.py:228: FutureWarning: Unlike other reduction functions (e.g. `skew`, `kurtosis`), the default behavior of `mode` typically preserves the axis it acts along. In SciPy 1.11.0, this behavior will change: the default value of `keepdims` will become False, the `axis` over which the statistic is taken will be eliminated, and the value None will no longer be accepted. Set `keepdims` to True or False to avoid this warning.\n",
      "  mode, _ = stats.mode(_y[neigh_ind, k], axis=1)\n",
      "C:\\Users\\athimmas\\Anaconda3\\lib\\site-packages\\sklearn\\neighbors\\_classification.py:228: FutureWarning: Unlike other reduction functions (e.g. `skew`, `kurtosis`), the default behavior of `mode` typically preserves the axis it acts along. In SciPy 1.11.0, this behavior will change: the default value of `keepdims` will become False, the `axis` over which the statistic is taken will be eliminated, and the value None will no longer be accepted. Set `keepdims` to True or False to avoid this warning.\n",
      "  mode, _ = stats.mode(_y[neigh_ind, k], axis=1)\n",
      "C:\\Users\\athimmas\\Anaconda3\\lib\\site-packages\\sklearn\\neighbors\\_classification.py:228: FutureWarning: Unlike other reduction functions (e.g. `skew`, `kurtosis`), the default behavior of `mode` typically preserves the axis it acts along. In SciPy 1.11.0, this behavior will change: the default value of `keepdims` will become False, the `axis` over which the statistic is taken will be eliminated, and the value None will no longer be accepted. Set `keepdims` to True or False to avoid this warning.\n",
      "  mode, _ = stats.mode(_y[neigh_ind, k], axis=1)\n",
      "C:\\Users\\athimmas\\Anaconda3\\lib\\site-packages\\sklearn\\neighbors\\_classification.py:228: FutureWarning: Unlike other reduction functions (e.g. `skew`, `kurtosis`), the default behavior of `mode` typically preserves the axis it acts along. In SciPy 1.11.0, this behavior will change: the default value of `keepdims` will become False, the `axis` over which the statistic is taken will be eliminated, and the value None will no longer be accepted. Set `keepdims` to True or False to avoid this warning.\n",
      "  mode, _ = stats.mode(_y[neigh_ind, k], axis=1)\n",
      "C:\\Users\\athimmas\\Anaconda3\\lib\\site-packages\\sklearn\\neighbors\\_classification.py:228: FutureWarning: Unlike other reduction functions (e.g. `skew`, `kurtosis`), the default behavior of `mode` typically preserves the axis it acts along. In SciPy 1.11.0, this behavior will change: the default value of `keepdims` will become False, the `axis` over which the statistic is taken will be eliminated, and the value None will no longer be accepted. Set `keepdims` to True or False to avoid this warning.\n",
      "  mode, _ = stats.mode(_y[neigh_ind, k], axis=1)\n",
      "C:\\Users\\athimmas\\Anaconda3\\lib\\site-packages\\sklearn\\neighbors\\_classification.py:228: FutureWarning: Unlike other reduction functions (e.g. `skew`, `kurtosis`), the default behavior of `mode` typically preserves the axis it acts along. In SciPy 1.11.0, this behavior will change: the default value of `keepdims` will become False, the `axis` over which the statistic is taken will be eliminated, and the value None will no longer be accepted. Set `keepdims` to True or False to avoid this warning.\n",
      "  mode, _ = stats.mode(_y[neigh_ind, k], axis=1)\n",
      "C:\\Users\\athimmas\\Anaconda3\\lib\\site-packages\\sklearn\\neighbors\\_classification.py:228: FutureWarning: Unlike other reduction functions (e.g. `skew`, `kurtosis`), the default behavior of `mode` typically preserves the axis it acts along. In SciPy 1.11.0, this behavior will change: the default value of `keepdims` will become False, the `axis` over which the statistic is taken will be eliminated, and the value None will no longer be accepted. Set `keepdims` to True or False to avoid this warning.\n",
      "  mode, _ = stats.mode(_y[neigh_ind, k], axis=1)\n",
      "C:\\Users\\athimmas\\Anaconda3\\lib\\site-packages\\sklearn\\neighbors\\_classification.py:228: FutureWarning: Unlike other reduction functions (e.g. `skew`, `kurtosis`), the default behavior of `mode` typically preserves the axis it acts along. In SciPy 1.11.0, this behavior will change: the default value of `keepdims` will become False, the `axis` over which the statistic is taken will be eliminated, and the value None will no longer be accepted. Set `keepdims` to True or False to avoid this warning.\n",
      "  mode, _ = stats.mode(_y[neigh_ind, k], axis=1)\n",
      "C:\\Users\\athimmas\\Anaconda3\\lib\\site-packages\\sklearn\\neighbors\\_classification.py:228: FutureWarning: Unlike other reduction functions (e.g. `skew`, `kurtosis`), the default behavior of `mode` typically preserves the axis it acts along. In SciPy 1.11.0, this behavior will change: the default value of `keepdims` will become False, the `axis` over which the statistic is taken will be eliminated, and the value None will no longer be accepted. Set `keepdims` to True or False to avoid this warning.\n",
      "  mode, _ = stats.mode(_y[neigh_ind, k], axis=1)\n"
     ]
    },
    {
     "name": "stderr",
     "output_type": "stream",
     "text": [
      "C:\\Users\\athimmas\\Anaconda3\\lib\\site-packages\\sklearn\\neighbors\\_classification.py:228: FutureWarning: Unlike other reduction functions (e.g. `skew`, `kurtosis`), the default behavior of `mode` typically preserves the axis it acts along. In SciPy 1.11.0, this behavior will change: the default value of `keepdims` will become False, the `axis` over which the statistic is taken will be eliminated, and the value None will no longer be accepted. Set `keepdims` to True or False to avoid this warning.\n",
      "  mode, _ = stats.mode(_y[neigh_ind, k], axis=1)\n",
      "C:\\Users\\athimmas\\Anaconda3\\lib\\site-packages\\sklearn\\neighbors\\_classification.py:228: FutureWarning: Unlike other reduction functions (e.g. `skew`, `kurtosis`), the default behavior of `mode` typically preserves the axis it acts along. In SciPy 1.11.0, this behavior will change: the default value of `keepdims` will become False, the `axis` over which the statistic is taken will be eliminated, and the value None will no longer be accepted. Set `keepdims` to True or False to avoid this warning.\n",
      "  mode, _ = stats.mode(_y[neigh_ind, k], axis=1)\n",
      "C:\\Users\\athimmas\\Anaconda3\\lib\\site-packages\\sklearn\\neighbors\\_classification.py:228: FutureWarning: Unlike other reduction functions (e.g. `skew`, `kurtosis`), the default behavior of `mode` typically preserves the axis it acts along. In SciPy 1.11.0, this behavior will change: the default value of `keepdims` will become False, the `axis` over which the statistic is taken will be eliminated, and the value None will no longer be accepted. Set `keepdims` to True or False to avoid this warning.\n",
      "  mode, _ = stats.mode(_y[neigh_ind, k], axis=1)\n",
      "C:\\Users\\athimmas\\Anaconda3\\lib\\site-packages\\sklearn\\neighbors\\_classification.py:228: FutureWarning: Unlike other reduction functions (e.g. `skew`, `kurtosis`), the default behavior of `mode` typically preserves the axis it acts along. In SciPy 1.11.0, this behavior will change: the default value of `keepdims` will become False, the `axis` over which the statistic is taken will be eliminated, and the value None will no longer be accepted. Set `keepdims` to True or False to avoid this warning.\n",
      "  mode, _ = stats.mode(_y[neigh_ind, k], axis=1)\n",
      "C:\\Users\\athimmas\\Anaconda3\\lib\\site-packages\\sklearn\\neighbors\\_classification.py:228: FutureWarning: Unlike other reduction functions (e.g. `skew`, `kurtosis`), the default behavior of `mode` typically preserves the axis it acts along. In SciPy 1.11.0, this behavior will change: the default value of `keepdims` will become False, the `axis` over which the statistic is taken will be eliminated, and the value None will no longer be accepted. Set `keepdims` to True or False to avoid this warning.\n",
      "  mode, _ = stats.mode(_y[neigh_ind, k], axis=1)\n",
      "C:\\Users\\athimmas\\Anaconda3\\lib\\site-packages\\sklearn\\neighbors\\_classification.py:228: FutureWarning: Unlike other reduction functions (e.g. `skew`, `kurtosis`), the default behavior of `mode` typically preserves the axis it acts along. In SciPy 1.11.0, this behavior will change: the default value of `keepdims` will become False, the `axis` over which the statistic is taken will be eliminated, and the value None will no longer be accepted. Set `keepdims` to True or False to avoid this warning.\n",
      "  mode, _ = stats.mode(_y[neigh_ind, k], axis=1)\n",
      "C:\\Users\\athimmas\\Anaconda3\\lib\\site-packages\\sklearn\\neighbors\\_classification.py:228: FutureWarning: Unlike other reduction functions (e.g. `skew`, `kurtosis`), the default behavior of `mode` typically preserves the axis it acts along. In SciPy 1.11.0, this behavior will change: the default value of `keepdims` will become False, the `axis` over which the statistic is taken will be eliminated, and the value None will no longer be accepted. Set `keepdims` to True or False to avoid this warning.\n",
      "  mode, _ = stats.mode(_y[neigh_ind, k], axis=1)\n",
      "C:\\Users\\athimmas\\Anaconda3\\lib\\site-packages\\sklearn\\neighbors\\_classification.py:228: FutureWarning: Unlike other reduction functions (e.g. `skew`, `kurtosis`), the default behavior of `mode` typically preserves the axis it acts along. In SciPy 1.11.0, this behavior will change: the default value of `keepdims` will become False, the `axis` over which the statistic is taken will be eliminated, and the value None will no longer be accepted. Set `keepdims` to True or False to avoid this warning.\n",
      "  mode, _ = stats.mode(_y[neigh_ind, k], axis=1)\n"
     ]
    },
    {
     "name": "stdout",
     "output_type": "stream",
     "text": [
      "Area under curve is -  0.9367421226578133\n"
     ]
    },
    {
     "data": {
      "text/plain": [
       "{'whiskers': [<matplotlib.lines.Line2D at 0x1db0056a640>,\n",
       "  <matplotlib.lines.Line2D at 0x1db00571d30>],\n",
       " 'caps': [<matplotlib.lines.Line2D at 0x1db0057d040>,\n",
       "  <matplotlib.lines.Line2D at 0x1db0057d310>],\n",
       " 'boxes': [<matplotlib.lines.Line2D at 0x1db005718e0>],\n",
       " 'medians': [<matplotlib.lines.Line2D at 0x1db0057d5e0>],\n",
       " 'fliers': [<matplotlib.lines.Line2D at 0x1db0057d8b0>],\n",
       " 'means': []}"
      ]
     },
     "execution_count": 73,
     "metadata": {},
     "output_type": "execute_result"
    },
    {
     "data": {
      "image/png": "[encoded data removed]",
      "text/plain": [
       "<Figure size 640x480 with 1 Axes>"
      ]
     },
     "metadata": {},
     "output_type": "display_data"
    }
   ],
   "source": [
    "X = data_top10\n",
    "y = data['FraudFound_P']\n",
    "\n",
    "counter = Counter(y)\n",
    "print(counter)\n",
    "\n",
    "\n",
    "aucValid_BorderSMOTEKNN = list()\n",
    "\n",
    "for i in range(0,21):\n",
    "    over = BorderlineSMOTE(random_state=i)\n",
    "    under = RandomUnderSampler(sampling_strategy=1)\n",
    "    steps = [('o', over), ('u', under)]\n",
    "    SMOTESampling = SamplingPipeline(steps=steps)\n",
    "    X_resampled, y_resampled = SMOTESampling.fit_resample(X, y)\n",
    "\n",
    "    if i == 1:\n",
    "        counter = Counter(y_resampled)\n",
    "        print(counter)\n",
    "\n",
    "    X_train,X_valid,y_train,y_valid = train_test_split(X_resampled,y_resampled, train_size=0.6, random_state=1)\n",
    "\n",
    "    if i == 1:\n",
    "        counter = Counter(y_train)\n",
    "        print(counter)\n",
    "        counter = Counter(y_valid)\n",
    "        print(counter)\n",
    "\n",
    "    k = 5\n",
    "    \n",
    "    if k == 1:\n",
    "        print(\"Value of K is - \",k)\n",
    "    #KNN = UnderSample_LogitReg = Pipeline([('scaler',StandardScaler()), ('KNN',KNeighborsClassifier(n_neighbors=k))])\n",
    "    KNN = KNeighborsClassifier(n_neighbors=k)\n",
    "    KNN.fit(X_train,y_train)\n",
    "    \n",
    "    y_pred = KNN.predict(X_valid)\n",
    "    \n",
    "    if k == 1:\n",
    "        classificationSummary(y_valid, y_pred, class_names=classes)\n",
    "        print(metrics.classification_report(y_valid,y_pred))\n",
    "        \n",
    "    y_pred_proba= KNN.predict_proba(X_valid)[::,1]\n",
    "    auc = metrics.roc_auc_score(y_valid,y_pred_proba)\n",
    "    if k == 1:\n",
    "        print(\"Area under curve is - \", auc)\n",
    "\n",
    "\n",
    "    y_pred = KNN.predict(X_valid)\n",
    "    \n",
    "    if i == 1:\n",
    "        classificationSummary(y_valid, y_pred, class_names=classes)\n",
    "        print(metrics.classification_report(y_valid,y_pred))\n",
    "        \n",
    "    y_pred_proba= KNN.predict_proba(X_valid)[::,1]\n",
    "    auc = metrics.roc_auc_score(y_valid,y_pred_proba)\n",
    "    aucValid_BorderSMOTEKNN.append(auc)\n",
    "\n",
    "print(\"Area under curve is - \", auc)\n",
    "\n",
    "plt.figure()\n",
    "plt.boxplot(aucValid_BorderSMOTEKNN)    "
   ]
  },
  {
   "cell_type": "code",
   "execution_count": 138,
   "id": "d1ce126d",
   "metadata": {},
   "outputs": [
    {
     "data": {
      "text/plain": [
       "0.9351059392599881"
      ]
     },
     "execution_count": 138,
     "metadata": {},
     "output_type": "execute_result"
    }
   ],
   "source": [
    "fp= open(r'./aucValid_BorderSMOTEKNN.txt', 'w')\n",
    "fp.write(str(aucValid_BorderSMOTEKNN))\n",
    "fp.close()\n",
    "\n",
    "\n",
    "np.mean(aucValid_BorderSMOTEKNN)"
   ]
  },
  {
   "cell_type": "markdown",
   "id": "09889c19",
   "metadata": {},
   "source": [
    "### Borderline SMOTE with SVM"
   ]
  },
  {
   "cell_type": "code",
   "execution_count": 74,
   "id": "cb373c3e",
   "metadata": {},
   "outputs": [
    {
     "name": "stdout",
     "output_type": "stream",
     "text": [
      "Counter({0: 14208, 1: 892})\n",
      "Counter({0: 14208, 1: 14208})\n",
      "Counter({1: 8580, 0: 8469})\n",
      "Counter({0: 5739, 1: 5628})\n",
      "Confusion Matrix (Accuracy 0.7329)\n",
      "\n",
      "       Prediction\n",
      "Actual    0    1\n",
      "     0 8469    0\n",
      "     1 4553 4027\n",
      "              precision    recall  f1-score   support\n",
      "\n",
      "           0       0.65      1.00      0.79      8469\n",
      "           1       1.00      0.47      0.64      8580\n",
      "\n",
      "    accuracy                           0.73     17049\n",
      "   macro avg       0.83      0.73      0.71     17049\n",
      "weighted avg       0.83      0.73      0.71     17049\n",
      "\n",
      "Area under curve is -  0.8890308573624195\n",
      "Confusion Matrix (Accuracy 0.7304)\n",
      "\n",
      "       Prediction\n",
      "Actual    0    1\n",
      "     0 5739    0\n",
      "     1 3065 2563\n",
      "              precision    recall  f1-score   support\n",
      "\n",
      "           0       0.65      1.00      0.79      5739\n",
      "           1       1.00      0.46      0.63      5628\n",
      "\n",
      "    accuracy                           0.73     11367\n",
      "   macro avg       0.83      0.73      0.71     11367\n",
      "weighted avg       0.82      0.73      0.71     11367\n",
      "\n",
      "Area under curve is -  0.8894031912723738\n",
      "Confusion Matrix (Accuracy 0.9409)\n",
      "\n",
      "       Prediction\n",
      "Actual     0     1\n",
      "     0 14208     0\n",
      "     1   892     0\n",
      "              precision    recall  f1-score   support\n",
      "\n",
      "           0       0.94      1.00      0.97     14208\n",
      "           1       0.00      0.00      0.00       892\n",
      "\n",
      "    accuracy                           0.94     15100\n",
      "   macro avg       0.47      0.50      0.48     15100\n",
      "weighted avg       0.89      0.94      0.91     15100\n",
      "\n"
     ]
    },
    {
     "name": "stderr",
     "output_type": "stream",
     "text": [
      "C:\\Users\\athimmas\\Anaconda3\\lib\\site-packages\\sklearn\\metrics\\_classification.py:1318: UndefinedMetricWarning: Precision and F-score are ill-defined and being set to 0.0 in labels with no predicted samples. Use `zero_division` parameter to control this behavior.\n",
      "  _warn_prf(average, modifier, msg_start, len(result))\n",
      "C:\\Users\\athimmas\\Anaconda3\\lib\\site-packages\\sklearn\\metrics\\_classification.py:1318: UndefinedMetricWarning: Precision and F-score are ill-defined and being set to 0.0 in labels with no predicted samples. Use `zero_division` parameter to control this behavior.\n",
      "  _warn_prf(average, modifier, msg_start, len(result))\n",
      "C:\\Users\\athimmas\\Anaconda3\\lib\\site-packages\\sklearn\\metrics\\_classification.py:1318: UndefinedMetricWarning: Precision and F-score are ill-defined and being set to 0.0 in labels with no predicted samples. Use `zero_division` parameter to control this behavior.\n",
      "  _warn_prf(average, modifier, msg_start, len(result))\n"
     ]
    },
    {
     "name": "stdout",
     "output_type": "stream",
     "text": [
      "Area under curve is -  0.7602340420226842\n"
     ]
    }
   ],
   "source": [
    "X = data_top10\n",
    "y = data['FraudFound_P']\n",
    "\n",
    "counter = Counter(y)\n",
    "print(counter)\n",
    "\n",
    "over = BorderlineSMOTE()\n",
    "under = RandomUnderSampler(sampling_strategy=1)\n",
    "steps = [('o', over), ('u', under)]\n",
    "SMOTESampling = SamplingPipeline(steps=steps)\n",
    "\n",
    "counter = Counter(y_resampled)\n",
    "print(counter)\n",
    "\n",
    "X_train,X_valid,y_train,y_valid = train_test_split(X_resampled,y_resampled, train_size=0.6, random_state=1)\n",
    "\n",
    "counter = Counter(y_train)\n",
    "print(counter)\n",
    "counter = Counter(y_valid)\n",
    "print(counter)\n",
    "\n",
    "# SVM\n",
    "SVM = svm.SVC(probability=True)\n",
    "SVM.fit(X_train, y_train)\n",
    "classes = SVM.classes_\n",
    "                      \n",
    "y_pred = SVM.predict(X_train)\n",
    "classificationSummary(y_train, y_pred, class_names=classes)\n",
    "print(metrics.classification_report(y_train,y_pred))\n",
    "y_pred_proba = SVM.predict_proba(X_train)[::,1]\n",
    "auc = metrics.roc_auc_score(y_train,y_pred_proba)\n",
    "print(\"Area under curve is - \", auc)\n",
    "\n",
    "y_pred = SVM.predict(X_valid)\n",
    "classificationSummary(y_valid, y_pred, class_names=classes)\n",
    "print(metrics.classification_report(y_valid,y_pred))\n",
    "y_pred_proba = SVM.predict_proba(X_valid)[::,1]\n",
    "auc = metrics.roc_auc_score(y_valid,y_pred_proba)\n",
    "print(\"Area under curve is - \", auc)\n",
    "\n",
    "y_pred = SVM.predict(X)\n",
    "classificationSummary(y, y_pred, class_names=classes)\n",
    "print(metrics.classification_report(y,y_pred))\n",
    "y_pred_proba = SVM.predict_proba(X)[::,1]\n",
    "aucBoost_undersample = metrics.roc_auc_score(y,y_pred_proba)\n",
    "print(\"Area under curve is - \", aucBoost_undersample)"
   ]
  },
  {
   "cell_type": "code",
   "execution_count": 75,
   "id": "f3ffa2a4",
   "metadata": {},
   "outputs": [
    {
     "name": "stdout",
     "output_type": "stream",
     "text": [
      "Counter({0: 14208, 1: 892})\n",
      "Counter({0: 14208, 1: 14208})\n",
      "Counter({1: 8580, 0: 8469})\n",
      "Counter({0: 5739, 1: 5628})\n",
      "Confusion Matrix (Accuracy 0.7269)\n",
      "\n",
      "       Prediction\n",
      "Actual    0    1\n",
      "     0 5739    0\n",
      "     1 3104 2524\n",
      "              precision    recall  f1-score   support\n",
      "\n",
      "           0       0.65      1.00      0.79      5739\n",
      "           1       1.00      0.45      0.62      5628\n",
      "\n",
      "    accuracy                           0.73     11367\n",
      "   macro avg       0.82      0.72      0.70     11367\n",
      "weighted avg       0.82      0.73      0.70     11367\n",
      "\n",
      "Area under curve is -  0.8854379250042075\n"
     ]
    },
    {
     "data": {
      "image/png": "[encoded data removed]",
      "text/plain": [
       "<Figure size 640x480 with 1 Axes>"
      ]
     },
     "metadata": {},
     "output_type": "display_data"
    }
   ],
   "source": [
    "if RunSVM:    \n",
    "    X = data_top10\n",
    "    y = data['FraudFound_P']\n",
    "\n",
    "    counter = Counter(y)\n",
    "    print(counter)\n",
    "\n",
    "    aucSVM_BorderlineSMOTE = list()\n",
    "\n",
    "    for i in range(1,21):\n",
    "        over = BorderlineSMOTE(random_state=i)\n",
    "        under = RandomUnderSampler(sampling_strategy=1)\n",
    "        steps = [('o', over), ('u', under)]\n",
    "        SMOTESampling = SamplingPipeline(steps=steps)\n",
    "        X_resampled, y_resampled = SMOTESampling.fit_resample(X, y)\n",
    "\n",
    "        if i == 1:\n",
    "            counter = Counter(y_resampled)\n",
    "            print(counter)\n",
    "\n",
    "        X_train,X_valid,y_train,y_valid = train_test_split(X_resampled,y_resampled, train_size=0.6, random_state=1)\n",
    "\n",
    "        if i == 1:\n",
    "            counter = Counter(y_train)\n",
    "            print(counter)\n",
    "            counter = Counter(y_valid)\n",
    "            print(counter)\n",
    "\n",
    "        # SVM\n",
    "        SVM = svm.SVC(probability=True)\n",
    "        SVM.fit(X_train, y_train)\n",
    "        classes = SVM.classes_\n",
    "\n",
    "\n",
    "        y_pred = SVM.predict(X_valid)\n",
    "\n",
    "        if i == 1:\n",
    "            classificationSummary(y_valid, y_pred, class_names=classes)\n",
    "\n",
    "        if i == 1:\n",
    "            print(metrics.classification_report(y_valid,y_pred))\n",
    "\n",
    "        y_pred_proba = SVM.predict_proba(X_valid)[::,1]\n",
    "        auc = metrics.roc_auc_score(y_valid,y_pred_proba)\n",
    "        aucSVM_BorderlineSMOTE.append(auc)\n",
    "\n",
    "        if i == 1:\n",
    "            print(\"Area under curve is - \", auc)\n",
    "\n",
    "    plt.figure()\n",
    "    plt.boxplot(aucSVM_BorderlineSMOTE)  "
   ]
  },
  {
   "cell_type": "code",
   "execution_count": 139,
   "id": "e9e1806b",
   "metadata": {},
   "outputs": [
    {
     "data": {
      "text/plain": [
       "0.8893576249759592"
      ]
     },
     "execution_count": 139,
     "metadata": {},
     "output_type": "execute_result"
    }
   ],
   "source": [
    "fp= open(r'./aucSVM_BorderlineSMOTE.txt', 'w')\n",
    "fp.write(str(aucSVM_BorderlineSMOTE))\n",
    "fp.close()\n",
    "\n",
    "\n",
    "np.mean(aucSVM_BorderlineSMOTE)"
   ]
  },
  {
   "cell_type": "markdown",
   "id": "62eb3362",
   "metadata": {},
   "source": [
    "# Results with SVM SMOTE"
   ]
  },
  {
   "cell_type": "markdown",
   "id": "03f5f1a4",
   "metadata": {},
   "source": [
    "### Basic logistic regression with SMOTESVM"
   ]
  },
  {
   "cell_type": "code",
   "execution_count": 76,
   "id": "72fd9160",
   "metadata": {},
   "outputs": [
    {
     "name": "stdout",
     "output_type": "stream",
     "text": [
      "Counter({0: 14208, 1: 892})\n",
      "Counter({0: 14208, 1: 14208})\n",
      "Counter({1: 8580, 0: 8469})\n",
      "Counter({0: 5739, 1: 5628})\n"
     ]
    },
    {
     "data": {
      "text/plain": [
       "Pipeline(steps=[('scaler', StandardScaler()),\n",
       "                ('LogitRegressor', LogisticRegression(max_iter=1000))])"
      ]
     },
     "execution_count": 76,
     "metadata": {},
     "output_type": "execute_result"
    }
   ],
   "source": [
    "X = data_top10\n",
    "y = data['FraudFound_P']\n",
    "\n",
    "counter = Counter(y)\n",
    "print(counter)\n",
    "\n",
    "over = SVMSMOTE()\n",
    "under = RandomUnderSampler(sampling_strategy=1)\n",
    "steps = [('o', over), ('u', under)]\n",
    "SMOTESampling = SamplingPipeline(steps=steps)\n",
    "\n",
    "X_resampled, y_resampled = SMOTESampling.fit_resample(X, y)\n",
    "# summarize the new class distribution\n",
    "counter = Counter(y_resampled)\n",
    "print(counter)\n",
    "\n",
    "X_train,X_valid,y_train,y_valid = train_test_split(X_resampled,y_resampled, train_size=0.6, random_state=1)\n",
    "\n",
    "counter = Counter(y_train)\n",
    "print(counter)\n",
    "counter = Counter(y_valid)\n",
    "print(counter)\n",
    "\n",
    "SMOTESVM_LogitReg = Pipeline([('scaler',StandardScaler()), ('LogitRegressor',LogisticRegression(max_iter=1000))])\n",
    "SMOTESVM_LogitReg.fit(X_train,y_train)"
   ]
  },
  {
   "cell_type": "code",
   "execution_count": 77,
   "id": "d4a14a36",
   "metadata": {},
   "outputs": [
    {
     "name": "stdout",
     "output_type": "stream",
     "text": [
      "              precision    recall  f1-score   support\n",
      "\n",
      "           0       0.79      0.99      0.88      8469\n",
      "           1       0.98      0.74      0.84      8580\n",
      "\n",
      "    accuracy                           0.86     17049\n",
      "   macro avg       0.88      0.86      0.86     17049\n",
      "weighted avg       0.89      0.86      0.86     17049\n",
      "\n",
      "Confusion Matrix (Accuracy 0.8609)\n",
      "\n",
      "       Prediction\n",
      "Actual    0    1\n",
      "     0 8357  112\n",
      "     1 2260 6320\n",
      "Area under curve is -  0.8873413416984087\n"
     ]
    }
   ],
   "source": [
    "y_pred = SMOTESVM_LogitReg.predict(X_train)\n",
    "print(metrics.classification_report(y_train,y_pred))\n",
    "classificationSummary(y_train,y_pred)\n",
    "\n",
    "y_pred_proba = SMOTESVM_LogitReg.predict_proba(X_train)[::,1]\n",
    "auc = metrics.roc_auc_score(y_train, y_pred_proba)\n",
    "\n",
    "print(\"Area under curve is - \", auc)"
   ]
  },
  {
   "cell_type": "code",
   "execution_count": 78,
   "id": "8fb06623",
   "metadata": {},
   "outputs": [
    {
     "name": "stdout",
     "output_type": "stream",
     "text": [
      "              precision    recall  f1-score   support\n",
      "\n",
      "           0       0.78      0.99      0.87      5739\n",
      "           1       0.98      0.72      0.83      5628\n",
      "\n",
      "    accuracy                           0.86     11367\n",
      "   macro avg       0.88      0.86      0.85     11367\n",
      "weighted avg       0.88      0.86      0.85     11367\n",
      "\n",
      "Confusion Matrix (Accuracy 0.8570)\n",
      "\n",
      "       Prediction\n",
      "Actual    0    1\n",
      "     0 5666   73\n",
      "     1 1553 4075\n",
      "Area under curve is -  0.8777889793310597\n"
     ]
    }
   ],
   "source": [
    "y_pred = SMOTESVM_LogitReg.predict(X_valid)\n",
    "print(metrics.classification_report(y_valid,y_pred))\n",
    "classificationSummary(y_valid,y_pred)\n",
    "\n",
    "y_pred_proba = SMOTESVM_LogitReg.predict_proba(X_valid)[::,1]\n",
    "auc = metrics.roc_auc_score(y_valid, y_pred_proba)\n",
    "\n",
    "print(\"Area under curve is - \", auc)"
   ]
  },
  {
   "cell_type": "code",
   "execution_count": 79,
   "id": "9d719961",
   "metadata": {},
   "outputs": [
    {
     "name": "stdout",
     "output_type": "stream",
     "text": [
      "              precision    recall  f1-score   support\n",
      "\n",
      "           0       0.94      0.99      0.96     14208\n",
      "           1       0.16      0.04      0.06       892\n",
      "\n",
      "    accuracy                           0.93     15100\n",
      "   macro avg       0.55      0.51      0.51     15100\n",
      "weighted avg       0.90      0.93      0.91     15100\n",
      "\n",
      "Confusion Matrix (Accuracy 0.9311)\n",
      "\n",
      "       Prediction\n",
      "Actual     0     1\n",
      "     0 14023   185\n",
      "     1   856    36\n",
      "Area under curve is -  0.5790697639553791\n"
     ]
    }
   ],
   "source": [
    "y_pred = SMOTESVM_LogitReg.predict(X)\n",
    "print(metrics.classification_report(y,y_pred))\n",
    "classificationSummary(y,y_pred)\n",
    "\n",
    "y_pred_proba = SMOTESVM_LogitReg.predict_proba(X)[::,1]\n",
    "auc_SVMSmote = metrics.roc_auc_score(y, y_pred_proba)\n",
    "\n",
    "print(\"Area under curve is - \", auc_SVMSmote)"
   ]
  },
  {
   "cell_type": "code",
   "execution_count": 80,
   "id": "050255a4",
   "metadata": {},
   "outputs": [
    {
     "name": "stdout",
     "output_type": "stream",
     "text": [
      "Counter({0: 14208, 1: 892})\n",
      "Counter({0: 14208, 1: 14208})\n",
      "Counter({1: 8580, 0: 8469})\n",
      "Counter({0: 5739, 1: 5628})\n",
      "Confusion Matrix (Accuracy 0.8126)\n",
      "\n",
      "       Prediction\n",
      "Actual    0    1\n",
      "     0 5615  124\n",
      "     1 2006 3622\n",
      "              precision    recall  f1-score   support\n",
      "\n",
      "           0       0.74      0.98      0.84      5739\n",
      "           1       0.97      0.64      0.77      5628\n",
      "\n",
      "    accuracy                           0.81     11367\n",
      "   macro avg       0.85      0.81      0.81     11367\n",
      "weighted avg       0.85      0.81      0.81     11367\n",
      "\n"
     ]
    },
    {
     "data": {
      "text/plain": [
       "{'whiskers': [<matplotlib.lines.Line2D at 0x1db00676400>,\n",
       "  <matplotlib.lines.Line2D at 0x1db006768b0>],\n",
       " 'caps': [<matplotlib.lines.Line2D at 0x1db00676b80>,\n",
       "  <matplotlib.lines.Line2D at 0x1db00676e50>],\n",
       " 'boxes': [<matplotlib.lines.Line2D at 0x1db00676550>],\n",
       " 'medians': [<matplotlib.lines.Line2D at 0x1db00683160>],\n",
       " 'fliers': [<matplotlib.lines.Line2D at 0x1db00683430>],\n",
       " 'means': []}"
      ]
     },
     "execution_count": 80,
     "metadata": {},
     "output_type": "execute_result"
    },
    {
     "data": {
      "image/png": "[encoded data removed]",
      "text/plain": [
       "<Figure size 640x480 with 1 Axes>"
      ]
     },
     "metadata": {},
     "output_type": "display_data"
    },
    {
     "data": {
      "image/png": "[encoded data removed]",
      "text/plain": [
       "<Figure size 640x480 with 1 Axes>"
      ]
     },
     "metadata": {},
     "output_type": "display_data"
    },
    {
     "data": {
      "image/png": "[encoded data removed]",
      "text/plain": [
       "<Figure size 640x480 with 1 Axes>"
      ]
     },
     "metadata": {},
     "output_type": "display_data"
    }
   ],
   "source": [
    "X = data_top10\n",
    "y = data['FraudFound_P']\n",
    "\n",
    "counter = Counter(y)\n",
    "print(counter)\n",
    "\n",
    "aucTrain_SVMSMOTELogisticRegression = list()\n",
    "aucValid_SVMSMOTELogisticRegression = list()\n",
    "aucFullSet_SVMSMOTELogisticRegression = list()\n",
    "\n",
    "for i in range(1,21):\n",
    "    over = SVMSMOTE(random_state=i)\n",
    "    under = RandomUnderSampler(sampling_strategy=1)\n",
    "    steps = [('o', over), ('u', under)]\n",
    "    SMOTESampling = SamplingPipeline(steps=steps)\n",
    "    X_resampled, y_resampled = SMOTESampling.fit_resample(X, y)\n",
    "\n",
    "    X_train,X_valid,y_train,y_valid = train_test_split(X_resampled,y_resampled, train_size=0.6, random_state=1)\n",
    "\n",
    "\n",
    "    SMOTE_LogitReg = Pipeline([('scaler',StandardScaler()), ('LogitRegressor',LogisticRegression(max_iter=1000))])\n",
    "    SMOTE_LogitReg.fit(X_train,y_train)\n",
    "    \n",
    "    if i == 1:\n",
    "        counter = Counter(y_resampled)\n",
    "        print(counter)\n",
    "        counter = Counter(y_train)\n",
    "        print(counter)\n",
    "        counter = Counter(y_valid)\n",
    "        print(counter)\n",
    "        \n",
    "        #classificationSummary(y_train,y_pred)\n",
    "        #print(metrics.classification_report(y_train,y_pred))\n",
    "    if i == 1:\n",
    "        y_pred = SMOTE_LogitReg.predict(X_valid)\n",
    "        classificationSummary(y_valid,y_pred)\n",
    "        print(metrics.classification_report(y_valid,y_pred))\n",
    "\n",
    "    y_pred_proba = SMOTE_LogitReg.predict_proba(X_train)[::,1]\n",
    "    aucTrain_SVMSMOTELogisticRegression.append(metrics.roc_auc_score(y_train, y_pred_proba))\n",
    "\n",
    "    y_pred_proba = SMOTE_LogitReg.predict_proba(X_valid)[::,1]\n",
    "    aucValid_SVMSMOTELogisticRegression.append(metrics.roc_auc_score(y_valid, y_pred_proba))\n",
    "\n",
    "    y_pred_proba = SMOTE_LogitReg.predict_proba(X)[::,1]\n",
    "    aucFullSet_SVMSMOTELogisticRegression.append(metrics.roc_auc_score(y, y_pred_proba))\n",
    "\n",
    "#print(\"Area under curve is - \", aucTrain)\n",
    "#print(\"Area under curve is - \", aucValid)\n",
    "#print(\"Area under curve is - \", aucFullSet)\n",
    "\n",
    "plt.figure()\n",
    "plt.boxplot(aucTrain_SVMSMOTELogisticRegression)\n",
    "plt.figure()\n",
    "plt.boxplot(aucValid_SVMSMOTELogisticRegression)\n",
    "plt.figure()\n",
    "plt.boxplot(aucFullSet_SVMSMOTELogisticRegression)"
   ]
  },
  {
   "cell_type": "code",
   "execution_count": 140,
   "id": "aa518228",
   "metadata": {},
   "outputs": [
    {
     "data": {
      "text/plain": [
       "0.8662101205507573"
      ]
     },
     "execution_count": 140,
     "metadata": {},
     "output_type": "execute_result"
    }
   ],
   "source": [
    "fp= open(r'./aucValid_SVMSMOTELogisticRegression.txt', 'w')\n",
    "fp.write(str(aucValid_SVMSMOTELogisticRegression))\n",
    "fp.close()\n",
    "\n",
    "np.mean(aucValid_SVMSMOTELogisticRegression)"
   ]
  },
  {
   "cell_type": "markdown",
   "id": "879ebdd7",
   "metadata": {},
   "source": [
    "## Testing with trees - SVM SMOTE sampling"
   ]
  },
  {
   "cell_type": "code",
   "execution_count": 81,
   "id": "2aff578a",
   "metadata": {},
   "outputs": [
    {
     "name": "stdout",
     "output_type": "stream",
     "text": [
      "Counter({0: 14208, 1: 892})\n",
      "Counter({0: 14208, 1: 14208})\n",
      "Counter({1: 8580, 0: 8469})\n",
      "Counter({0: 5739, 1: 5628})\n",
      "Confusion Matrix (Accuracy 0.9309)\n",
      "\n",
      "       Prediction\n",
      "Actual    0    1\n",
      "     0 7864  605\n",
      "     1  573 8007\n",
      "              precision    recall  f1-score   support\n",
      "\n",
      "           0       0.93      0.93      0.93      8469\n",
      "           1       0.93      0.93      0.93      8580\n",
      "\n",
      "    accuracy                           0.93     17049\n",
      "   macro avg       0.93      0.93      0.93     17049\n",
      "weighted avg       0.93      0.93      0.93     17049\n",
      "\n",
      "Area under curve is -  0.9877428953146274\n",
      "Confusion Matrix (Accuracy 0.9045)\n",
      "\n",
      "       Prediction\n",
      "Actual    0    1\n",
      "     0 5180  559\n",
      "     1  526 5102\n",
      "              precision    recall  f1-score   support\n",
      "\n",
      "           0       0.91      0.90      0.91      5739\n",
      "           1       0.90      0.91      0.90      5628\n",
      "\n",
      "    accuracy                           0.90     11367\n",
      "   macro avg       0.90      0.90      0.90     11367\n",
      "weighted avg       0.90      0.90      0.90     11367\n",
      "\n",
      "Area under curve is -  0.961703830559695\n",
      "Confusion Matrix (Accuracy 0.8921)\n",
      "\n",
      "       Prediction\n",
      "Actual     0     1\n",
      "     0 13044  1164\n",
      "     1   465   427\n",
      "              precision    recall  f1-score   support\n",
      "\n",
      "           0       0.97      0.92      0.94     14208\n",
      "           1       0.27      0.48      0.34       892\n",
      "\n",
      "    accuracy                           0.89     15100\n",
      "   macro avg       0.62      0.70      0.64     15100\n",
      "weighted avg       0.92      0.89      0.91     15100\n",
      "\n",
      "Area under curve is -  0.842951051703329\n"
     ]
    }
   ],
   "source": [
    "X = data_top10\n",
    "y = data['FraudFound_P']\n",
    "\n",
    "counter = Counter(y)\n",
    "print(counter)\n",
    "\n",
    "over = SVMSMOTE()\n",
    "under = RandomUnderSampler(sampling_strategy=1)\n",
    "steps = [('o', over), ('u', under)]\n",
    "SMOTESampling = SamplingPipeline(steps=steps)\n",
    "\n",
    "X_resampled, y_resampled = SMOTESampling.fit_resample(X, y)\n",
    "# summarize the new class distribution\n",
    "counter = Counter(y_resampled)\n",
    "print(counter)\n",
    "\n",
    "X_train,X_valid,y_train,y_valid = train_test_split(X_resampled,y_resampled, train_size=0.6, random_state=1)\n",
    "\n",
    "counter = Counter(y_train)\n",
    "print(counter)\n",
    "counter = Counter(y_valid)\n",
    "print(counter)\n",
    "\n",
    "# single tree\n",
    "defaultTree = DecisionTreeClassifier(random_state=1)\n",
    "defaultTree.fit(X_train, y_train)\n",
    "classes = defaultTree.classes_\n",
    "\n",
    "y_pred = defaultTree.predict(X_train)\n",
    "classificationSummary(y_train, y_pred, class_names=classes)\n",
    "print(metrics.classification_report(y_train,y_pred))\n",
    "y_pred_proba= defaultTree.predict_proba(X_train)[::,1]\n",
    "auc = metrics.roc_auc_score(y_train,y_pred_proba)\n",
    "print(\"Area under curve is - \", auc)\n",
    "\n",
    "y_pred = defaultTree.predict(X_valid)\n",
    "classificationSummary(y_valid, y_pred, class_names=classes)\n",
    "print(metrics.classification_report(y_valid,y_pred))\n",
    "y_pred_proba= defaultTree.predict_proba(X_valid)[::,1]\n",
    "auc = metrics.roc_auc_score(y_valid,y_pred_proba)\n",
    "print(\"Area under curve is - \", auc)\n",
    "\n",
    "y_pred = defaultTree.predict(X)\n",
    "classificationSummary(y, y_pred, class_names=classes)\n",
    "print(metrics.classification_report(y,y_pred))\n",
    "y_pred_proba= defaultTree.predict_proba(X)[::,1]\n",
    "aucTree_undersample = metrics.roc_auc_score(y,y_pred_proba)\n",
    "print(\"Area under curve is - \", aucTree_undersample)"
   ]
  },
  {
   "cell_type": "code",
   "execution_count": 82,
   "id": "28283199",
   "metadata": {},
   "outputs": [
    {
     "name": "stdout",
     "output_type": "stream",
     "text": [
      "Counter({0: 14208, 1: 892})\n",
      "Counter({0: 14208, 1: 14208})\n",
      "Counter({1: 8580, 0: 8469})\n",
      "Counter({0: 5739, 1: 5628})\n",
      "Confusion Matrix (Accuracy 0.8947)\n",
      "\n",
      "       Prediction\n",
      "Actual    0    1\n",
      "     0 4955  784\n",
      "     1  413 5215\n",
      "              precision    recall  f1-score   support\n",
      "\n",
      "           0       0.92      0.86      0.89      5739\n",
      "           1       0.87      0.93      0.90      5628\n",
      "\n",
      "    accuracy                           0.89     11367\n",
      "   macro avg       0.90      0.90      0.89     11367\n",
      "weighted avg       0.90      0.89      0.89     11367\n",
      "\n",
      "Area under curve is -  0.9593828829615396\n"
     ]
    },
    {
     "data": {
      "text/plain": [
       "{'whiskers': [<matplotlib.lines.Line2D at 0x1db00361c70>,\n",
       "  <matplotlib.lines.Line2D at 0x1db001ed3d0>],\n",
       " 'caps': [<matplotlib.lines.Line2D at 0x1db001edc40>,\n",
       "  <matplotlib.lines.Line2D at 0x1db001eda90>],\n",
       " 'boxes': [<matplotlib.lines.Line2D at 0x1db4dc05400>],\n",
       " 'medians': [<matplotlib.lines.Line2D at 0x1db001edb80>],\n",
       " 'fliers': [<matplotlib.lines.Line2D at 0x1db00365a00>],\n",
       " 'means': []}"
      ]
     },
     "execution_count": 82,
     "metadata": {},
     "output_type": "execute_result"
    },
    {
     "data": {
      "image/png": "[encoded data removed]",
      "text/plain": [
       "<Figure size 640x480 with 1 Axes>"
      ]
     },
     "metadata": {},
     "output_type": "display_data"
    }
   ],
   "source": [
    "X = data_top10\n",
    "y = data['FraudFound_P']\n",
    "\n",
    "counter = Counter(y)\n",
    "print(counter)\n",
    "\n",
    "\n",
    "aucValid_SVMSMOTE_DefaultTree = list()\n",
    "\n",
    "for i in range(0,21):\n",
    "    over = SVMSMOTE(random_state=i)\n",
    "    under = RandomUnderSampler(sampling_strategy=1)\n",
    "    steps = [('o', over), ('u', under)]\n",
    "    SMOTESampling = SamplingPipeline(steps=steps)\n",
    "    X_resampled, y_resampled = SMOTESampling.fit_resample(X, y)\n",
    "\n",
    "    if i == 1:\n",
    "        counter = Counter(y_resampled)\n",
    "        print(counter)\n",
    "\n",
    "    X_train,X_valid,y_train,y_valid = train_test_split(X_resampled,y_resampled, train_size=0.6, random_state=1)\n",
    "\n",
    "    if i == 1:\n",
    "        counter = Counter(y_train)\n",
    "        print(counter)\n",
    "        counter = Counter(y_valid)\n",
    "        print(counter)\n",
    "\n",
    "    # single tree\n",
    "    defaultTree = DecisionTreeClassifier(random_state=1)\n",
    "    defaultTree.fit(X_train, y_train)\n",
    "    classes = defaultTree.classes_\n",
    "\n",
    "\n",
    "    y_pred = defaultTree.predict(X_valid)\n",
    "    \n",
    "    if i == 1:\n",
    "        classificationSummary(y_valid, y_pred, class_names=classes)\n",
    "        print(metrics.classification_report(y_valid,y_pred))\n",
    "        \n",
    "    y_pred_proba= defaultTree.predict_proba(X_valid)[::,1]\n",
    "    auc = metrics.roc_auc_score(y_valid,y_pred_proba)\n",
    "    aucValid_SVMSMOTE_DefaultTree.append(auc)\n",
    "\n",
    "print(\"Area under curve is - \", auc)\n",
    "\n",
    "plt.figure()\n",
    "plt.boxplot(aucValid_SVMSMOTE_DefaultTree)    "
   ]
  },
  {
   "cell_type": "code",
   "execution_count": 141,
   "id": "c5f5f2b8",
   "metadata": {},
   "outputs": [
    {
     "data": {
      "text/plain": [
       "0.9594322880065865"
      ]
     },
     "execution_count": 141,
     "metadata": {},
     "output_type": "execute_result"
    }
   ],
   "source": [
    "fp= open(r'./aucValid_SVMSMOTE_DefaultTree.txt', 'w')\n",
    "fp.write(str(aucValid_SVMSMOTE_DefaultTree))\n",
    "fp.close()\n",
    "\n",
    "np.mean(aucValid_SVMSMOTE_DefaultTree)"
   ]
  },
  {
   "cell_type": "code",
   "execution_count": 83,
   "id": "633f723f",
   "metadata": {},
   "outputs": [
    {
     "name": "stdout",
     "output_type": "stream",
     "text": [
      "Counter({0: 14208, 1: 892})\n",
      "Counter({0: 14208, 1: 14208})\n",
      "Counter({1: 8580, 0: 8469})\n",
      "Counter({0: 5739, 1: 5628})\n",
      "Confusion Matrix (Accuracy 0.9230)\n",
      "\n",
      "       Prediction\n",
      "Actual    0    1\n",
      "     0 7618  851\n",
      "     1  462 8118\n",
      "              precision    recall  f1-score   support\n",
      "\n",
      "           0       0.94      0.90      0.92      8469\n",
      "           1       0.91      0.95      0.93      8580\n",
      "\n",
      "    accuracy                           0.92     17049\n",
      "   macro avg       0.92      0.92      0.92     17049\n",
      "weighted avg       0.92      0.92      0.92     17049\n",
      "\n",
      "Area under curve is -  0.9831297731669677\n",
      "Confusion Matrix (Accuracy 0.9007)\n",
      "\n",
      "       Prediction\n",
      "Actual    0    1\n",
      "     0 5044  695\n",
      "     1  434 5194\n",
      "              precision    recall  f1-score   support\n",
      "\n",
      "           0       0.92      0.88      0.90      5739\n",
      "           1       0.88      0.92      0.90      5628\n",
      "\n",
      "    accuracy                           0.90     11367\n",
      "   macro avg       0.90      0.90      0.90     11367\n",
      "weighted avg       0.90      0.90      0.90     11367\n",
      "\n",
      "Area under curve is -  0.969209753636418\n",
      "Confusion Matrix (Accuracy 0.8726)\n",
      "\n",
      "       Prediction\n",
      "Actual     0     1\n",
      "     0 12662  1546\n",
      "     1   378   514\n",
      "              precision    recall  f1-score   support\n",
      "\n",
      "           0       0.97      0.89      0.93     14208\n",
      "           1       0.25      0.58      0.35       892\n",
      "\n",
      "    accuracy                           0.87     15100\n",
      "   macro avg       0.61      0.73      0.64     15100\n",
      "weighted avg       0.93      0.87      0.90     15100\n",
      "\n",
      "Area under curve is -  0.8655622235183614\n"
     ]
    }
   ],
   "source": [
    "X = data_top10\n",
    "y = data['FraudFound_P']\n",
    "\n",
    "counter = Counter(y)\n",
    "print(counter)\n",
    "\n",
    "over = SVMSMOTE()\n",
    "under = RandomUnderSampler(sampling_strategy=1)\n",
    "steps = [('o', over), ('u', under)]\n",
    "SMOTESampling = SamplingPipeline(steps=steps)\n",
    "\n",
    "X_resampled, y_resampled = SMOTESampling.fit_resample(X, y)\n",
    "# summarize the new class distribution\n",
    "counter = Counter(y_resampled)\n",
    "print(counter)\n",
    "\n",
    "X_train,X_valid,y_train,y_valid = train_test_split(X_resampled,y_resampled, train_size=0.6, random_state=1)\n",
    "\n",
    "counter = Counter(y_train)\n",
    "print(counter)\n",
    "counter = Counter(y_valid)\n",
    "print(counter)\n",
    "\n",
    "# bagging\n",
    "bagging = BaggingClassifier(DecisionTreeClassifier(random_state=1),n_estimators=100, random_state=1)\n",
    "bagging.fit(X_train, y_train)\n",
    "classes = bagging.classes_\n",
    "\n",
    "y_pred = bagging.predict(X_train)\n",
    "classificationSummary(y_train, y_pred, class_names=classes)\n",
    "print(metrics.classification_report(y_train,y_pred))\n",
    "y_pred_proba= bagging.predict_proba(X_train)[::,1]\n",
    "auc = metrics.roc_auc_score(y_train,y_pred_proba)\n",
    "print(\"Area under curve is - \", auc)\n",
    "\n",
    "y_pred = bagging.predict(X_valid)\n",
    "classificationSummary(y_valid, y_pred, class_names=classes)\n",
    "print(metrics.classification_report(y_valid,y_pred))\n",
    "y_pred_proba= bagging.predict_proba(X_valid)[::,1]\n",
    "auc = metrics.roc_auc_score(y_valid,y_pred_proba)\n",
    "print(\"Area under curve is - \", auc)\n",
    "\n",
    "y_pred = bagging.predict(X)\n",
    "classificationSummary(y, y_pred, class_names=classes)\n",
    "print(metrics.classification_report(y,y_pred))\n",
    "y_pred_proba= bagging.predict_proba(X)[::,1]\n",
    "aucBag_undersample = metrics.roc_auc_score(y,y_pred_proba)\n",
    "print(\"Area under curve is - \", aucBag_undersample)"
   ]
  },
  {
   "cell_type": "code",
   "execution_count": 84,
   "id": "95e7ffed",
   "metadata": {},
   "outputs": [
    {
     "name": "stdout",
     "output_type": "stream",
     "text": [
      "Counter({0: 14208, 1: 892})\n",
      "Counter({0: 14208, 1: 14208})\n",
      "Counter({1: 8580, 0: 8469})\n",
      "Counter({0: 5739, 1: 5628})\n",
      "Confusion Matrix (Accuracy 0.8959)\n",
      "\n",
      "       Prediction\n",
      "Actual    0    1\n",
      "     0 4991  748\n",
      "     1  435 5193\n",
      "              precision    recall  f1-score   support\n",
      "\n",
      "           0       0.92      0.87      0.89      5739\n",
      "           1       0.87      0.92      0.90      5628\n",
      "\n",
      "    accuracy                           0.90     11367\n",
      "   macro avg       0.90      0.90      0.90     11367\n",
      "weighted avg       0.90      0.90      0.90     11367\n",
      "\n",
      "Area under curve is -  0.9715833188128012\n"
     ]
    },
    {
     "data": {
      "text/plain": [
       "{'whiskers': [<matplotlib.lines.Line2D at 0x1db003d48b0>,\n",
       "  <matplotlib.lines.Line2D at 0x1db003d4b80>],\n",
       " 'caps': [<matplotlib.lines.Line2D at 0x1db003d4e50>,\n",
       "  <matplotlib.lines.Line2D at 0x1db00233160>],\n",
       " 'boxes': [<matplotlib.lines.Line2D at 0x1db003d45e0>],\n",
       " 'medians': [<matplotlib.lines.Line2D at 0x1db00233430>],\n",
       " 'fliers': [<matplotlib.lines.Line2D at 0x1db00233700>],\n",
       " 'means': []}"
      ]
     },
     "execution_count": 84,
     "metadata": {},
     "output_type": "execute_result"
    },
    {
     "data": {
      "image/png": "[encoded data removed]",
      "text/plain": [
       "<Figure size 640x480 with 1 Axes>"
      ]
     },
     "metadata": {},
     "output_type": "display_data"
    }
   ],
   "source": [
    "X = data_top10\n",
    "y = data['FraudFound_P']\n",
    "\n",
    "counter = Counter(y)\n",
    "print(counter)\n",
    "\n",
    "\n",
    "aucValid_SVMSMOTEBagging = list()\n",
    "\n",
    "for i in range(1,21):\n",
    "    over = SVMSMOTE(random_state=i)\n",
    "    under = RandomUnderSampler(sampling_strategy=1)\n",
    "    steps = [('o', over), ('u', under)]\n",
    "    SMOTESampling = SamplingPipeline(steps=steps)\n",
    "    X_resampled, y_resampled = SMOTESampling.fit_resample(X, y)\n",
    "\n",
    "    if i == 1:\n",
    "        counter = Counter(y_resampled)\n",
    "        print(counter)\n",
    "\n",
    "    X_train,X_valid,y_train,y_valid = train_test_split(X_resampled,y_resampled, train_size=0.6, random_state=1)\n",
    "\n",
    "    if i == 1:\n",
    "        counter = Counter(y_train)\n",
    "        print(counter)\n",
    "        counter = Counter(y_valid)\n",
    "        print(counter)\n",
    "\n",
    "    # single tree\n",
    "    bagging = BaggingClassifier(DecisionTreeClassifier(random_state=1),n_estimators=100, random_state=1)\n",
    "    bagging.fit(X_train, y_train)\n",
    "    classes = bagging.classes_\n",
    "\n",
    "\n",
    "    y_pred = bagging.predict(X_valid)\n",
    "    \n",
    "    if i == 1:\n",
    "        classificationSummary(y_valid, y_pred, class_names=classes)\n",
    "        print(metrics.classification_report(y_valid,y_pred))\n",
    "        \n",
    "    y_pred_proba= bagging.predict_proba(X_valid)[::,1]\n",
    "    auc = metrics.roc_auc_score(y_valid,y_pred_proba)\n",
    "    aucValid_SVMSMOTEBagging.append(auc)\n",
    "\n",
    "print(\"Area under curve is - \", auc)\n",
    "\n",
    "plt.figure()\n",
    "plt.boxplot(aucValid_SVMSMOTEBagging)    "
   ]
  },
  {
   "cell_type": "code",
   "execution_count": 142,
   "id": "e8eef4cb",
   "metadata": {},
   "outputs": [
    {
     "data": {
      "text/plain": [
       "0.969855058154576"
      ]
     },
     "execution_count": 142,
     "metadata": {},
     "output_type": "execute_result"
    }
   ],
   "source": [
    "fp= open(r'./aucValid_SVMSMOTEBagging.txt', 'w')\n",
    "fp.write(str(aucValid_SVMSMOTEBagging))\n",
    "fp.close()\n",
    "\n",
    "np.mean(aucValid_SVMSMOTEBagging)"
   ]
  },
  {
   "cell_type": "code",
   "execution_count": 85,
   "id": "72bcb328",
   "metadata": {},
   "outputs": [
    {
     "name": "stdout",
     "output_type": "stream",
     "text": [
      "Counts before sampling - Train and validation data - \n",
      "Counter({0: 14208, 1: 892})\n",
      "Counter({0: 14208, 1: 14208})\n",
      "Counts Train and validation data - after sampling\n",
      "Counter({1: 8580, 0: 8469})\n",
      "Counter({0: 5739, 1: 5628})\n",
      "Confusion Matrix (Accuracy 0.9338)\n",
      "\n",
      "       Prediction\n",
      "Actual    0    1\n",
      "     0 7903  566\n",
      "     1  562 8018\n",
      "              precision    recall  f1-score   support\n",
      "\n",
      "           0       0.93      0.93      0.93      8469\n",
      "           1       0.93      0.93      0.93      8580\n",
      "\n",
      "    accuracy                           0.93     17049\n",
      "   macro avg       0.93      0.93      0.93     17049\n",
      "weighted avg       0.93      0.93      0.93     17049\n",
      "\n",
      "Area under curve is -  0.9891934963135813\n",
      "Confusion Matrix (Accuracy 0.9116)\n",
      "\n",
      "       Prediction\n",
      "Actual    0    1\n",
      "     0 5255  484\n",
      "     1  521 5107\n",
      "              precision    recall  f1-score   support\n",
      "\n",
      "           0       0.91      0.92      0.91      5739\n",
      "           1       0.91      0.91      0.91      5628\n",
      "\n",
      "    accuracy                           0.91     11367\n",
      "   macro avg       0.91      0.91      0.91     11367\n",
      "weighted avg       0.91      0.91      0.91     11367\n",
      "\n",
      "Area under curve is -  0.972910322061066\n",
      "Confusion Matrix (Accuracy 0.9001)\n",
      "\n",
      "       Prediction\n",
      "Actual     0     1\n",
      "     0 13158  1050\n",
      "     1   459   433\n",
      "              precision    recall  f1-score   support\n",
      "\n",
      "           0       0.97      0.93      0.95     14208\n",
      "           1       0.29      0.49      0.36       892\n",
      "\n",
      "    accuracy                           0.90     15100\n",
      "   macro avg       0.63      0.71      0.66     15100\n",
      "weighted avg       0.93      0.90      0.91     15100\n",
      "\n",
      "Area under curve is -  0.8686834124272815\n"
     ]
    }
   ],
   "source": [
    "X = data_top10\n",
    "y = data['FraudFound_P']\n",
    "\n",
    "print(\"Counts before sampling - Train and validation data - \")\n",
    "counter = Counter(y)\n",
    "print(counter)\n",
    "\n",
    "over = SVMSMOTE()\n",
    "under = RandomUnderSampler(sampling_strategy=1)\n",
    "steps = [('o', over), ('u', under)]\n",
    "SMOTESampling = SamplingPipeline(steps=steps)\n",
    "\n",
    "X_resampled, y_resampled = SMOTESampling.fit_resample(X, y)\n",
    "# summarize the new class distribution\n",
    "counter = Counter(y_resampled)\n",
    "print(counter)\n",
    "\n",
    "X_train,X_valid,y_train,y_valid = train_test_split(X_resampled,y_resampled, train_size=0.6, random_state=1)\n",
    "\n",
    "print(\"Counts Train and validation data - after sampling\")\n",
    "counter = Counter(y_train)\n",
    "print(counter)\n",
    "counter = Counter(y_valid)\n",
    "print(counter)\n",
    "\n",
    "# boosting\n",
    "boost = AdaBoostClassifier(DecisionTreeClassifier(random_state=1),n_estimators=100, random_state=1)\n",
    "boost.fit(X_train, y_train)\n",
    "classes = boost.classes_\n",
    "                      \n",
    "y_pred = boost.predict(X_train)\n",
    "classificationSummary(y_train, y_pred, class_names=classes)\n",
    "print(metrics.classification_report(y_train,y_pred))\n",
    "y_pred_proba = boost.predict_proba(X_train)[::,1]\n",
    "auc = metrics.roc_auc_score(y_train,y_pred_proba)\n",
    "print(\"Area under curve is - \", auc)\n",
    "\n",
    "y_pred = boost.predict(X_valid)\n",
    "classificationSummary(y_valid, y_pred, class_names=classes)\n",
    "print(metrics.classification_report(y_valid,y_pred))\n",
    "y_pred_proba= boost.predict_proba(X_valid)[::,1]\n",
    "auc = metrics.roc_auc_score(y_valid,y_pred_proba)\n",
    "print(\"Area under curve is - \", auc)\n",
    "\n",
    "y_pred = boost.predict(X)\n",
    "classificationSummary(y, y_pred, class_names=classes)\n",
    "print(metrics.classification_report(y,y_pred))\n",
    "y_pred_proba= boost.predict_proba(X)[::,1]\n",
    "aucBoost_undersample = metrics.roc_auc_score(y,y_pred_proba)\n",
    "print(\"Area under curve is - \", aucBoost_undersample)"
   ]
  },
  {
   "cell_type": "code",
   "execution_count": 86,
   "id": "bd1dc0f6",
   "metadata": {},
   "outputs": [
    {
     "name": "stdout",
     "output_type": "stream",
     "text": [
      "Counter({0: 14208, 1: 892})\n",
      "Counter({0: 14208, 1: 14208})\n",
      "Counter({1: 8580, 0: 8469})\n",
      "Counter({0: 5739, 1: 5628})\n",
      "Confusion Matrix (Accuracy 0.9000)\n",
      "\n",
      "       Prediction\n",
      "Actual    0    1\n",
      "     0 5031  708\n",
      "     1  429 5199\n",
      "              precision    recall  f1-score   support\n",
      "\n",
      "           0       0.92      0.88      0.90      5739\n",
      "           1       0.88      0.92      0.90      5628\n",
      "\n",
      "    accuracy                           0.90     11367\n",
      "   macro avg       0.90      0.90      0.90     11367\n",
      "weighted avg       0.90      0.90      0.90     11367\n",
      "\n",
      "Area under curve is -  0.969567116623588\n"
     ]
    },
    {
     "data": {
      "text/plain": [
       "{'whiskers': [<matplotlib.lines.Line2D at 0x1db001b1820>,\n",
       "  <matplotlib.lines.Line2D at 0x1db001b1580>],\n",
       " 'caps': [<matplotlib.lines.Line2D at 0x1db0046cd30>,\n",
       "  <matplotlib.lines.Line2D at 0x1db0046c3d0>],\n",
       " 'boxes': [<matplotlib.lines.Line2D at 0x1db001b1d90>],\n",
       " 'medians': [<matplotlib.lines.Line2D at 0x1db0046cd90>],\n",
       " 'fliers': [<matplotlib.lines.Line2D at 0x1db0046cbe0>],\n",
       " 'means': []}"
      ]
     },
     "execution_count": 86,
     "metadata": {},
     "output_type": "execute_result"
    },
    {
     "data": {
      "image/png": "[encoded data removed]",
      "text/plain": [
       "<Figure size 640x480 with 1 Axes>"
      ]
     },
     "metadata": {},
     "output_type": "display_data"
    }
   ],
   "source": [
    "X = data_top10\n",
    "y = data['FraudFound_P']\n",
    "\n",
    "counter = Counter(y)\n",
    "print(counter)\n",
    "\n",
    "\n",
    "aucValid_SVMSMOTEBoost = list()\n",
    "\n",
    "for i in range(0,21):\n",
    "    over = SVMSMOTE(random_state=i)\n",
    "    under = RandomUnderSampler(sampling_strategy=1)\n",
    "    steps = [('o', over), ('u', under)]\n",
    "    SMOTESampling = SamplingPipeline(steps=steps)\n",
    "    X_resampled, y_resampled = SMOTESampling.fit_resample(X, y)\n",
    "\n",
    "    if i == 1:\n",
    "        counter = Counter(y_resampled)\n",
    "        print(counter)\n",
    "\n",
    "    X_train,X_valid,y_train,y_valid = train_test_split(X_resampled,y_resampled, train_size=0.6, random_state=1)\n",
    "\n",
    "    if i == 1:\n",
    "        counter = Counter(y_train)\n",
    "        print(counter)\n",
    "        counter = Counter(y_valid)\n",
    "        print(counter)\n",
    "\n",
    "    # single tree\n",
    "    boost = AdaBoostClassifier(DecisionTreeClassifier(random_state=1),n_estimators=100, random_state=1)\n",
    "    boost.fit(X_train, y_train)\n",
    "    classes = boost.classes_\n",
    "\n",
    "\n",
    "    y_pred = boost.predict(X_valid)\n",
    "    \n",
    "    if i == 1:\n",
    "        classificationSummary(y_valid, y_pred, class_names=classes)\n",
    "        print(metrics.classification_report(y_valid,y_pred))\n",
    "        \n",
    "    y_pred_proba= boost.predict_proba(X_valid)[::,1]\n",
    "    auc = metrics.roc_auc_score(y_valid,y_pred_proba)\n",
    "    aucValid_SVMSMOTEBoost.append(auc)\n",
    "\n",
    "print(\"Area under curve is - \", auc)\n",
    "\n",
    "plt.figure()\n",
    "plt.boxplot(aucValid_SVMSMOTEBoost)    "
   ]
  },
  {
   "cell_type": "code",
   "execution_count": 143,
   "id": "71baab7b",
   "metadata": {},
   "outputs": [
    {
     "data": {
      "text/plain": [
       "0.9679360564716566"
      ]
     },
     "execution_count": 143,
     "metadata": {},
     "output_type": "execute_result"
    }
   ],
   "source": [
    "fp= open(r'./aucValid_SVMSMOTEBoost.txt', 'w')\n",
    "fp.write(str(aucValid_SVMSMOTEBoost))\n",
    "fp.close()\n",
    "\n",
    "np.mean(aucValid_SVMSMOTEBoost)"
   ]
  },
  {
   "cell_type": "markdown",
   "id": "351e02b0",
   "metadata": {},
   "source": [
    "## Testing with KNN - SVM SMOTE"
   ]
  },
  {
   "cell_type": "code",
   "execution_count": 87,
   "id": "22571c46",
   "metadata": {},
   "outputs": [
    {
     "name": "stdout",
     "output_type": "stream",
     "text": [
      "Counter({0: 14208, 1: 892})\n",
      "Counter({0: 14208, 1: 14208})\n",
      "Counter({1: 8580, 0: 8469})\n",
      "Counter({0: 5739, 1: 5628})\n",
      "Value of K is -  5\n"
     ]
    },
    {
     "name": "stderr",
     "output_type": "stream",
     "text": [
      "C:\\Users\\athimmas\\Anaconda3\\lib\\site-packages\\sklearn\\neighbors\\_classification.py:228: FutureWarning: Unlike other reduction functions (e.g. `skew`, `kurtosis`), the default behavior of `mode` typically preserves the axis it acts along. In SciPy 1.11.0, this behavior will change: the default value of `keepdims` will become False, the `axis` over which the statistic is taken will be eliminated, and the value None will no longer be accepted. Set `keepdims` to True or False to avoid this warning.\n",
      "  mode, _ = stats.mode(_y[neigh_ind, k], axis=1)\n"
     ]
    },
    {
     "name": "stdout",
     "output_type": "stream",
     "text": [
      "Confusion Matrix (Accuracy 0.8886)\n",
      "\n",
      "       Prediction\n",
      "Actual    0    1\n",
      "     0 4964  775\n",
      "     1  491 5137\n",
      "              precision    recall  f1-score   support\n",
      "\n",
      "           0       0.91      0.86      0.89      5739\n",
      "           1       0.87      0.91      0.89      5628\n",
      "\n",
      "    accuracy                           0.89     11367\n",
      "   macro avg       0.89      0.89      0.89     11367\n",
      "weighted avg       0.89      0.89      0.89     11367\n",
      "\n",
      "Area under curve is -  0.9507788949608862\n"
     ]
    },
    {
     "name": "stderr",
     "output_type": "stream",
     "text": [
      "C:\\Users\\athimmas\\Anaconda3\\lib\\site-packages\\sklearn\\neighbors\\_classification.py:228: FutureWarning: Unlike other reduction functions (e.g. `skew`, `kurtosis`), the default behavior of `mode` typically preserves the axis it acts along. In SciPy 1.11.0, this behavior will change: the default value of `keepdims` will become False, the `axis` over which the statistic is taken will be eliminated, and the value None will no longer be accepted. Set `keepdims` to True or False to avoid this warning.\n",
      "  mode, _ = stats.mode(_y[neigh_ind, k], axis=1)\n"
     ]
    },
    {
     "name": "stdout",
     "output_type": "stream",
     "text": [
      "Confusion Matrix (Accuracy 0.8562)\n",
      "\n",
      "       Prediction\n",
      "Actual     0     1\n",
      "     0 12468  1740\n",
      "     1   431   461\n",
      "              precision    recall  f1-score   support\n",
      "\n",
      "           0       0.97      0.88      0.92     14208\n",
      "           1       0.21      0.52      0.30       892\n",
      "\n",
      "    accuracy                           0.86     15100\n",
      "   macro avg       0.59      0.70      0.61     15100\n",
      "weighted avg       0.92      0.86      0.88     15100\n",
      "\n",
      "Area under curve is -  0.8060585853861149\n"
     ]
    }
   ],
   "source": [
    "X = data_top10\n",
    "y = data['FraudFound_P']\n",
    "\n",
    "counter = Counter(y)\n",
    "print(counter)\n",
    "\n",
    "over = SVMSMOTE()\n",
    "under = RandomUnderSampler(sampling_strategy=1)\n",
    "steps = [('o', over), ('u', under)]\n",
    "SMOTESampling = SamplingPipeline(steps=steps)\n",
    "\n",
    "X_resampled, y_resampled = SMOTESampling.fit_resample(X, y)\n",
    "# summarize the new class distribution\n",
    "counter = Counter(y_resampled)\n",
    "print(counter)\n",
    "\n",
    "X_train,X_valid,y_train,y_valid = train_test_split(X_resampled,y_resampled, train_size=0.6, random_state=1)\n",
    "\n",
    "counter = Counter(y_train)\n",
    "print(counter)\n",
    "counter = Counter(y_valid)\n",
    "print(counter)\n",
    "\n",
    "k = 5\n",
    "print(\"Value of K is - \",k)\n",
    "#KNN = UnderSample_LogitReg = Pipeline([('scaler',StandardScaler()), ('KNN',KNeighborsClassifier(n_neighbors=k))])\n",
    "KNN = KNeighborsClassifier(n_neighbors=k)\n",
    "KNN.fit(X_train,y_train)\n",
    "\n",
    "y_pred = KNN.predict(X_valid)\n",
    "classificationSummary(y_valid, y_pred, class_names=classes)\n",
    "print(metrics.classification_report(y_valid,y_pred))\n",
    "y_pred_proba= KNN.predict_proba(X_valid)[::,1]\n",
    "auc = metrics.roc_auc_score(y_valid,y_pred_proba)\n",
    "print(\"Area under curve is - \", auc)\n",
    "\n",
    "y_pred = KNN.predict(X)\n",
    "classificationSummary(y, y_pred, class_names=classes)\n",
    "print(metrics.classification_report(y,y_pred))\n",
    "y_pred_proba= KNN.predict_proba(X)[::,1]\n",
    "auc = metrics.roc_auc_score(y,y_pred_proba)\n",
    "print(\"Area under curve is - \", auc)"
   ]
  },
  {
   "cell_type": "code",
   "execution_count": 88,
   "id": "24457c8c",
   "metadata": {},
   "outputs": [
    {
     "name": "stdout",
     "output_type": "stream",
     "text": [
      "Counter({0: 14208, 1: 892})\n"
     ]
    },
    {
     "name": "stderr",
     "output_type": "stream",
     "text": [
      "C:\\Users\\athimmas\\Anaconda3\\lib\\site-packages\\sklearn\\neighbors\\_classification.py:228: FutureWarning: Unlike other reduction functions (e.g. `skew`, `kurtosis`), the default behavior of `mode` typically preserves the axis it acts along. In SciPy 1.11.0, this behavior will change: the default value of `keepdims` will become False, the `axis` over which the statistic is taken will be eliminated, and the value None will no longer be accepted. Set `keepdims` to True or False to avoid this warning.\n",
      "  mode, _ = stats.mode(_y[neigh_ind, k], axis=1)\n",
      "C:\\Users\\athimmas\\Anaconda3\\lib\\site-packages\\sklearn\\neighbors\\_classification.py:228: FutureWarning: Unlike other reduction functions (e.g. `skew`, `kurtosis`), the default behavior of `mode` typically preserves the axis it acts along. In SciPy 1.11.0, this behavior will change: the default value of `keepdims` will become False, the `axis` over which the statistic is taken will be eliminated, and the value None will no longer be accepted. Set `keepdims` to True or False to avoid this warning.\n",
      "  mode, _ = stats.mode(_y[neigh_ind, k], axis=1)\n"
     ]
    },
    {
     "name": "stdout",
     "output_type": "stream",
     "text": [
      "Counter({0: 14208, 1: 14208})\n",
      "Counter({1: 8580, 0: 8469})\n",
      "Counter({0: 5739, 1: 5628})\n"
     ]
    },
    {
     "name": "stderr",
     "output_type": "stream",
     "text": [
      "C:\\Users\\athimmas\\Anaconda3\\lib\\site-packages\\sklearn\\neighbors\\_classification.py:228: FutureWarning: Unlike other reduction functions (e.g. `skew`, `kurtosis`), the default behavior of `mode` typically preserves the axis it acts along. In SciPy 1.11.0, this behavior will change: the default value of `keepdims` will become False, the `axis` over which the statistic is taken will be eliminated, and the value None will no longer be accepted. Set `keepdims` to True or False to avoid this warning.\n",
      "  mode, _ = stats.mode(_y[neigh_ind, k], axis=1)\n",
      "C:\\Users\\athimmas\\Anaconda3\\lib\\site-packages\\sklearn\\neighbors\\_classification.py:228: FutureWarning: Unlike other reduction functions (e.g. `skew`, `kurtosis`), the default behavior of `mode` typically preserves the axis it acts along. In SciPy 1.11.0, this behavior will change: the default value of `keepdims` will become False, the `axis` over which the statistic is taken will be eliminated, and the value None will no longer be accepted. Set `keepdims` to True or False to avoid this warning.\n",
      "  mode, _ = stats.mode(_y[neigh_ind, k], axis=1)\n"
     ]
    },
    {
     "name": "stdout",
     "output_type": "stream",
     "text": [
      "Confusion Matrix (Accuracy 0.8811)\n",
      "\n",
      "       Prediction\n",
      "Actual    0    1\n",
      "     0 4897  842\n",
      "     1  509 5119\n",
      "              precision    recall  f1-score   support\n",
      "\n",
      "           0       0.91      0.85      0.88      5739\n",
      "           1       0.86      0.91      0.88      5628\n",
      "\n",
      "    accuracy                           0.88     11367\n",
      "   macro avg       0.88      0.88      0.88     11367\n",
      "weighted avg       0.88      0.88      0.88     11367\n",
      "\n"
     ]
    },
    {
     "name": "stderr",
     "output_type": "stream",
     "text": [
      "C:\\Users\\athimmas\\Anaconda3\\lib\\site-packages\\sklearn\\neighbors\\_classification.py:228: FutureWarning: Unlike other reduction functions (e.g. `skew`, `kurtosis`), the default behavior of `mode` typically preserves the axis it acts along. In SciPy 1.11.0, this behavior will change: the default value of `keepdims` will become False, the `axis` over which the statistic is taken will be eliminated, and the value None will no longer be accepted. Set `keepdims` to True or False to avoid this warning.\n",
      "  mode, _ = stats.mode(_y[neigh_ind, k], axis=1)\n",
      "C:\\Users\\athimmas\\Anaconda3\\lib\\site-packages\\sklearn\\neighbors\\_classification.py:228: FutureWarning: Unlike other reduction functions (e.g. `skew`, `kurtosis`), the default behavior of `mode` typically preserves the axis it acts along. In SciPy 1.11.0, this behavior will change: the default value of `keepdims` will become False, the `axis` over which the statistic is taken will be eliminated, and the value None will no longer be accepted. Set `keepdims` to True or False to avoid this warning.\n",
      "  mode, _ = stats.mode(_y[neigh_ind, k], axis=1)\n",
      "C:\\Users\\athimmas\\Anaconda3\\lib\\site-packages\\sklearn\\neighbors\\_classification.py:228: FutureWarning: Unlike other reduction functions (e.g. `skew`, `kurtosis`), the default behavior of `mode` typically preserves the axis it acts along. In SciPy 1.11.0, this behavior will change: the default value of `keepdims` will become False, the `axis` over which the statistic is taken will be eliminated, and the value None will no longer be accepted. Set `keepdims` to True or False to avoid this warning.\n",
      "  mode, _ = stats.mode(_y[neigh_ind, k], axis=1)\n",
      "C:\\Users\\athimmas\\Anaconda3\\lib\\site-packages\\sklearn\\neighbors\\_classification.py:228: FutureWarning: Unlike other reduction functions (e.g. `skew`, `kurtosis`), the default behavior of `mode` typically preserves the axis it acts along. In SciPy 1.11.0, this behavior will change: the default value of `keepdims` will become False, the `axis` over which the statistic is taken will be eliminated, and the value None will no longer be accepted. Set `keepdims` to True or False to avoid this warning.\n",
      "  mode, _ = stats.mode(_y[neigh_ind, k], axis=1)\n",
      "C:\\Users\\athimmas\\Anaconda3\\lib\\site-packages\\sklearn\\neighbors\\_classification.py:228: FutureWarning: Unlike other reduction functions (e.g. `skew`, `kurtosis`), the default behavior of `mode` typically preserves the axis it acts along. In SciPy 1.11.0, this behavior will change: the default value of `keepdims` will become False, the `axis` over which the statistic is taken will be eliminated, and the value None will no longer be accepted. Set `keepdims` to True or False to avoid this warning.\n",
      "  mode, _ = stats.mode(_y[neigh_ind, k], axis=1)\n",
      "C:\\Users\\athimmas\\Anaconda3\\lib\\site-packages\\sklearn\\neighbors\\_classification.py:228: FutureWarning: Unlike other reduction functions (e.g. `skew`, `kurtosis`), the default behavior of `mode` typically preserves the axis it acts along. In SciPy 1.11.0, this behavior will change: the default value of `keepdims` will become False, the `axis` over which the statistic is taken will be eliminated, and the value None will no longer be accepted. Set `keepdims` to True or False to avoid this warning.\n",
      "  mode, _ = stats.mode(_y[neigh_ind, k], axis=1)\n",
      "C:\\Users\\athimmas\\Anaconda3\\lib\\site-packages\\sklearn\\neighbors\\_classification.py:228: FutureWarning: Unlike other reduction functions (e.g. `skew`, `kurtosis`), the default behavior of `mode` typically preserves the axis it acts along. In SciPy 1.11.0, this behavior will change: the default value of `keepdims` will become False, the `axis` over which the statistic is taken will be eliminated, and the value None will no longer be accepted. Set `keepdims` to True or False to avoid this warning.\n",
      "  mode, _ = stats.mode(_y[neigh_ind, k], axis=1)\n",
      "C:\\Users\\athimmas\\Anaconda3\\lib\\site-packages\\sklearn\\neighbors\\_classification.py:228: FutureWarning: Unlike other reduction functions (e.g. `skew`, `kurtosis`), the default behavior of `mode` typically preserves the axis it acts along. In SciPy 1.11.0, this behavior will change: the default value of `keepdims` will become False, the `axis` over which the statistic is taken will be eliminated, and the value None will no longer be accepted. Set `keepdims` to True or False to avoid this warning.\n",
      "  mode, _ = stats.mode(_y[neigh_ind, k], axis=1)\n",
      "C:\\Users\\athimmas\\Anaconda3\\lib\\site-packages\\sklearn\\neighbors\\_classification.py:228: FutureWarning: Unlike other reduction functions (e.g. `skew`, `kurtosis`), the default behavior of `mode` typically preserves the axis it acts along. In SciPy 1.11.0, this behavior will change: the default value of `keepdims` will become False, the `axis` over which the statistic is taken will be eliminated, and the value None will no longer be accepted. Set `keepdims` to True or False to avoid this warning.\n",
      "  mode, _ = stats.mode(_y[neigh_ind, k], axis=1)\n",
      "C:\\Users\\athimmas\\Anaconda3\\lib\\site-packages\\sklearn\\neighbors\\_classification.py:228: FutureWarning: Unlike other reduction functions (e.g. `skew`, `kurtosis`), the default behavior of `mode` typically preserves the axis it acts along. In SciPy 1.11.0, this behavior will change: the default value of `keepdims` will become False, the `axis` over which the statistic is taken will be eliminated, and the value None will no longer be accepted. Set `keepdims` to True or False to avoid this warning.\n",
      "  mode, _ = stats.mode(_y[neigh_ind, k], axis=1)\n",
      "C:\\Users\\athimmas\\Anaconda3\\lib\\site-packages\\sklearn\\neighbors\\_classification.py:228: FutureWarning: Unlike other reduction functions (e.g. `skew`, `kurtosis`), the default behavior of `mode` typically preserves the axis it acts along. In SciPy 1.11.0, this behavior will change: the default value of `keepdims` will become False, the `axis` over which the statistic is taken will be eliminated, and the value None will no longer be accepted. Set `keepdims` to True or False to avoid this warning.\n",
      "  mode, _ = stats.mode(_y[neigh_ind, k], axis=1)\n",
      "C:\\Users\\athimmas\\Anaconda3\\lib\\site-packages\\sklearn\\neighbors\\_classification.py:228: FutureWarning: Unlike other reduction functions (e.g. `skew`, `kurtosis`), the default behavior of `mode` typically preserves the axis it acts along. In SciPy 1.11.0, this behavior will change: the default value of `keepdims` will become False, the `axis` over which the statistic is taken will be eliminated, and the value None will no longer be accepted. Set `keepdims` to True or False to avoid this warning.\n",
      "  mode, _ = stats.mode(_y[neigh_ind, k], axis=1)\n",
      "C:\\Users\\athimmas\\Anaconda3\\lib\\site-packages\\sklearn\\neighbors\\_classification.py:228: FutureWarning: Unlike other reduction functions (e.g. `skew`, `kurtosis`), the default behavior of `mode` typically preserves the axis it acts along. In SciPy 1.11.0, this behavior will change: the default value of `keepdims` will become False, the `axis` over which the statistic is taken will be eliminated, and the value None will no longer be accepted. Set `keepdims` to True or False to avoid this warning.\n",
      "  mode, _ = stats.mode(_y[neigh_ind, k], axis=1)\n",
      "C:\\Users\\athimmas\\Anaconda3\\lib\\site-packages\\sklearn\\neighbors\\_classification.py:228: FutureWarning: Unlike other reduction functions (e.g. `skew`, `kurtosis`), the default behavior of `mode` typically preserves the axis it acts along. In SciPy 1.11.0, this behavior will change: the default value of `keepdims` will become False, the `axis` over which the statistic is taken will be eliminated, and the value None will no longer be accepted. Set `keepdims` to True or False to avoid this warning.\n",
      "  mode, _ = stats.mode(_y[neigh_ind, k], axis=1)\n",
      "C:\\Users\\athimmas\\Anaconda3\\lib\\site-packages\\sklearn\\neighbors\\_classification.py:228: FutureWarning: Unlike other reduction functions (e.g. `skew`, `kurtosis`), the default behavior of `mode` typically preserves the axis it acts along. In SciPy 1.11.0, this behavior will change: the default value of `keepdims` will become False, the `axis` over which the statistic is taken will be eliminated, and the value None will no longer be accepted. Set `keepdims` to True or False to avoid this warning.\n",
      "  mode, _ = stats.mode(_y[neigh_ind, k], axis=1)\n"
     ]
    },
    {
     "name": "stderr",
     "output_type": "stream",
     "text": [
      "C:\\Users\\athimmas\\Anaconda3\\lib\\site-packages\\sklearn\\neighbors\\_classification.py:228: FutureWarning: Unlike other reduction functions (e.g. `skew`, `kurtosis`), the default behavior of `mode` typically preserves the axis it acts along. In SciPy 1.11.0, this behavior will change: the default value of `keepdims` will become False, the `axis` over which the statistic is taken will be eliminated, and the value None will no longer be accepted. Set `keepdims` to True or False to avoid this warning.\n",
      "  mode, _ = stats.mode(_y[neigh_ind, k], axis=1)\n",
      "C:\\Users\\athimmas\\Anaconda3\\lib\\site-packages\\sklearn\\neighbors\\_classification.py:228: FutureWarning: Unlike other reduction functions (e.g. `skew`, `kurtosis`), the default behavior of `mode` typically preserves the axis it acts along. In SciPy 1.11.0, this behavior will change: the default value of `keepdims` will become False, the `axis` over which the statistic is taken will be eliminated, and the value None will no longer be accepted. Set `keepdims` to True or False to avoid this warning.\n",
      "  mode, _ = stats.mode(_y[neigh_ind, k], axis=1)\n",
      "C:\\Users\\athimmas\\Anaconda3\\lib\\site-packages\\sklearn\\neighbors\\_classification.py:228: FutureWarning: Unlike other reduction functions (e.g. `skew`, `kurtosis`), the default behavior of `mode` typically preserves the axis it acts along. In SciPy 1.11.0, this behavior will change: the default value of `keepdims` will become False, the `axis` over which the statistic is taken will be eliminated, and the value None will no longer be accepted. Set `keepdims` to True or False to avoid this warning.\n",
      "  mode, _ = stats.mode(_y[neigh_ind, k], axis=1)\n",
      "C:\\Users\\athimmas\\Anaconda3\\lib\\site-packages\\sklearn\\neighbors\\_classification.py:228: FutureWarning: Unlike other reduction functions (e.g. `skew`, `kurtosis`), the default behavior of `mode` typically preserves the axis it acts along. In SciPy 1.11.0, this behavior will change: the default value of `keepdims` will become False, the `axis` over which the statistic is taken will be eliminated, and the value None will no longer be accepted. Set `keepdims` to True or False to avoid this warning.\n",
      "  mode, _ = stats.mode(_y[neigh_ind, k], axis=1)\n",
      "C:\\Users\\athimmas\\Anaconda3\\lib\\site-packages\\sklearn\\neighbors\\_classification.py:228: FutureWarning: Unlike other reduction functions (e.g. `skew`, `kurtosis`), the default behavior of `mode` typically preserves the axis it acts along. In SciPy 1.11.0, this behavior will change: the default value of `keepdims` will become False, the `axis` over which the statistic is taken will be eliminated, and the value None will no longer be accepted. Set `keepdims` to True or False to avoid this warning.\n",
      "  mode, _ = stats.mode(_y[neigh_ind, k], axis=1)\n",
      "C:\\Users\\athimmas\\Anaconda3\\lib\\site-packages\\sklearn\\neighbors\\_classification.py:228: FutureWarning: Unlike other reduction functions (e.g. `skew`, `kurtosis`), the default behavior of `mode` typically preserves the axis it acts along. In SciPy 1.11.0, this behavior will change: the default value of `keepdims` will become False, the `axis` over which the statistic is taken will be eliminated, and the value None will no longer be accepted. Set `keepdims` to True or False to avoid this warning.\n",
      "  mode, _ = stats.mode(_y[neigh_ind, k], axis=1)\n",
      "C:\\Users\\athimmas\\Anaconda3\\lib\\site-packages\\sklearn\\neighbors\\_classification.py:228: FutureWarning: Unlike other reduction functions (e.g. `skew`, `kurtosis`), the default behavior of `mode` typically preserves the axis it acts along. In SciPy 1.11.0, this behavior will change: the default value of `keepdims` will become False, the `axis` over which the statistic is taken will be eliminated, and the value None will no longer be accepted. Set `keepdims` to True or False to avoid this warning.\n",
      "  mode, _ = stats.mode(_y[neigh_ind, k], axis=1)\n",
      "C:\\Users\\athimmas\\Anaconda3\\lib\\site-packages\\sklearn\\neighbors\\_classification.py:228: FutureWarning: Unlike other reduction functions (e.g. `skew`, `kurtosis`), the default behavior of `mode` typically preserves the axis it acts along. In SciPy 1.11.0, this behavior will change: the default value of `keepdims` will become False, the `axis` over which the statistic is taken will be eliminated, and the value None will no longer be accepted. Set `keepdims` to True or False to avoid this warning.\n",
      "  mode, _ = stats.mode(_y[neigh_ind, k], axis=1)\n",
      "C:\\Users\\athimmas\\Anaconda3\\lib\\site-packages\\sklearn\\neighbors\\_classification.py:228: FutureWarning: Unlike other reduction functions (e.g. `skew`, `kurtosis`), the default behavior of `mode` typically preserves the axis it acts along. In SciPy 1.11.0, this behavior will change: the default value of `keepdims` will become False, the `axis` over which the statistic is taken will be eliminated, and the value None will no longer be accepted. Set `keepdims` to True or False to avoid this warning.\n",
      "  mode, _ = stats.mode(_y[neigh_ind, k], axis=1)\n",
      "C:\\Users\\athimmas\\Anaconda3\\lib\\site-packages\\sklearn\\neighbors\\_classification.py:228: FutureWarning: Unlike other reduction functions (e.g. `skew`, `kurtosis`), the default behavior of `mode` typically preserves the axis it acts along. In SciPy 1.11.0, this behavior will change: the default value of `keepdims` will become False, the `axis` over which the statistic is taken will be eliminated, and the value None will no longer be accepted. Set `keepdims` to True or False to avoid this warning.\n",
      "  mode, _ = stats.mode(_y[neigh_ind, k], axis=1)\n",
      "C:\\Users\\athimmas\\Anaconda3\\lib\\site-packages\\sklearn\\neighbors\\_classification.py:228: FutureWarning: Unlike other reduction functions (e.g. `skew`, `kurtosis`), the default behavior of `mode` typically preserves the axis it acts along. In SciPy 1.11.0, this behavior will change: the default value of `keepdims` will become False, the `axis` over which the statistic is taken will be eliminated, and the value None will no longer be accepted. Set `keepdims` to True or False to avoid this warning.\n",
      "  mode, _ = stats.mode(_y[neigh_ind, k], axis=1)\n",
      "C:\\Users\\athimmas\\Anaconda3\\lib\\site-packages\\sklearn\\neighbors\\_classification.py:228: FutureWarning: Unlike other reduction functions (e.g. `skew`, `kurtosis`), the default behavior of `mode` typically preserves the axis it acts along. In SciPy 1.11.0, this behavior will change: the default value of `keepdims` will become False, the `axis` over which the statistic is taken will be eliminated, and the value None will no longer be accepted. Set `keepdims` to True or False to avoid this warning.\n",
      "  mode, _ = stats.mode(_y[neigh_ind, k], axis=1)\n",
      "C:\\Users\\athimmas\\Anaconda3\\lib\\site-packages\\sklearn\\neighbors\\_classification.py:228: FutureWarning: Unlike other reduction functions (e.g. `skew`, `kurtosis`), the default behavior of `mode` typically preserves the axis it acts along. In SciPy 1.11.0, this behavior will change: the default value of `keepdims` will become False, the `axis` over which the statistic is taken will be eliminated, and the value None will no longer be accepted. Set `keepdims` to True or False to avoid this warning.\n",
      "  mode, _ = stats.mode(_y[neigh_ind, k], axis=1)\n",
      "C:\\Users\\athimmas\\Anaconda3\\lib\\site-packages\\sklearn\\neighbors\\_classification.py:228: FutureWarning: Unlike other reduction functions (e.g. `skew`, `kurtosis`), the default behavior of `mode` typically preserves the axis it acts along. In SciPy 1.11.0, this behavior will change: the default value of `keepdims` will become False, the `axis` over which the statistic is taken will be eliminated, and the value None will no longer be accepted. Set `keepdims` to True or False to avoid this warning.\n",
      "  mode, _ = stats.mode(_y[neigh_ind, k], axis=1)\n",
      "C:\\Users\\athimmas\\Anaconda3\\lib\\site-packages\\sklearn\\neighbors\\_classification.py:228: FutureWarning: Unlike other reduction functions (e.g. `skew`, `kurtosis`), the default behavior of `mode` typically preserves the axis it acts along. In SciPy 1.11.0, this behavior will change: the default value of `keepdims` will become False, the `axis` over which the statistic is taken will be eliminated, and the value None will no longer be accepted. Set `keepdims` to True or False to avoid this warning.\n",
      "  mode, _ = stats.mode(_y[neigh_ind, k], axis=1)\n"
     ]
    },
    {
     "name": "stderr",
     "output_type": "stream",
     "text": [
      "C:\\Users\\athimmas\\Anaconda3\\lib\\site-packages\\sklearn\\neighbors\\_classification.py:228: FutureWarning: Unlike other reduction functions (e.g. `skew`, `kurtosis`), the default behavior of `mode` typically preserves the axis it acts along. In SciPy 1.11.0, this behavior will change: the default value of `keepdims` will become False, the `axis` over which the statistic is taken will be eliminated, and the value None will no longer be accepted. Set `keepdims` to True or False to avoid this warning.\n",
      "  mode, _ = stats.mode(_y[neigh_ind, k], axis=1)\n",
      "C:\\Users\\athimmas\\Anaconda3\\lib\\site-packages\\sklearn\\neighbors\\_classification.py:228: FutureWarning: Unlike other reduction functions (e.g. `skew`, `kurtosis`), the default behavior of `mode` typically preserves the axis it acts along. In SciPy 1.11.0, this behavior will change: the default value of `keepdims` will become False, the `axis` over which the statistic is taken will be eliminated, and the value None will no longer be accepted. Set `keepdims` to True or False to avoid this warning.\n",
      "  mode, _ = stats.mode(_y[neigh_ind, k], axis=1)\n",
      "C:\\Users\\athimmas\\Anaconda3\\lib\\site-packages\\sklearn\\neighbors\\_classification.py:228: FutureWarning: Unlike other reduction functions (e.g. `skew`, `kurtosis`), the default behavior of `mode` typically preserves the axis it acts along. In SciPy 1.11.0, this behavior will change: the default value of `keepdims` will become False, the `axis` over which the statistic is taken will be eliminated, and the value None will no longer be accepted. Set `keepdims` to True or False to avoid this warning.\n",
      "  mode, _ = stats.mode(_y[neigh_ind, k], axis=1)\n",
      "C:\\Users\\athimmas\\Anaconda3\\lib\\site-packages\\sklearn\\neighbors\\_classification.py:228: FutureWarning: Unlike other reduction functions (e.g. `skew`, `kurtosis`), the default behavior of `mode` typically preserves the axis it acts along. In SciPy 1.11.0, this behavior will change: the default value of `keepdims` will become False, the `axis` over which the statistic is taken will be eliminated, and the value None will no longer be accepted. Set `keepdims` to True or False to avoid this warning.\n",
      "  mode, _ = stats.mode(_y[neigh_ind, k], axis=1)\n",
      "C:\\Users\\athimmas\\Anaconda3\\lib\\site-packages\\sklearn\\neighbors\\_classification.py:228: FutureWarning: Unlike other reduction functions (e.g. `skew`, `kurtosis`), the default behavior of `mode` typically preserves the axis it acts along. In SciPy 1.11.0, this behavior will change: the default value of `keepdims` will become False, the `axis` over which the statistic is taken will be eliminated, and the value None will no longer be accepted. Set `keepdims` to True or False to avoid this warning.\n",
      "  mode, _ = stats.mode(_y[neigh_ind, k], axis=1)\n",
      "C:\\Users\\athimmas\\Anaconda3\\lib\\site-packages\\sklearn\\neighbors\\_classification.py:228: FutureWarning: Unlike other reduction functions (e.g. `skew`, `kurtosis`), the default behavior of `mode` typically preserves the axis it acts along. In SciPy 1.11.0, this behavior will change: the default value of `keepdims` will become False, the `axis` over which the statistic is taken will be eliminated, and the value None will no longer be accepted. Set `keepdims` to True or False to avoid this warning.\n",
      "  mode, _ = stats.mode(_y[neigh_ind, k], axis=1)\n",
      "C:\\Users\\athimmas\\Anaconda3\\lib\\site-packages\\sklearn\\neighbors\\_classification.py:228: FutureWarning: Unlike other reduction functions (e.g. `skew`, `kurtosis`), the default behavior of `mode` typically preserves the axis it acts along. In SciPy 1.11.0, this behavior will change: the default value of `keepdims` will become False, the `axis` over which the statistic is taken will be eliminated, and the value None will no longer be accepted. Set `keepdims` to True or False to avoid this warning.\n",
      "  mode, _ = stats.mode(_y[neigh_ind, k], axis=1)\n",
      "C:\\Users\\athimmas\\Anaconda3\\lib\\site-packages\\sklearn\\neighbors\\_classification.py:228: FutureWarning: Unlike other reduction functions (e.g. `skew`, `kurtosis`), the default behavior of `mode` typically preserves the axis it acts along. In SciPy 1.11.0, this behavior will change: the default value of `keepdims` will become False, the `axis` over which the statistic is taken will be eliminated, and the value None will no longer be accepted. Set `keepdims` to True or False to avoid this warning.\n",
      "  mode, _ = stats.mode(_y[neigh_ind, k], axis=1)\n"
     ]
    },
    {
     "name": "stdout",
     "output_type": "stream",
     "text": [
      "Area under curve is -  0.9560957472117174\n"
     ]
    },
    {
     "data": {
      "text/plain": [
       "{'whiskers': [<matplotlib.lines.Line2D at 0x1db00478040>,\n",
       "  <matplotlib.lines.Line2D at 0x1db004507f0>],\n",
       " 'caps': [<matplotlib.lines.Line2D at 0x1db00450700>,\n",
       "  <matplotlib.lines.Line2D at 0x1db0045a3a0>],\n",
       " 'boxes': [<matplotlib.lines.Line2D at 0x1db00450bb0>],\n",
       " 'medians': [<matplotlib.lines.Line2D at 0x1db0045adf0>],\n",
       " 'fliers': [<matplotlib.lines.Line2D at 0x1db0045a6d0>],\n",
       " 'means': []}"
      ]
     },
     "execution_count": 88,
     "metadata": {},
     "output_type": "execute_result"
    },
    {
     "data": {
      "image/png": "[encoded data removed]",
      "text/plain": [
       "<Figure size 640x480 with 1 Axes>"
      ]
     },
     "metadata": {},
     "output_type": "display_data"
    }
   ],
   "source": [
    "X = data_top10\n",
    "y = data['FraudFound_P']\n",
    "\n",
    "counter = Counter(y)\n",
    "print(counter)\n",
    "\n",
    "\n",
    "aucValid_SVMSMOTEKNN = list()\n",
    "\n",
    "for i in range(0,21):\n",
    "    over = SVMSMOTE(random_state=i)\n",
    "    under = RandomUnderSampler(sampling_strategy=1)\n",
    "    steps = [('o', over), ('u', under)]\n",
    "    SMOTESampling = SamplingPipeline(steps=steps)\n",
    "    X_resampled, y_resampled = SMOTESampling.fit_resample(X, y)\n",
    "\n",
    "    if i == 1:\n",
    "        counter = Counter(y_resampled)\n",
    "        print(counter)\n",
    "\n",
    "    X_train,X_valid,y_train,y_valid = train_test_split(X_resampled,y_resampled, train_size=0.6, random_state=1)\n",
    "\n",
    "    if i == 1:\n",
    "        counter = Counter(y_train)\n",
    "        print(counter)\n",
    "        counter = Counter(y_valid)\n",
    "        print(counter)\n",
    "\n",
    "    k = 5\n",
    "    \n",
    "    if k == 1:\n",
    "        print(\"Value of K is - \",k)\n",
    "    #KNN = UnderSample_LogitReg = Pipeline([('scaler',StandardScaler()), ('KNN',KNeighborsClassifier(n_neighbors=k))])\n",
    "    KNN = KNeighborsClassifier(n_neighbors=k)\n",
    "    KNN.fit(X_train,y_train)\n",
    "    \n",
    "    y_pred = KNN.predict(X_valid)\n",
    "    \n",
    "    if k == 1:\n",
    "        classificationSummary(y_valid, y_pred, class_names=classes)\n",
    "        print(metrics.classification_report(y_valid,y_pred))\n",
    "        \n",
    "    y_pred_proba= KNN.predict_proba(X_valid)[::,1]\n",
    "    auc = metrics.roc_auc_score(y_valid,y_pred_proba)\n",
    "    if k == 1:\n",
    "        print(\"Area under curve is - \", auc)\n",
    "\n",
    "\n",
    "    y_pred = KNN.predict(X_valid)\n",
    "    \n",
    "    if i == 1:\n",
    "        classificationSummary(y_valid, y_pred, class_names=classes)\n",
    "        print(metrics.classification_report(y_valid,y_pred))\n",
    "        \n",
    "    y_pred_proba= KNN.predict_proba(X_valid)[::,1]\n",
    "    auc = metrics.roc_auc_score(y_valid,y_pred_proba)\n",
    "    aucValid_SVMSMOTEKNN.append(auc)\n",
    "\n",
    "print(\"Area under curve is - \", auc)\n",
    "\n",
    "plt.figure()\n",
    "plt.boxplot(aucValid_SVMSMOTEKNN)    "
   ]
  },
  {
   "cell_type": "code",
   "execution_count": 144,
   "id": "42142da7",
   "metadata": {},
   "outputs": [
    {
     "data": {
      "text/plain": [
       "0.9532560411118853"
      ]
     },
     "execution_count": 144,
     "metadata": {},
     "output_type": "execute_result"
    }
   ],
   "source": [
    "fp= open(r'./aucValid_SVMSMOTEKNN.txt', 'w')\n",
    "fp.write(str(aucValid_SVMSMOTEKNN))\n",
    "fp.close()\n",
    "\n",
    "np.mean(aucValid_SVMSMOTEKNN)"
   ]
  },
  {
   "cell_type": "markdown",
   "id": "0457c9a8",
   "metadata": {},
   "source": [
    "## SVM with SVM SMOTE"
   ]
  },
  {
   "cell_type": "code",
   "execution_count": 89,
   "id": "2de30e1a",
   "metadata": {},
   "outputs": [
    {
     "name": "stdout",
     "output_type": "stream",
     "text": [
      "Counter({0: 14208, 1: 892})\n",
      "Counter({0: 14208, 1: 14208})\n",
      "Counter({1: 8580, 0: 8469})\n",
      "Counter({0: 5739, 1: 5628})\n",
      "Confusion Matrix (Accuracy 0.9023)\n",
      "\n",
      "       Prediction\n",
      "Actual    0    1\n",
      "     0 8469    0\n",
      "     1 1665 6915\n",
      "              precision    recall  f1-score   support\n",
      "\n",
      "           0       0.84      1.00      0.91      8469\n",
      "           1       1.00      0.81      0.89      8580\n",
      "\n",
      "    accuracy                           0.90     17049\n",
      "   macro avg       0.92      0.90      0.90     17049\n",
      "weighted avg       0.92      0.90      0.90     17049\n",
      "\n",
      "Area under curve is -  0.9264879991500607\n",
      "Confusion Matrix (Accuracy 0.9048)\n",
      "\n",
      "       Prediction\n",
      "Actual    0    1\n",
      "     0 5739    0\n",
      "     1 1082 4546\n",
      "              precision    recall  f1-score   support\n",
      "\n",
      "           0       0.84      1.00      0.91      5739\n",
      "           1       1.00      0.81      0.89      5628\n",
      "\n",
      "    accuracy                           0.90     11367\n",
      "   macro avg       0.92      0.90      0.90     11367\n",
      "weighted avg       0.92      0.90      0.90     11367\n",
      "\n",
      "Area under curve is -  0.9297494957443386\n",
      "Confusion Matrix (Accuracy 0.9409)\n",
      "\n",
      "       Prediction\n",
      "Actual     0     1\n",
      "     0 14208     0\n",
      "     1   892     0\n",
      "              precision    recall  f1-score   support\n",
      "\n",
      "           0       0.94      1.00      0.97     14208\n",
      "           1       0.00      0.00      0.00       892\n",
      "\n",
      "    accuracy                           0.94     15100\n",
      "   macro avg       0.47      0.50      0.48     15100\n",
      "weighted avg       0.89      0.94      0.91     15100\n",
      "\n"
     ]
    },
    {
     "name": "stderr",
     "output_type": "stream",
     "text": [
      "C:\\Users\\athimmas\\Anaconda3\\lib\\site-packages\\sklearn\\metrics\\_classification.py:1318: UndefinedMetricWarning: Precision and F-score are ill-defined and being set to 0.0 in labels with no predicted samples. Use `zero_division` parameter to control this behavior.\n",
      "  _warn_prf(average, modifier, msg_start, len(result))\n",
      "C:\\Users\\athimmas\\Anaconda3\\lib\\site-packages\\sklearn\\metrics\\_classification.py:1318: UndefinedMetricWarning: Precision and F-score are ill-defined and being set to 0.0 in labels with no predicted samples. Use `zero_division` parameter to control this behavior.\n",
      "  _warn_prf(average, modifier, msg_start, len(result))\n",
      "C:\\Users\\athimmas\\Anaconda3\\lib\\site-packages\\sklearn\\metrics\\_classification.py:1318: UndefinedMetricWarning: Precision and F-score are ill-defined and being set to 0.0 in labels with no predicted samples. Use `zero_division` parameter to control this behavior.\n",
      "  _warn_prf(average, modifier, msg_start, len(result))\n"
     ]
    },
    {
     "name": "stdout",
     "output_type": "stream",
     "text": [
      "Area under curve is -  0.6481813362900455\n"
     ]
    }
   ],
   "source": [
    "X = data_top10\n",
    "y = data['FraudFound_P']\n",
    "\n",
    "counter = Counter(y)\n",
    "print(counter)\n",
    "\n",
    "over = SVMSMOTE()\n",
    "under = RandomUnderSampler(sampling_strategy=1)\n",
    "steps = [('o', over), ('u', under)]\n",
    "SMOTESampling = SamplingPipeline(steps=steps)\n",
    "\n",
    "X_resampled, y_resampled = SMOTESampling.fit_resample(X, y)\n",
    "# summarize the new class distribution\n",
    "counter = Counter(y_resampled)\n",
    "print(counter)\n",
    "\n",
    "X_train,X_valid,y_train,y_valid = train_test_split(X_resampled,y_resampled, train_size=0.6, random_state=1)\n",
    "\n",
    "counter = Counter(y_train)\n",
    "print(counter)\n",
    "counter = Counter(y_valid)\n",
    "print(counter)\n",
    "\n",
    "# SVM\n",
    "SVM = svm.SVC(probability=True)\n",
    "SVM.fit(X_train, y_train)\n",
    "classes = defaultTree.classes_\n",
    "                      \n",
    "y_pred = SVM.predict(X_train)\n",
    "classificationSummary(y_train, y_pred, class_names=classes)\n",
    "print(metrics.classification_report(y_train,y_pred))\n",
    "y_pred_proba= SVM.predict_proba(X_train)[::,1]\n",
    "auc = metrics.roc_auc_score(y_train,y_pred_proba)\n",
    "print(\"Area under curve is - \", auc)\n",
    "\n",
    "y_pred = SVM.predict(X_valid)\n",
    "classificationSummary(y_valid, y_pred, class_names=classes)\n",
    "print(metrics.classification_report(y_valid,y_pred))\n",
    "y_pred_proba= SVM.predict_proba(X_valid)[::,1]\n",
    "auc = metrics.roc_auc_score(y_valid,y_pred_proba)\n",
    "print(\"Area under curve is - \", auc)\n",
    "\n",
    "y_pred = SVM.predict(X)\n",
    "classificationSummary(y, y_pred, class_names=classes)\n",
    "print(metrics.classification_report(y,y_pred))\n",
    "y_pred_proba= SVM.predict_proba(X)[::,1]\n",
    "aucSVM_undersample = metrics.roc_auc_score(y,y_pred_proba)\n",
    "print(\"Area under curve is - \", aucSVM_undersample)"
   ]
  },
  {
   "cell_type": "code",
   "execution_count": 91,
   "id": "db2f7f2a",
   "metadata": {},
   "outputs": [
    {
     "name": "stdout",
     "output_type": "stream",
     "text": [
      "Counter({0: 14208, 1: 892})\n",
      "Counter({0: 14208, 1: 14208})\n",
      "Counter({1: 8580, 0: 8469})\n",
      "Counter({0: 5739, 1: 5628})\n",
      "Confusion Matrix (Accuracy 0.8065)\n",
      "\n",
      "       Prediction\n",
      "Actual    0    1\n",
      "     0 5739    0\n",
      "     1 2199 3429\n",
      "              precision    recall  f1-score   support\n",
      "\n",
      "           0       0.72      1.00      0.84      5739\n",
      "           1       1.00      0.61      0.76      5628\n",
      "\n",
      "    accuracy                           0.81     11367\n",
      "   macro avg       0.86      0.80      0.80     11367\n",
      "weighted avg       0.86      0.81      0.80     11367\n",
      "\n",
      "Area under curve is -  0.8940810936728499\n"
     ]
    },
    {
     "data": {
      "image/png": "[encoded data removed]",
      "text/plain": [
       "<Figure size 640x480 with 1 Axes>"
      ]
     },
     "metadata": {},
     "output_type": "display_data"
    }
   ],
   "source": [
    "if RunSVM:    \n",
    "    X = data_top10\n",
    "    y = data['FraudFound_P']\n",
    "\n",
    "    counter = Counter(y)\n",
    "    print(counter)\n",
    "\n",
    "    aucSVM_SVMSMOTE = list()\n",
    "\n",
    "    for i in range(1,21):\n",
    "        over = SVMSMOTE(random_state=i)\n",
    "        under = RandomUnderSampler(sampling_strategy=1)\n",
    "        steps = [('o', over), ('u', under)]\n",
    "        SMOTESampling = SamplingPipeline(steps=steps)\n",
    "        X_resampled, y_resampled = SMOTESampling.fit_resample(X, y)\n",
    "\n",
    "        if i == 1:\n",
    "            counter = Counter(y_resampled)\n",
    "            print(counter)\n",
    "\n",
    "        X_train,X_valid,y_train,y_valid = train_test_split(X_resampled,y_resampled, train_size=0.6, random_state=1)\n",
    "\n",
    "        if i == 1:\n",
    "            counter = Counter(y_train)\n",
    "            print(counter)\n",
    "            counter = Counter(y_valid)\n",
    "            print(counter)\n",
    "\n",
    "        # SVM\n",
    "        SVM = svm.SVC(probability=True)\n",
    "        SVM.fit(X_train, y_train)\n",
    "        classes = SVM.classes_\n",
    "\n",
    "\n",
    "        y_pred = SVM.predict(X_valid)\n",
    "\n",
    "        if i == 1:\n",
    "            classificationSummary(y_valid, y_pred, class_names=classes)\n",
    "\n",
    "        if i == 1:\n",
    "            print(metrics.classification_report(y_valid,y_pred))\n",
    "\n",
    "        y_pred_proba = SVM.predict_proba(X_valid)[::,1]\n",
    "        auc = metrics.roc_auc_score(y_valid,y_pred_proba)\n",
    "        aucSVM_SVMSMOTE.append(auc)\n",
    "\n",
    "        if i == 1:\n",
    "            print(\"Area under curve is - \", auc)\n",
    "\n",
    "    plt.figure()\n",
    "    plt.boxplot(aucSVM_SVMSMOTE)  "
   ]
  },
  {
   "cell_type": "code",
   "execution_count": 145,
   "id": "35b7430a",
   "metadata": {},
   "outputs": [
    {
     "data": {
      "text/plain": [
       "0.9000226461474522"
      ]
     },
     "execution_count": 145,
     "metadata": {},
     "output_type": "execute_result"
    }
   ],
   "source": [
    "fp= open(r'./aucSVM_SVMSMOTE.txt', 'w')\n",
    "fp.write(str(aucSVM_SVMSMOTE))\n",
    "fp.close()\n",
    "\n",
    "np.mean(aucSVM_SVMSMOTE)"
   ]
  }
 ],
 "metadata": {
  "colab": {
   "provenance": []
  },
  "kernelspec": {
   "display_name": "Python 3 (ipykernel)",
   "language": "python",
   "name": "python3"
  },
  "language_info": {
   "codemirror_mode": {
    "name": "ipython",
    "version": 3
   },
   "file_extension": ".py",
   "mimetype": "text/x-python",
   "name": "python",
   "nbconvert_exporter": "python",
   "pygments_lexer": "ipython3",
   "version": "3.9.13"
  }
 },
 "nbformat": 4,
 "nbformat_minor": 5
}
